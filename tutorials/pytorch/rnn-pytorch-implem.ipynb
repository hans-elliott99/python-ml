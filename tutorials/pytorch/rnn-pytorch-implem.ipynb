{
 "cells": [
  {
   "cell_type": "code",
   "execution_count": 185,
   "metadata": {},
   "outputs": [],
   "source": [
    "# https://pytorch.org/tutorials/intermediate/char_rnn_classification_tutorial.html\n",
    "\n",
    "# Text preprocessing\n",
    "from __future__ import unicode_literals, print_function, division\n",
    "from io import open\n",
    "import glob\n",
    "import os\n",
    "import unicodedata\n",
    "import string\n",
    "\n",
    "# Model/Train Helpers\n",
    "import random\n",
    "import time\n",
    "import math\n",
    "import matplotlib.pyplot as plt\n",
    "import matplotlib.ticker as ticker\n",
    "\n",
    "\n",
    "\n",
    "# PyTorch\n",
    "import torch\n",
    "import torch.nn as nn"
   ]
  },
  {
   "cell_type": "markdown",
   "metadata": {},
   "source": [
    "# Character-Level RNN for Classifying Name Origins"
   ]
  },
  {
   "cell_type": "markdown",
   "metadata": {},
   "source": [
    "## Collecting Data"
   ]
  },
  {
   "cell_type": "code",
   "execution_count": 11,
   "metadata": {},
   "outputs": [
    {
     "name": "stdout",
     "output_type": "stream",
     "text": [
      "['./data/rnn_tut_data/names\\\\Arabic.txt', './data/rnn_tut_data/names\\\\Chinese.txt', './data/rnn_tut_data/names\\\\Czech.txt', './data/rnn_tut_data/names\\\\Dutch.txt', './data/rnn_tut_data/names\\\\English.txt', './data/rnn_tut_data/names\\\\French.txt', './data/rnn_tut_data/names\\\\German.txt', './data/rnn_tut_data/names\\\\Greek.txt', './data/rnn_tut_data/names\\\\Irish.txt', './data/rnn_tut_data/names\\\\Italian.txt', './data/rnn_tut_data/names\\\\Japanese.txt', './data/rnn_tut_data/names\\\\Korean.txt', './data/rnn_tut_data/names\\\\Polish.txt', './data/rnn_tut_data/names\\\\Portuguese.txt', './data/rnn_tut_data/names\\\\Russian.txt', './data/rnn_tut_data/names\\\\Scottish.txt', './data/rnn_tut_data/names\\\\Spanish.txt', './data/rnn_tut_data/names\\\\Vietnamese.txt']\n"
     ]
    }
   ],
   "source": [
    "def findFiles(path): return glob.glob(path)\n",
    "print(findFiles('./data/rnn_tut_data/names/*.txt'))"
   ]
  },
  {
   "cell_type": "code",
   "execution_count": 9,
   "metadata": {},
   "outputs": [
    {
     "name": "stdout",
     "output_type": "stream",
     "text": [
      "abcdefghijklmnopqrstuvwxyzABCDEFGHIJKLMNOPQRSTUVWXYZ .,;'\n",
      "n_letters = 57\n"
     ]
    }
   ],
   "source": [
    "# All letters in the vocabulary\n",
    "all_letters = string.ascii_letters + \" .,;'\"\n",
    "n_letters = len(all_letters)\n",
    "print(all_letters)\n",
    "print(f\"{n_letters = }\")"
   ]
  },
  {
   "cell_type": "code",
   "execution_count": 17,
   "metadata": {},
   "outputs": [
    {
     "data": {
      "text/plain": [
       "'Slusarski'"
      ]
     },
     "execution_count": 17,
     "metadata": {},
     "output_type": "execute_result"
    }
   ],
   "source": [
    "def unicodeToAscii(s):\n",
    "    return ''.join(\n",
    "        c for c in unicodedata.normalize('NFD', s)\n",
    "        if unicodedata.category(c) != 'Mn'\n",
    "        and c in all_letters\n",
    "    )    \n",
    "\n",
    "# Read a file and split into lines\n",
    "def readLines(filename):\n",
    "    lines = open(filename, encoding='utf-8').read().strip().split('\\n')\n",
    "    return [unicodeToAscii(line) for line in lines]\n",
    "\n",
    "\n",
    "# example\n",
    "unicodeToAscii('Ślusàrski')"
   ]
  },
  {
   "cell_type": "code",
   "execution_count": 66,
   "metadata": {},
   "outputs": [
    {
     "name": "stdout",
     "output_type": "stream",
     "text": [
      "n_categories = 18\n"
     ]
    },
    {
     "data": {
      "text/plain": [
       "['Abandonato',\n",
       " 'Abatangelo',\n",
       " 'Abatantuono',\n",
       " 'Abate',\n",
       " 'Abategiovanni',\n",
       " 'Abatescianni',\n",
       " 'Abba',\n",
       " 'Abbadelli',\n",
       " 'Abbascia',\n",
       " 'Abbatangelo']"
      ]
     },
     "execution_count": 66,
     "metadata": {},
     "output_type": "execute_result"
    }
   ],
   "source": [
    "# Build the category_lines dictionary, a list of names per language\n",
    "category_lines = {}\n",
    "all_categories = []\n",
    "for filename in findFiles('data/rnn_tut_data/names/*.txt'):\n",
    "    category = os.path.splitext(os.path.basename(filename))[0]\n",
    "    all_categories.append(category)\n",
    "    lines = readLines(filename)\n",
    "    category_lines[category] = lines\n",
    "\n",
    "n_categories = len(all_categories)\n",
    "print(f\"{n_categories = }\")\n",
    "\n",
    "category_lines['Italian'][:10]\n"
   ]
  },
  {
   "cell_type": "markdown",
   "metadata": {},
   "source": [
    "## Data -> Tensors"
   ]
  },
  {
   "cell_type": "code",
   "execution_count": 135,
   "metadata": {},
   "outputs": [
    {
     "name": "stdout",
     "output_type": "stream",
     "text": [
      "tensor([[0., 0., 0., 0., 0., 0., 0., 0., 0., 0., 0., 0., 0., 0., 0., 0., 0., 0.,\n",
      "         0., 0., 0., 0., 0., 0., 0., 0., 0., 0., 0., 0., 0., 0., 0., 0., 0., 1.,\n",
      "         0., 0., 0., 0., 0., 0., 0., 0., 0., 0., 0., 0., 0., 0., 0., 0., 0., 0.,\n",
      "         0., 0., 0.]])\n",
      "torch.Size([5, 1, 57])\n"
     ]
    }
   ],
   "source": [
    "def letterToIndex(letter):\n",
    "    return all_letters.find(letter)\n",
    "\n",
    "def letterToTensor(letter):\n",
    "    tensor = torch.zeros(1, n_letters)\n",
    "    tensor[0][letterToIndex(letter)] = 1 ##index the letter in the onehot-encoding\n",
    "    return tensor\n",
    "\n",
    "# Turn a line into a <line_length x 1 x n_letters>,\n",
    "# or an array of one-hot letter vectors\n",
    "def lineToTensor(line):\n",
    "    tensor = torch.zeros(len(line), 1, n_letters)\n",
    "    for li, letter in enumerate(line):\n",
    "        tensor[li][0][letterToIndex(letter)] = 1\n",
    "    return tensor\n",
    "\n",
    "print( letterToTensor(\"J\") )\n",
    "print( (lineToTensor(\"Hello\")).shape )\n"
   ]
  },
  {
   "cell_type": "markdown",
   "metadata": {},
   "source": [
    "## Helper Functions"
   ]
  },
  {
   "cell_type": "code",
   "execution_count": 68,
   "metadata": {},
   "outputs": [],
   "source": [
    "def categoryFromOutput(output):\n",
    "    \"\"\"Decode model output into category prediction\"\"\"\n",
    "    top_n, top_i = output.topk(1)\n",
    "    category_i = top_i[0].item()\n",
    "    return all_categories[category_i], category_i"
   ]
  },
  {
   "cell_type": "code",
   "execution_count": 69,
   "metadata": {},
   "outputs": [
    {
     "name": "stdout",
     "output_type": "stream",
     "text": [
      "category = Russian / line = Yakunichev\n",
      "category = Vietnamese / line = Doan\n",
      "category = Italian / line = Alunni\n",
      "category = Spanish / line = Rodriquez\n",
      "category = Dutch / line = Stoep\n",
      "category = Irish / line = Rinn\n",
      "category = Scottish / line = Sinclair\n",
      "category = Vietnamese / line = Ly\n",
      "category = English / line = Goodridge\n",
      "category = English / line = Noonan\n"
     ]
    }
   ],
   "source": [
    "def randomChoice(l):\n",
    "    return l[random.randint(0, len(l) - 1)]\n",
    "\n",
    "def randomTrainingExample():\n",
    "    \"\"\"Randomly pick training examples\"\"\"\n",
    "    category = randomChoice(all_categories)\n",
    "    line = randomChoice(category_lines[category])\n",
    "    category_tensor = torch.tensor([all_categories.index(category)], dtype=torch.long)\n",
    "    line_tensor = lineToTensor(line)\n",
    "    return category, line, category_tensor, line_tensor\n",
    "\n",
    "for i in range(10):\n",
    "    category, line, category_tensor, line_tensor = randomTrainingExample()\n",
    "    print('category =', category, '/ line =', line)\n"
   ]
  },
  {
   "cell_type": "markdown",
   "metadata": {},
   "source": [
    "## RNN\n",
    "\n"
   ]
  },
  {
   "cell_type": "code",
   "execution_count": 70,
   "metadata": {},
   "outputs": [
    {
     "data": {
      "text/plain": [
       "'\\nBasic RNN Diagram\\n\\n\\n[input]          [hidden]<---\\n    |_____      _____|      |\\n          |    |            |\\n        [combined (+)]      |\\n    _____|          |       |\\n   |                |       |\\n  (i2o)            (i2h)    |      (Linear NN layers)\\n   |                |       |\\n[softmax]           |       |\\n   |                ⬇       |       \\n   ⬇             [hidden]--->\\n[OUTPUT]\\n\\n'"
      ]
     },
     "execution_count": 70,
     "metadata": {},
     "output_type": "execute_result"
    }
   ],
   "source": [
    "\"\"\"\n",
    "Basic RNN Diagram\n",
    "\n",
    "\n",
    "[input]          [hidden]<---\n",
    "    |_____      _____|      |\n",
    "          |    |            |\n",
    "        [combined (cat)]    |\n",
    "    _____|          |       |\n",
    "   |                |       |\n",
    "  (i2o)            (i2h)    |      (Linear NN 'hidden layers')\n",
    "   |                |       |       (could apply an activation function)\n",
    "[softmax]           |       |\n",
    "   |                ⬇       |       \n",
    "   ⬇             [hidden]--->\n",
    "[OUTPUT]\n",
    "\n",
    "\"\"\""
   ]
  },
  {
   "cell_type": "code",
   "execution_count": 314,
   "metadata": {},
   "outputs": [],
   "source": [
    "class RNN(nn.Module):\n",
    "    def __init__(self, input_size, hidden_size, output_size):\n",
    "        super(RNN, self).__init__()\n",
    "\n",
    "        self.hidden_size = hidden_size\n",
    "        self.i2h = nn.Linear(in_features = input_size + hidden_size, \n",
    "                            out_features = hidden_size)\n",
    "        self.i2o = nn.Linear(in_features = input_size + hidden_size,\n",
    "                            out_features = output_size)\n",
    "        self.tanh = nn.Tanh()\n",
    "        self.softmax = nn.LogSoftmax(dim=1)\n",
    "\n",
    "        # reinitialize weights if recalling __init__\n",
    "        self.apply(self._init_weights)\n",
    "    \n",
    "    def forward(self, input, hidden):\n",
    "        \"\"\"Concatenate the inputs with the hidden state and forward pass through the linear layers (+ softmax).\"\"\"\n",
    "        combined = torch.cat((input, hidden), dim=1)\n",
    "        hidden = self.tanh(self.i2h(combined))\n",
    "        output = self.softmax(self.i2o(combined))\n",
    "        return output, hidden\n",
    "\n",
    "    def init_hidden(self):\n",
    "        \"\"\"initialization for the hidden state with the zero vector.\"\"\"\n",
    "        return torch.zeros(1, self.hidden_size)\n",
    "    \n",
    "\n",
    "    def _init_weights(self, module):\n",
    "        \"\"\"Reinitialize weights and biases.\"\"\"\n",
    "        if isinstance(module, nn.Linear):\n",
    "            torch.nn.init.xavier_uniform_(module.weight.data) ##since using tanh\n",
    "            if module.bias is not None:\n",
    "                module.bias.data.zero_()"
   ]
  },
  {
   "cell_type": "code",
   "execution_count": 316,
   "metadata": {},
   "outputs": [
    {
     "name": "stdout",
     "output_type": "stream",
     "text": [
      "> Albert\n",
      "torch.Size([1, 18])\n",
      "('Russian', 14)\n"
     ]
    }
   ],
   "source": [
    "# DEFINE MODEL (decided to use 2 RNN layers)\n",
    "torch.manual_seed(12345)\n",
    "n_hidden = 128\n",
    "\n",
    "rnn0 = RNN(input_size=n_letters, hidden_size=n_hidden, output_size=n_categories)\n",
    "# rnn1 = RNN(input_size=n_hidden, hidden_size=n_hidden, output_size=n_categories) ##input needs to match output of last layer\n",
    "\n",
    "\n",
    "\n",
    "\n",
    "# Example output\n",
    "print(\"> Albert\")\n",
    "input = lineToTensor(\"Albert\")\n",
    "hidden0 = torch.zeros(1, n_hidden)\n",
    "hidden1 = torch.zeros(1, n_hidden)\n",
    "\n",
    "output0, next_hidden0 = rnn0(input[0], hidden0)\n",
    "# output, next_hidden1  = rnn1(output0, hidden1)\n",
    "output = output0\n",
    "\n",
    "print(output.shape) ##1 x n_categories, where every category is the likelihood of that category.\n",
    "print(categoryFromOutput(output)) ## decoded prediction\n"
   ]
  },
  {
   "cell_type": "code",
   "execution_count": 317,
   "metadata": {},
   "outputs": [
    {
     "data": {
      "text/plain": [
       "27156"
      ]
     },
     "execution_count": 317,
     "metadata": {},
     "output_type": "execute_result"
    }
   ],
   "source": [
    "params = 0\n",
    "for p in rnn0.parameters():\n",
    "    params += p.nelement()\n",
    "params * 1"
   ]
  },
  {
   "cell_type": "code",
   "execution_count": 318,
   "metadata": {},
   "outputs": [],
   "source": [
    "# Create a train function (one training step)\n",
    "\n",
    "def train_step(category_tensor, line_tensor, criterion, lr):\n",
    "    \"\"\"Perform one forward and backward pass, and update model's weights.\"\"\"\n",
    "    \n",
    "    # Initialize the hidden states (with zeros)\n",
    "    hidden0 = rnn0.init_hidden() \n",
    "    # hidden1 = rnn1.init_hidden()\n",
    "\n",
    "    # Zero and gradients\n",
    "    rnn0.zero_grad()\n",
    "    # rnn1.zero_grad()\n",
    "\n",
    "    # FORWARD PASS\n",
    "    for i in range(line_tensor.shape[0]):\n",
    "        # FEED IN EACH CHARACTER OF THE LINE\n",
    "        ## GET THE OUTPUT AND THE NEW HIDDEN STATE\n",
    "        output0, hidden0 = rnn0(line_tensor[i], hidden0)\n",
    "        # output1, hidden1 = rnn1(output0, hidden1)\n",
    "        output = output0\n",
    "    \n",
    "    # BACKWARD PASS\n",
    "    loss = criterion(output, category_tensor) ##provide the model's output (predicted categories) and the true categories\n",
    "    loss.backward() #backprop\n",
    "\n",
    "    # UPDATE\n",
    "    for p in rnn0.parameters():\n",
    "        p.data += -lr * p.grad\n",
    "    # for p in rnn1.parameters():\n",
    "    #     p.data += -lr * p.grad\n",
    "\n",
    "    return output, loss.item()"
   ]
  },
  {
   "cell_type": "markdown",
   "metadata": {},
   "source": [
    "## training loop"
   ]
  },
  {
   "cell_type": "code",
   "execution_count": 271,
   "metadata": {},
   "outputs": [
    {
     "data": {
      "text/plain": [
       "['Abandonato']"
      ]
     },
     "execution_count": 271,
     "metadata": {},
     "output_type": "execute_result"
    }
   ],
   "source": [
    "category_lines['Italian'][:1]"
   ]
  },
  {
   "cell_type": "code",
   "execution_count": 319,
   "metadata": {},
   "outputs": [],
   "source": [
    "lr = 0.03\n",
    "\n",
    "n_iters = 10_000\n",
    "print_every = 1000\n",
    "plot_every = 100\n",
    "\n",
    "current_loss = 0\n",
    "all_losses = []\n",
    "\n",
    "\n",
    "def timeSince(since):\n",
    "    now = time.time()\n",
    "    s = now - since\n",
    "    m = math.floor(s / 60)\n",
    "    s -= m * 60\n",
    "    return '%dm %ds' % (m, s)"
   ]
  },
  {
   "cell_type": "code",
   "execution_count": 320,
   "metadata": {},
   "outputs": [
    {
     "name": "stdout",
     "output_type": "stream",
     "text": [
      "1000 10% (0m 2s) 0.0004 Abandonato / Italian ✓\n",
      "2000 20% (0m 4s) 0.0002 Abandonato / Italian ✓\n",
      "3000 30% (0m 6s) 0.0001 Abandonato / Italian ✓\n",
      "4000 40% (0m 8s) 0.0001 Abandonato / Italian ✓\n",
      "5000 50% (0m 11s) 0.0001 Abandonato / Italian ✓\n",
      "6000 60% (0m 13s) 0.0001 Abandonato / Italian ✓\n",
      "7000 70% (0m 16s) 0.0000 Abandonato / Italian ✓\n",
      "8000 80% (0m 18s) 0.0000 Abandonato / Italian ✓\n",
      "9000 90% (0m 21s) 0.0000 Abandonato / Italian ✓\n",
      "10000 100% (0m 23s) 0.0000 Abandonato / Italian ✓\n"
     ]
    }
   ],
   "source": [
    "loss_fn = nn.NLLLoss()\n",
    "test_1_sample = True\n",
    "\n",
    "start = time.time()\n",
    "for iter in range(1, n_iters+1):\n",
    "    # Get a batch (a random training example)\n",
    "    category, line, category_tensor, line_tensor = randomTrainingExample()\n",
    "    if test_1_sample:\n",
    "        category, line = \"Italian\", \"Abandonato\"\n",
    "        line_tensor = lineToTensor(line)\n",
    "        category_tensor = torch.tensor([all_categories.index(category)], dtype=torch.long)\n",
    "\n",
    "    # Perforam a train step and record loss\n",
    "    output, loss = train_step(category_tensor, line_tensor, lr=lr, criterion=loss_fn)\n",
    "    current_loss += loss\n",
    "\n",
    "    # print updates\n",
    "    if (iter % print_every) == 0:\n",
    "        guess, guess_i = categoryFromOutput(output)\n",
    "        correct = '✓' if guess == category else '✗ (%s)' % category\n",
    "        print('%d %d%% (%s) %.4f %s / %s %s' % (iter, iter / n_iters * 100, timeSince(start), loss, line, guess, correct))\n",
    "\n",
    "    # Add current loss avg to list of losses\n",
    "    if (iter % plot_every) == 0:\n",
    "        all_losses.append(current_loss / plot_every)\n",
    "        current_loss = 0"
   ]
  },
  {
   "cell_type": "code",
   "execution_count": 321,
   "metadata": {},
   "outputs": [
    {
     "data": {
      "image/png": "[encoded data removed]",
      "text/plain": [
       "<Figure size 432x288 with 1 Axes>"
      ]
     },
     "metadata": {
      "needs_background": "light"
     },
     "output_type": "display_data"
    }
   ],
   "source": [
    "plt.plot(all_losses)\n",
    "plt.show()"
   ]
  },
  {
   "cell_type": "markdown",
   "metadata": {},
   "source": [
    "# Confusion Matrix"
   ]
  },
  {
   "cell_type": "code",
   "execution_count": 292,
   "metadata": {},
   "outputs": [],
   "source": [
    "# Just return an output given a line\n",
    "def evaluate(line_tensor):\n",
    "    hidden = rnn0.init_hidden()\n",
    "\n",
    "    for i in range(line_tensor.size()[0]):\n",
    "        output, hidden = rnn0(line_tensor[i], hidden)\n",
    "\n",
    "    return output\n",
    "\n"
   ]
  },
  {
   "cell_type": "code",
   "execution_count": null,
   "metadata": {},
   "outputs": [],
   "source": [
    "# Keep track of correct guesses in a confusion matrix (2x2 torch tensor)\n",
    "confusion = torch.zeros(n_categories, n_categories)\n",
    "n_confusion = 10000\n",
    "\n",
    "# Go through a bunch of examples and record which are correctly guessed\n",
    "for i in range(n_confusion):\n",
    "    category, line, category_tensor, line_tensor = randomTrainingExample()\n",
    "    output = evaluate(line_tensor)\n",
    "    guess, guess_i = categoryFromOutput(output)\n",
    "    category_i = all_categories.index(category)\n",
    "    confusion[category_i][guess_i] += 1\n",
    "\n",
    "# Normalize by dividing every row by its sum\n",
    "for i in range(n_categories):\n",
    "    confusion[i] = confusion[i] / confusion[i].sum()\n",
    "\n",
    "\n",
    "# Set up plot\n",
    "fig = plt.figure(figsize=(10,5))\n",
    "ax = fig.add_subplot(111)\n",
    "cax = ax.matshow(confusion.numpy())\n",
    "fig.colorbar(cax)\n",
    "\n",
    "# # Set up axes\n",
    "ax.set_xticklabels([''] + all_categories, rotation=90)\n",
    "ax.set_yticklabels([''] + all_categories)\n",
    "\n",
    "# Force label at every tick\n",
    "ax.xaxis.set_major_locator(ticker.MultipleLocator(1))\n",
    "ax.yaxis.set_major_locator(ticker.MultipleLocator(1))\n",
    "\n",
    "# sphinx_gallery_thumbnail_number = 2\n",
    "plt.show()"
   ]
  },
  {
   "cell_type": "markdown",
   "metadata": {},
   "source": [
    "# User Input"
   ]
  },
  {
   "cell_type": "code",
   "execution_count": 293,
   "metadata": {},
   "outputs": [],
   "source": [
    "def predict(input_line, n_predictions=3):\n",
    "    print('\\n> %s' % input_line)\n",
    "    with torch.no_grad():\n",
    "        output = evaluate(lineToTensor(input_line))\n",
    "\n",
    "        # Get top N categories\n",
    "        topv, topi = output.topk(n_predictions, 1, True)\n",
    "        predictions = []\n",
    "\n",
    "        for i in range(n_predictions):\n",
    "            value = topv[0][i].item()\n",
    "            category_index = topi[0][i].item()\n",
    "            print('(%.2f) %s' % (value, all_categories[category_index]))\n",
    "            predictions.append([value, all_categories[category_index]])"
   ]
  },
  {
   "cell_type": "code",
   "execution_count": 322,
   "metadata": {},
   "outputs": [
    {
     "name": "stdout",
     "output_type": "stream",
     "text": [
      "\n",
      "> Dovesky\n",
      "(-0.00) Italian\n",
      "(-9.48) Arabic\n",
      "(-9.50) Dutch\n",
      "\n",
      "> Jackson\n",
      "(-0.00) Italian\n",
      "(-9.78) Polish\n",
      "(-9.90) Japanese\n",
      "\n",
      "> Satoshi\n",
      "(-0.00) Italian\n",
      "(-9.30) Polish\n",
      "(-9.45) Japanese\n",
      "\n",
      "> Abandonato\n",
      "(-0.00) Italian\n",
      "(-12.71) Polish\n",
      "(-12.72) English\n"
     ]
    }
   ],
   "source": [
    "predict('Dovesky')\n",
    "predict('Jackson')\n",
    "predict('Satoshi')\n",
    "predict('Abandonato')"
   ]
  }
 ],
 "metadata": {
  "kernelspec": {
   "display_name": "Python 3.10.4 ('.venv': venv)",
   "language": "python",
   "name": "python3"
  },
  "language_info": {
   "codemirror_mode": {
    "name": "ipython",
    "version": 3
   },
   "file_extension": ".py",
   "mimetype": "text/x-python",
   "name": "python",
   "nbconvert_exporter": "python",
   "pygments_lexer": "ipython3",
   "version": "3.10.4"
  },
  "orig_nbformat": 4,
  "vscode": {
   "interpreter": {
    "hash": "5c4359ed68c894e31dfa741bacd50703ee9ca4c289f19062f47d11ef9a0ee7ac"
   }
  }
 },
 "nbformat": 4,
 "nbformat_minor": 2
}

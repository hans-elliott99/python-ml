{
 "cells": [
  {
   "cell_type": "code",
   "execution_count": 780,
   "metadata": {},
   "outputs": [],
   "source": [
    "\n",
    "# Text preprocessing\n",
    "from __future__ import unicode_literals, print_function, division\n",
    "from io import open\n",
    "import glob\n",
    "import os\n",
    "import unicodedata\n",
    "import string\n",
    "from typing import Union\n",
    "\n",
    "\n",
    "# Model/Train Helpers\n",
    "import random\n",
    "import time\n",
    "import math\n",
    "import matplotlib.pyplot as plt\n",
    "import matplotlib.ticker as ticker\n",
    "\n",
    "\n",
    "\n",
    "# PyTorch\n",
    "import torch\n",
    "import torch.nn as nn"
   ]
  },
  {
   "cell_type": "markdown",
   "metadata": {},
   "source": [
    "# Character-Level RNN for Classifying Name Origins\n",
    "This notebook is inspired by [this pytorch tutorial](https://pytorch.org/tutorials/intermediate/char_rnn_classification_tutorial.html). The objective is to use a simple, vanilla RNN to process human names at the character level and predict the name's country of origin.  \n",
    "\n",
    "It is a good tutorial, but it doesn't implement an RNN at a deep enough level to satisfy my desires. So I first implement a basic RNN at the tensor level (still using PyTorch), so that all the matrix multiplication is done from scratch. This provides insights into the unique nature of processing data sequentially.  \n",
    "\n",
    "Then I follow the tutorial to implement a vanilla RNN in torch at a slightly higher level, using the torch.nn modules to implement each layer.  \n",
    "\n"
   ]
  },
  {
   "cell_type": "markdown",
   "metadata": {},
   "source": [
    "## Collecting Data"
   ]
  },
  {
   "cell_type": "code",
   "execution_count": 3,
   "metadata": {},
   "outputs": [
    {
     "name": "stdout",
     "output_type": "stream",
     "text": [
      "['./data/rnn_tut_data/names\\\\Arabic.txt', './data/rnn_tut_data/names\\\\Chinese.txt', './data/rnn_tut_data/names\\\\Czech.txt', './data/rnn_tut_data/names\\\\Dutch.txt', './data/rnn_tut_data/names\\\\English.txt', './data/rnn_tut_data/names\\\\French.txt', './data/rnn_tut_data/names\\\\German.txt', './data/rnn_tut_data/names\\\\Greek.txt', './data/rnn_tut_data/names\\\\Irish.txt', './data/rnn_tut_data/names\\\\Italian.txt', './data/rnn_tut_data/names\\\\Japanese.txt', './data/rnn_tut_data/names\\\\Korean.txt', './data/rnn_tut_data/names\\\\Polish.txt', './data/rnn_tut_data/names\\\\Portuguese.txt', './data/rnn_tut_data/names\\\\Russian.txt', './data/rnn_tut_data/names\\\\Scottish.txt', './data/rnn_tut_data/names\\\\Spanish.txt', './data/rnn_tut_data/names\\\\Vietnamese.txt']\n"
     ]
    }
   ],
   "source": [
    "def findFiles(path): return glob.glob(path)\n",
    "print(findFiles('./data/rnn_tut_data/names/*.txt'))"
   ]
  },
  {
   "cell_type": "code",
   "execution_count": 4,
   "metadata": {},
   "outputs": [
    {
     "name": "stdout",
     "output_type": "stream",
     "text": [
      "abcdefghijklmnopqrstuvwxyzABCDEFGHIJKLMNOPQRSTUVWXYZ .,;'\n",
      "n_letters = 57\n"
     ]
    }
   ],
   "source": [
    "# All letters in the vocabulary\n",
    "all_letters = string.ascii_letters + \" .,;'\"\n",
    "n_letters = len(all_letters)\n",
    "print(all_letters)\n",
    "print(f\"{n_letters = }\")"
   ]
  },
  {
   "cell_type": "code",
   "execution_count": 5,
   "metadata": {},
   "outputs": [
    {
     "data": {
      "text/plain": [
       "'Slusarski'"
      ]
     },
     "execution_count": 5,
     "metadata": {},
     "output_type": "execute_result"
    }
   ],
   "source": [
    "def unicodeToAscii(s):\n",
    "    return ''.join(\n",
    "        c for c in unicodedata.normalize('NFD', s)\n",
    "        if unicodedata.category(c) != 'Mn'\n",
    "        and c in all_letters\n",
    "    )    \n",
    "\n",
    "# Read a file and split into lines\n",
    "def readLines(filename):\n",
    "    lines = open(filename, encoding='utf-8').read().strip().split('\\n')\n",
    "    return [unicodeToAscii(line) for line in lines]\n",
    "\n",
    "\n",
    "# example\n",
    "unicodeToAscii('Ślusàrski')"
   ]
  },
  {
   "cell_type": "code",
   "execution_count": 754,
   "metadata": {},
   "outputs": [
    {
     "name": "stdout",
     "output_type": "stream",
     "text": [
      "n_categories = 18\n"
     ]
    }
   ],
   "source": [
    "# Build the category_lines dictionary, a list of names per language\n",
    "category_lines = {}\n",
    "all_categories = []\n",
    "for filename in findFiles('data/rnn_tut_data/names/*.txt'):\n",
    "    category = os.path.splitext(os.path.basename(filename))[0]\n",
    "    all_categories.append(category)\n",
    "    lines = readLines(filename)\n",
    "    category_lines[category] = lines\n",
    "\n",
    "n_categories = len(all_categories)\n",
    "print(f\"{n_categories = }\")"
   ]
  },
  {
   "cell_type": "code",
   "execution_count": 758,
   "metadata": {},
   "outputs": [
    {
     "name": "stdout",
     "output_type": "stream",
     "text": [
      "Arabic - Names = 2000\n",
      "Chinese - Names = 268\n",
      "Czech - Names = 519\n",
      "Dutch - Names = 297\n",
      "English - Names = 3668\n",
      "French - Names = 277\n",
      "German - Names = 724\n",
      "Greek - Names = 203\n",
      "Irish - Names = 232\n",
      "Italian - Names = 709\n",
      "Japanese - Names = 991\n",
      "Korean - Names = 94\n",
      "Polish - Names = 139\n",
      "Portuguese - Names = 74\n",
      "Russian - Names = 9408\n",
      "Scottish - Names = 100\n",
      "Spanish - Names = 298\n",
      "Vietnamese - Names = 73\n"
     ]
    }
   ],
   "source": [
    "for cat in all_categories:\n",
    "    print(f\"{cat} - Names = {len(category_lines[cat])}\")"
   ]
  },
  {
   "cell_type": "markdown",
   "metadata": {},
   "source": [
    "### Data -> Tensors"
   ]
  },
  {
   "cell_type": "code",
   "execution_count": 7,
   "metadata": {},
   "outputs": [
    {
     "name": "stdout",
     "output_type": "stream",
     "text": [
      "tensor([[0., 0., 0., 0., 0., 0., 0., 0., 0., 0., 0., 0., 0., 0., 0., 0., 0., 0.,\n",
      "         0., 0., 0., 0., 0., 0., 0., 0., 0., 0., 0., 0., 0., 0., 0., 0., 0., 1.,\n",
      "         0., 0., 0., 0., 0., 0., 0., 0., 0., 0., 0., 0., 0., 0., 0., 0., 0., 0.,\n",
      "         0., 0., 0.]])\n",
      "torch.Size([5, 1, 57])\n"
     ]
    }
   ],
   "source": [
    "def letterToIndex(letter):\n",
    "    return all_letters.find(letter)\n",
    "\n",
    "def letterToTensor(letter):\n",
    "    tensor = torch.zeros(1, n_letters)\n",
    "    tensor[0][letterToIndex(letter)] = 1 ##index the letter in the onehot-encoding\n",
    "    return tensor\n",
    "\n",
    "# Turn a line into a <line_length x 1 x n_letters>,\n",
    "# or an array of one-hot letter vectors\n",
    "def lineToTensor(line):\n",
    "    tensor = torch.zeros(len(line), 1, n_letters)\n",
    "    for li, letter in enumerate(line):\n",
    "        tensor[li][0][letterToIndex(letter)] = 1\n",
    "    return tensor\n",
    "\n",
    "print( letterToTensor(\"J\") )\n",
    "print( (lineToTensor(\"Hello\")).shape )\n"
   ]
  },
  {
   "cell_type": "markdown",
   "metadata": {},
   "source": [
    "### Helper Functions\n",
    "`categoryFromOutput()` decodes the model's output into category labels.  \n",
    "`randomTrainingExample()` provides one random training ex"
   ]
  },
  {
   "cell_type": "code",
   "execution_count": 8,
   "metadata": {},
   "outputs": [],
   "source": [
    "def categoryFromOutput(output):\n",
    "    \"\"\"Decode model output into category prediction\"\"\"\n",
    "    top_n, top_i = output.topk(1)\n",
    "    category_i = top_i[0].item()\n",
    "    return all_categories[category_i], category_i"
   ]
  },
  {
   "cell_type": "code",
   "execution_count": 719,
   "metadata": {},
   "outputs": [
    {
     "name": "stdout",
     "output_type": "stream",
     "text": [
      "category = Chinese / line = Huan\n",
      "category = German / line = Kerwer\n",
      "category = Irish / line = Maguire\n",
      "category = Arabic / line = Totah\n",
      "category = Portuguese / line = Freitas\n",
      "category = Spanish / line = Melendez\n",
      "category = Vietnamese / line = Giang\n",
      "category = English / line = Bingham\n",
      "category = Czech / line = Kerner\n",
      "category = English / line = Upsdell\n"
     ]
    }
   ],
   "source": [
    "def randomChoice(l):\n",
    "    return l[random.randint(0, len(l) - 1)]\n",
    "\n",
    "def randomTrainingExample(category : str = None):\n",
    "    \"\"\"Randomly pick training examples. Optionally provide specific nationality category.\"\"\"\n",
    "    if category is None: ##pick random category\n",
    "        category = all_categories[random.randint(0, len(all_categories) - 1)]\n",
    "\n",
    "    line = randomChoice(category_lines[category])\n",
    "    category_tensor = torch.tensor([all_categories.index(category)], dtype=torch.long)\n",
    "    line_tensor = lineToTensor(line)\n",
    "    return category, line, category_tensor, line_tensor\n",
    "\n",
    "\n",
    "# Example\n",
    "for i in range(10):\n",
    "    category, line, category_tensor, line_tensor = randomTrainingExample()\n",
    "    print('category =', category, '/ line =', line)\n"
   ]
  },
  {
   "cell_type": "markdown",
   "metadata": {},
   "source": [
    "# Basic RNN Diagram\n",
    "\n"
   ]
  },
  {
   "cell_type": "code",
   "execution_count": 555,
   "metadata": {},
   "outputs": [
    {
     "data": {
      "text/plain": [
       "\"\\nA BASIC RNN\\n- Note that inputs are sequential so this is not an 'unrolled' RNN diagram. \\n- Imagine each input of length n consists of sub-inputs [t0,...,tn-1, tn] and each hidden state consists of sub-states [h0...,hn-1, hn]\\n- t0 and h0 (a zero vector) are passed in and concatenated, then used to update the OUTPUT and the hidden state \\n\\n\\n[input]          [hidden]<---\\n    |_____      _____|      |\\n          |    |            |\\n        [combined]          |       (Concatenate the input and hidden layers)\\n    _____|       |__        |\\n   |                |       |\\n  [i2o]            [i2h]    |      (NN 'hidden layers' - inputs to outputs, inputs to hidden)\\n   |                |       |       (could apply an activation function)\\n[softmax]           |       |\\n   |                ⬇       |       \\n   ⬇             [hidden]--->\\n[OUTPUT]\\n\\n\\n\\n_____________________________________\\nFor the tensor level implementation, the [combined] layer corresponds to \\n`h = torch.tanh( (self.W_xh @ x.T) + (self.W_hh @ hidden) + self.bh)`\\nwhere W_xh (weight matrix) maps [input] to [combined] and W_hh maps [hidden] to [combined], and there is a bias term as well.  \\nThis step both combines the inputs with the current hidden state AND produces the new hidden state, h, essentially acting as [i2h] as well.  \\nThe [i2o] layer uses h, the new hidden state which is determined by the previous hidden state and the current inputs, \\nto produce the output (no softmax is applied). The [i2o] layer is essentially represented by the W_hy matrix which maps from h to [OUTPUT].\\n\\n\""
      ]
     },
     "execution_count": 555,
     "metadata": {},
     "output_type": "execute_result"
    }
   ],
   "source": [
    "\"\"\"\n",
    "A BASIC RNN\n",
    "- Note that inputs are sequential so this is not an 'unrolled' RNN diagram. \n",
    "- Imagine each input of length n consists of sub-inputs [t0,...,tn-1, tn] and each hidden state consists of sub-states [h0...,hn-1, hn]\n",
    "- t0 and h0 (a zero vector) are passed in and concatenated, then used to update the OUTPUT and the hidden state \n",
    "\n",
    "\n",
    "[input]          [hidden]<---\n",
    "    |_____      _____|      |\n",
    "          |    |            |\n",
    "        [combined]          |       (Concatenate the input and hidden layers)\n",
    "    _____|       |__        |\n",
    "   |                |       |\n",
    "  [i2o]            [i2h]    |      (NN 'hidden layers' - inputs to outputs, inputs to hidden)\n",
    "   |                |       |       (could apply an activation function)\n",
    "[softmax]           |       |\n",
    "   |                ⬇       |       \n",
    "   ⬇             [hidden]--->\n",
    "[OUTPUT]\n",
    "\n",
    "\n",
    "\n",
    "_____________________________________\n",
    "For the tensor level implementation, the [combined] layer corresponds to \n",
    "`h = torch.tanh( (self.W_xh @ x.T) + (self.W_hh @ hidden) + self.bh)`\n",
    "where W_xh (weight matrix) maps [input] to [combined] and W_hh maps [hidden] to [combined], and there is a bias term as well.  \n",
    "This step both combines the inputs with the current hidden state AND produces the new hidden state, h, essentially acting as [i2h] as well.  \n",
    "The [i2o] layer uses h, the new hidden state which is determined by the previous hidden state and the current inputs, \n",
    "to produce the output. The [i2o] layer is essentially represented by the W_hy matrix which maps from h to [OUTPUT].\n",
    "\n",
    "\"\"\""
   ]
  },
  {
   "cell_type": "markdown",
   "metadata": {},
   "source": [
    "# TENSOR LEVEL IMPLEMENTATION\n",
    "Inspired by [\"The Unreasonable Effectiveness of Recurrent Neural Networks\"](https://karpathy.github.io/2015/05/21/rnn-effectiveness/).  \n",
    "\n",
    "Some notes of interest:\n",
    "- The weights in my hidden state were exploding until I multiplied a small coefficient by the randomly initialized weight matrices. While I still used a basic random uniform generator, this shows how important initialization is. \n",
    "- When the hidden state explodes, the activation fn (whether relu or tanh) causes the new hidden state to be unuseful for training (with tanh I found that it would always revert to all 1s since the weights got very large and positive and with relu I found that it would always rever to all 0s since the weights got very large and negative).  This made it impossible for the model to learn.   "
   ]
  },
  {
   "cell_type": "code",
   "execution_count": 585,
   "metadata": {},
   "outputs": [],
   "source": [
    "class BasicRNN:\n",
    "    def __init__(self, input_size, hidden_size, output_size):\n",
    "        \"\"\"Initialize a basic RNN model.\"\"\"\n",
    "        self.input_size = input_size\n",
    "        self.hidden_size = hidden_size\n",
    "        self.output_size = output_size\n",
    "\n",
    "    def random_weights(self):\n",
    "        \"\"\"Randomly initialize model weights\"\"\"\n",
    "        # Weight matrix that maps hidden to hidden\n",
    "        self.W_hh = torch.rand((self.hidden_size, self.hidden_size)) * 0.01\n",
    "        # Weight matrix that maps inputs to hidden\n",
    "        self.W_xh = torch.rand((self.hidden_size, self.input_size)) * 0.01\n",
    "        # Weight matrix that maps updated hidden/input concatenation to output \n",
    "        self.W_hy = torch.rand((self.output_size, self.hidden_size)) * 0.01\n",
    "        # Biases\n",
    "        self.bh = torch.zeros((self.hidden_size, 1)) # hidden bias\n",
    "        self.by = torch.zeros((self.output_size, 1)) # output bias\n",
    "        for p in [self.W_hh, self.W_xh, self.W_hy, self.bh, self.by]:\n",
    "            p.requires_grad = True\n",
    "    \n",
    "    def init_hidden(self):\n",
    "        \"\"\"Initialize the hidden state with the zero vector.\"\"\"\n",
    "        return torch.zeros((self.hidden_size, 1), requires_grad=True)\n",
    "\n",
    "    def forward(self, hidden, x, y=None):\n",
    "        \"\"\"Perform one forward step.\"\"\"\n",
    "        # update hidden state\n",
    "        h = torch.relu( (self.W_xh @ x.T) + (self.W_hh @ hidden) + self.bh)\n",
    "        # compute output vector\n",
    "        logits = (self.W_hy @ h) + self.by\n",
    "        probs = torch.nn.functional.softmax(logits, dim=0)\n",
    "\n",
    "        # LOSS\n",
    "        loss = None\n",
    "        if y is not None:\n",
    "            y_ohe = torch.zeros(self.output_size)\n",
    "            y_ohe[y] = 1.0\n",
    "            loss = torch.nn.functional.cross_entropy(logits.squeeze(), y_ohe)\n",
    "        self.loss = loss\n",
    "\n",
    "        return h, probs, loss\n",
    "    \n",
    "    def backprop_update(self, lr=0.1):\n",
    "        \"\"\"Backprop to calculate gradients. Apply gradients with vanills SGD.\"\"\"\n",
    "        params = [self.W_hh, self.W_xh, self.W_hy, self.bh, self.by]\n",
    "\n",
    "        # ensure gradients are zerod\n",
    "        for p in params:\n",
    "            p.grad = None\n",
    "\n",
    "        # backprop\n",
    "        self.loss.backward()\n",
    "\n",
    "        # update\n",
    "        for i, p in enumerate(params):\n",
    "            #if p.grad is not None:\n",
    "            if p.grad is None:\n",
    "                print(i)\n",
    "            p.data += -lr * p.grad\n",
    "    \n",
    "    def predict(self, name : str):\n",
    "        \"\"\"Predict the country of origin for a new name. Relies on external helper fns.\"\"\"\n",
    "        \n",
    "        sample = lineToTensor(name)\n",
    "        with torch.no_grad():\n",
    "            hidden = self.init_hidden()\n",
    "            for t in range(sample.shape[0]):\n",
    "                hidden, probs, _ = self.forward(hidden=hidden, x=sample[t], y=None)\n",
    "        \n",
    "        pred = torch.argmax(probs)\n",
    "        pred_cat = all_categories[pred]\n",
    "\n",
    "        return pred_cat"
   ]
  },
  {
   "cell_type": "code",
   "execution_count": 564,
   "metadata": {},
   "outputs": [
    {
     "name": "stdout",
     "output_type": "stream",
     "text": [
      "['Park ', 'Gaspar', 'Abboud', 'Tourna', 'Zogby', 'Ankeren', 'Missiakos', 'Tahan', 'Abbascia', 'Croce']\n"
     ]
    }
   ],
   "source": [
    "# Generate some training data (just use 1000 samples for quicker training)\n",
    "xs, ys, names = [],[],[]\n",
    "samples = 1000\n",
    "\n",
    "for _ in range(samples):\n",
    "    cat, line, y, x = randomTrainingExample()\n",
    "    xs.append(x)\n",
    "    ys.append(y)\n",
    "    names.append(line)\n",
    "print(names[:10])"
   ]
  },
  {
   "cell_type": "code",
   "execution_count": 586,
   "metadata": {},
   "outputs": [],
   "source": [
    "# Initialize the model and initialize weights randomly\n",
    "model = BasicRNN(input_size=n_letters, hidden_size=64, output_size=n_categories)\n",
    "model.random_weights()\n",
    "\n",
    "losses = []\n",
    "preds = []\n",
    "# hiddens = []"
   ]
  },
  {
   "cell_type": "code",
   "execution_count": 610,
   "metadata": {},
   "outputs": [],
   "source": [
    "# TRAINING\n",
    "# For each epoch, iterate over all of the samples\n",
    "# For each sample, pass in one character after the other to update the hidden state, and then backprop after the sample is done\n",
    "epochs = 10\n",
    "for ep in range(epochs):\n",
    "    for s in range(samples):\n",
    "        x_s = xs[s]\n",
    "        y_s = ys[s]\n",
    "        \n",
    "        # Initialize hidden state with zero vector\n",
    "        hidden = model.init_hidden()\n",
    "        # For the current sample, pass in each character sequentially to update hidden state\n",
    "        for t in range(x_s.shape[0]):\n",
    "            hidden, probs, loss = model.forward(hidden, x_s[t], y_s)\n",
    "        # Backprop\n",
    "        model.backprop_update(lr=0.01)\n",
    "        \n",
    "        # if last epoch, save final predicted probs for each sample\n",
    "        if ep == max(range(epochs)):\n",
    "            preds.append(probs)\n",
    "    \n",
    "    # save loss at epoch end        \n",
    "    losses.append(loss.item())"
   ]
  },
  {
   "cell_type": "code",
   "execution_count": 611,
   "metadata": {},
   "outputs": [
    {
     "name": "stdout",
     "output_type": "stream",
     "text": [
      "Park  -      Predicted: Dutch (3). True: Korean (11)\n",
      "Gaspar -      Predicted: Dutch (3). True: Portuguese (13)\n",
      "Abboud -      Predicted: Dutch (3). True: Arabic (0)\n",
      "Tourna -      Predicted: Italian (9). True: Greek (7)\n",
      "Zogby -      Predicted: Dutch (3). True: Arabic (0)\n",
      "Ankeren -      Predicted: Dutch (3). True: Dutch (3)\n",
      "Missiakos -      Predicted: Greek (7). True: Greek (7)\n",
      "Tahan -      Predicted: Dutch (3). True: Arabic (0)\n",
      "Abbascia -      Predicted: Italian (9). True: Italian (9)\n",
      "Croce -      Predicted: Dutch (3). True: Italian (9)\n"
     ]
    }
   ],
   "source": [
    "for s in range(10):\n",
    "    name = names[s]\n",
    "    pred = torch.argmax(preds[s])\n",
    "    true = ys[s]\n",
    "    pred_cat = all_categories[pred]\n",
    "    true_cat = all_categories[true]\n",
    "    print(f\"{name} -      Predicted: {pred_cat} ({pred}). True: {true_cat} ({true.item()})\")"
   ]
  },
  {
   "cell_type": "code",
   "execution_count": 612,
   "metadata": {},
   "outputs": [
    {
     "data": {
      "image/png": "[encoded data removed]",
      "text/plain": [
       "<Figure size 432x288 with 1 Axes>"
      ]
     },
     "metadata": {
      "needs_background": "light"
     },
     "output_type": "display_data"
    }
   ],
   "source": [
    "plt.plot(losses)\n",
    "plt.title(\"loss at epoch end\")\n",
    "plt.show()"
   ]
  },
  {
   "cell_type": "code",
   "execution_count": 619,
   "metadata": {},
   "outputs": [
    {
     "name": "stdout",
     "output_type": "stream",
     "text": [
      "Hans - predicted origin: Dutch\n",
      "Elliott - predicted origin: English\n",
      "Liam - predicted origin: Chinese\n",
      "Kira - predicted origin: Portuguese\n",
      "Kisten - predicted origin: Dutch\n",
      "Jerry - predicted origin: French\n",
      "Sasha - predicted origin: Japanese\n",
      "Chester - predicted origin: French\n"
     ]
    }
   ],
   "source": [
    "# Predict onto new names\n",
    "for name in [\"Hans\", \"Elliott\", \"Liam\", \"Kira\", \"Kisten\", \"Jerry\", \"Sasha\", \"Chester\"]:\n",
    "    p = model.predict(name)\n",
    "    print(f\"{name} - predicted origin: {p}\")"
   ]
  },
  {
   "cell_type": "markdown",
   "metadata": {},
   "source": [
    "# RNN at torch.nn level"
   ]
  },
  {
   "cell_type": "code",
   "execution_count": 781,
   "metadata": {},
   "outputs": [],
   "source": [
    "class RNN(nn.Module):\n",
    "    def __init__(self, input_size, hidden_size, output_size, activation):\n",
    "        super(RNN, self).__init__()\n",
    "\n",
    "        self.input_size = input_size\n",
    "        self.hidden_size = hidden_size\n",
    "        self.output_size = output_size\n",
    "        self.activation = activation\n",
    "\n",
    "        self.i2h = nn.Linear(in_features = input_size + hidden_size, \n",
    "                            out_features = hidden_size)\n",
    "        self.i2o = nn.Linear(in_features = input_size + hidden_size,\n",
    "                            out_features = output_size)\n",
    "\n",
    "        # reinitialize weights if recalling __init__\n",
    "        self.apply(self._init_weights)\n",
    "        # count params\n",
    "        self.n_params = self._count_params()\n",
    "        \n",
    "    def forward(self, hidden, input, y=None):\n",
    "        \"\"\"Concatenate the inputs with the hidden state and forward pass through the linear layers (+ softmax).\"\"\"\n",
    "        combined = torch.cat((input, hidden), dim=1)\n",
    "        hidden_ = self.activation(self.i2h(combined))\n",
    "        logits = self.i2o(combined)\n",
    "        probs = torch.softmax(logits, dim=1)\n",
    "\n",
    "        loss = None\n",
    "        # if y is not None:\n",
    "        #     y_ohe = torch.zeros(self.output_size)\n",
    "        #     y_ohe[y] = 1.0\n",
    "        #     loss = torch.nn.functional.cross_entropy(logits.squeeze(), y_ohe)\n",
    "\n",
    "        return hidden_, logits, probs, loss\n",
    "\n",
    "    def init_hidden(self):\n",
    "        \"\"\"initialization for the hidden state with the zero vector.\"\"\"\n",
    "        return torch.zeros(1, self.hidden_size)\n",
    "    \n",
    "\n",
    "    def _init_weights(self, module):\n",
    "        \"\"\"Reinitialize weights and biases.\"\"\"\n",
    "        if isinstance(module, nn.Linear):\n",
    "            torch.nn.init.xavier_uniform_(module.weight.data) ##since using tanh\n",
    "            if module.bias is not None:\n",
    "                module.bias.data.zero_()\n",
    "    \n",
    "    def _count_params(self):\n",
    "        params = 0\n",
    "        for p in self.parameters():\n",
    "            params += p.nelement()\n",
    "        return params\n",
    "\n",
    "\n",
    "    # Create a train function (one training step)\n",
    "    def train_step(self, category_tensor, line_tensor, lr):\n",
    "        \"\"\"Perform one forward and backward pass, and update model's weights.\"\"\"\n",
    "        \n",
    "        # Initialize the hidden states (with zeros)\n",
    "        hidden = self.init_hidden() \n",
    "\n",
    "        # Zero any gradients\n",
    "        self.zero_grad()\n",
    "\n",
    "        # FORWARD PASS\n",
    "        for i in range(line_tensor.shape[0]):\n",
    "            # FEED IN EACH CHARACTER OF THE LINE\n",
    "            ## GET THE OUTPUT AND THE NEW HIDDEN STATE\n",
    "            hidden, logits, probs, _ = self(hidden, line_tensor[i])\n",
    "        \n",
    "        # BACKWARD PASS\n",
    "        # y_ohe = torch.zeros(len(all_categories))\n",
    "        # y_ohe[category_tensor] = 1.0\n",
    "        criterion = nn.CrossEntropyLoss()\n",
    "        loss = criterion(logits, category_tensor) ##provide logits since this fn combines softmax w crossent\n",
    "        loss.backward() #backprop\n",
    "\n",
    "        # UPDATE\n",
    "        for p in self.parameters():\n",
    "            p.data += -lr * p.grad\n",
    "\n",
    "        return logits, loss.item()\n",
    "\n",
    "    # Just return an output given a line\n",
    "    def evaluate(self, name : Union[str, torch.tensor], n_predictions : int=1):\n",
    "        hidden = self.init_hidden()\n",
    "\n",
    "        if type(name) == str:\n",
    "            line_tensor = lineToTensor(name)\n",
    "        elif type(name) == torch.Tensor:\n",
    "            line_tensor = name\n",
    "        else:\n",
    "            print(\"Provide string or tensor\")\n",
    "            raise NotImplementedError\n",
    "\n",
    "        with torch.no_grad():\n",
    "            for t in range(line_tensor.shape[0]):\n",
    "                hidden, logits, probs, loss = self(hidden, line_tensor[t])\n",
    "        \n",
    "        pred_cat = all_categories[torch.argmax(logits, dim=1)]\n",
    "        topv, topi = logits.topk(n_predictions, 1, True)\n",
    "\n",
    "        for i in range(n_predictions):\n",
    "            value = topv[0][i].item()\n",
    "            category_index = topi[0][i].item()\n",
    "            print('(%.2f) %s' % (value, all_categories[category_index]))\n",
    "            # predictions.append([value, all_categories[category_index]])\n",
    "\n",
    "\n",
    "        return pred_cat\n"
   ]
  },
  {
   "cell_type": "code",
   "execution_count": 782,
   "metadata": {},
   "outputs": [
    {
     "name": "stdout",
     "output_type": "stream",
     "text": [
      "> Albert\n",
      "torch.Size([1, 18])\n",
      "('Russian', 14)\n",
      "('Russian', 14)\n",
      "\n",
      " Model params: 27156\n"
     ]
    }
   ],
   "source": [
    "# INITIALIZE MODEL (decided to use 2 RNN layers)\n",
    "torch.manual_seed(12345)\n",
    "\n",
    "n_hidden = 128\n",
    "rnn = RNN(input_size=n_letters, \n",
    "          hidden_size=n_hidden, \n",
    "          output_size=n_categories, \n",
    "          activation=torch.tanh)\n",
    "\n",
    "\n",
    "# Example\n",
    "print(\"> Albert\")\n",
    "input = lineToTensor(\"Albert\")\n",
    "\n",
    "hidden = rnn.init_hidden()\n",
    "next_hidden, logits, probs, _ = rnn(hidden, input[0])\n",
    "\n",
    "\n",
    "print(logits.shape) ##1 x n_categories, where every category is the likelihood of that category.\n",
    "print(categoryFromOutput(logits)) ## decoded prediction\n",
    "print(categoryFromOutput(probs)) ## works if using softmaxed output too\n",
    "print(f\"\\n Model params: {rnn.n_params}\")\n"
   ]
  },
  {
   "cell_type": "markdown",
   "metadata": {},
   "source": [
    "## training loop"
   ]
  },
  {
   "cell_type": "code",
   "execution_count": 784,
   "metadata": {},
   "outputs": [],
   "source": [
    "def timeSince(since):\n",
    "    now = time.time()\n",
    "    s = now - since\n",
    "    m = math.floor(s / 60)\n",
    "    s -= m * 60\n",
    "    return '%dm %ds' % (m, s)\n",
    "\n",
    "\n",
    "lr = 0.01\n",
    "n_iters = 10_000\n",
    "print_every = 1000\n",
    "plot_every = 10\n",
    "\n",
    "current_loss = 0\n",
    "all_losses = []"
   ]
  },
  {
   "cell_type": "code",
   "execution_count": 785,
   "metadata": {},
   "outputs": [
    {
     "name": "stdout",
     "output_type": "stream",
     "text": [
      "1000 10% (0m 25s) 2.8804 Tourna / Spanish ✗ (Greek)\n",
      "2000 20% (0m 51s) 2.9255 Loat / French ✗ (English)\n",
      "3000 30% (1m 16s) 2.5910 Riedel / Spanish ✗ (Czech)\n",
      "4000 40% (1m 41s) 0.5025 Minami / Japanese ✓\n",
      "5000 50% (2m 7s) 1.5977 Roig / Chinese ✗ (Spanish)\n",
      "6000 60% (2m 32s) 0.0199 Simoes / Portuguese ✓\n",
      "7000 70% (2m 57s) 0.0283 Kido / Japanese ✓\n",
      "8000 80% (3m 22s) 4.3577 Maas / Vietnamese ✗ (Dutch)\n",
      "9000 90% (3m 47s) 1.4213 Dvorak / Portuguese ✗ (Czech)\n",
      "10000 100% (4m 12s) 1.2490 Bruce / German ✗ (Scottish)\n"
     ]
    }
   ],
   "source": [
    "test_1_sample = False\n",
    "\n",
    "start = time.time()\n",
    "for iter in range(1, n_iters+1):\n",
    "    cat_permutation = random.sample(all_categories, len(all_categories))\n",
    "    for cat in cat_permutation: ##iterate through all possible categories and get one training ex for each\n",
    "        # Get a batch (a random training example)\n",
    "        category, line, category_tensor, line_tensor = randomTrainingExample(category=cat)\n",
    "        \n",
    "        if test_1_sample:\n",
    "            category, line, line_tensor = \"Italian\", \"Abandonato\", lineToTensor(\"Abandonato\")\n",
    "            category_tensor = torch.tensor([all_categories.index(category)], dtype=torch.long)\n",
    "\n",
    "        # Perforam a train step and record loss\n",
    "        logits, loss = rnn.train_step(category_tensor, line_tensor, lr=lr)\n",
    "        current_loss += loss\n",
    "\n",
    "    # print updates\n",
    "    if (iter % print_every) == 0:\n",
    "        guess, guess_i = categoryFromOutput(logits)\n",
    "        correct = '✓' if guess == category else '✗ (%s)' % category\n",
    "        print('%d %d%% (%s) %.4f %s / %s %s' % (iter, iter / n_iters * 100, timeSince(start), loss, line, guess, correct))\n",
    "\n",
    "    # Add current loss avg to list of losses\n",
    "    if (iter % plot_every) == 0:\n",
    "        all_losses.append(current_loss / plot_every)\n",
    "        current_loss = 0"
   ]
  },
  {
   "cell_type": "code",
   "execution_count": 786,
   "metadata": {},
   "outputs": [
    {
     "data": {
      "image/png": "[encoded data removed]",
      "text/plain": [
       "<Figure size 432x288 with 1 Axes>"
      ]
     },
     "metadata": {
      "needs_background": "light"
     },
     "output_type": "display_data"
    }
   ],
   "source": [
    "plt.plot(all_losses)\n",
    "plt.title(f\"Average loss per {plot_every} steps\")\n",
    "plt.show()"
   ]
  },
  {
   "cell_type": "code",
   "execution_count": 800,
   "metadata": {},
   "outputs": [
    {
     "name": "stdout",
     "output_type": "stream",
     "text": [
      "MacGyver - prediction =  Scottish\n",
      "Blair - prediction =  Scottish\n",
      "Douglas - prediction =  Greek\n",
      "Isla - prediction =  Arabic\n",
      "Fergus - prediction =  Portuguese\n"
     ]
    }
   ],
   "source": [
    "for name in [\"MacGyver\", \"Blair\", \"Douglas\", \"Isla\", \"Fergus\"]:\n",
    "    print(name, \"- prediction = \", rnn.evaluate(name))"
   ]
  },
  {
   "cell_type": "markdown",
   "metadata": {},
   "source": [
    "# Confusion Matrix"
   ]
  },
  {
   "cell_type": "code",
   "execution_count": 811,
   "metadata": {},
   "outputs": [
    {
     "name": "stderr",
     "output_type": "stream",
     "text": [
      "C:\\Users\\hanse\\AppData\\Local\\Temp\\ipykernel_21744\\1636018581.py:25: UserWarning: FixedFormatter should only be used together with FixedLocator\n",
      "  ax.set_xticklabels([''] + all_categories, rotation=90)\n",
      "C:\\Users\\hanse\\AppData\\Local\\Temp\\ipykernel_21744\\1636018581.py:26: UserWarning: FixedFormatter should only be used together with FixedLocator\n",
      "  ax.set_yticklabels([''] + all_categories)\n"
     ]
    },
    {
     "data": {
      "image/png": "[encoded data removed]",
      "text/plain": [
       "<Figure size 720x360 with 2 Axes>"
      ]
     },
     "metadata": {
      "needs_background": "light"
     },
     "output_type": "display_data"
    }
   ],
   "source": [
    "# Keep track of correct guesses in a confusion matrix (2x2 torch tensor)\n",
    "confusion = torch.zeros(n_categories, n_categories)\n",
    "n_confusion = 1000\n",
    "\n",
    "# Go through a bunch of examples and record which are correctly guessed\n",
    "for i in range(n_confusion):\n",
    "    truth_cat, _, _, line_tensor = randomTrainingExample()\n",
    "    guess_cat = rnn.evaluate(line_tensor)\n",
    "    guess_ix = all_categories.index(guess_cat)\n",
    "    truth_ix = all_categories.index(truth_cat)\n",
    "    confusion[truth_ix][guess_ix] += 1\n",
    "\n",
    "# Normalize by dividing every row by its sum\n",
    "for i in range(n_categories):\n",
    "    confusion[i] = confusion[i] / confusion[i].sum()\n",
    "\n",
    "\n",
    "# Set up plot\n",
    "fig = plt.figure(figsize=(10,5))\n",
    "ax = fig.add_subplot(111)\n",
    "cax = ax.matshow(confusion.numpy())\n",
    "fig.colorbar(cax)\n",
    "\n",
    "# # Set up axes\n",
    "ax.set_xticklabels([''] + all_categories, rotation=90)\n",
    "ax.set_yticklabels([''] + all_categories)\n",
    "\n",
    "# Force label at every tick\n",
    "ax.xaxis.set_major_locator(ticker.MultipleLocator(1))\n",
    "ax.yaxis.set_major_locator(ticker.MultipleLocator(1))\n",
    "\n",
    "# sphinx_gallery_thumbnail_number = 2\n",
    "plt.show()"
   ]
  },
  {
   "cell_type": "markdown",
   "metadata": {},
   "source": [
    "# User Input"
   ]
  }
 ],
 "metadata": {
  "kernelspec": {
   "display_name": "Python 3.10.4 ('.venv': venv)",
   "language": "python",
   "name": "python3"
  },
  "language_info": {
   "codemirror_mode": {
    "name": "ipython",
    "version": 3
   },
   "file_extension": ".py",
   "mimetype": "text/x-python",
   "name": "python",
   "nbconvert_exporter": "python",
   "pygments_lexer": "ipython3",
   "version": "3.10.4"
  },
  "orig_nbformat": 4,
  "vscode": {
   "interpreter": {
    "hash": "5c4359ed68c894e31dfa741bacd50703ee9ca4c289f19062f47d11ef9a0ee7ac"
   }
  }
 },
 "nbformat": 4,
 "nbformat_minor": 2
}

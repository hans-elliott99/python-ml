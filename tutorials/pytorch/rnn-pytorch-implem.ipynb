{
 "cells": [
  {
   "cell_type": "code",
   "execution_count": 1,
   "metadata": {},
   "outputs": [],
   "source": [
    "\n",
    "# Text preprocessing\n",
    "from __future__ import unicode_literals, print_function, division\n",
    "from io import open\n",
    "import glob\n",
    "import os\n",
    "import unicodedata\n",
    "import string\n",
    "from typing import Union\n",
    "import numpy as np\n",
    "\n",
    "\n",
    "# Model/Train Helpers\n",
    "import random\n",
    "import time\n",
    "import math\n",
    "import matplotlib.pyplot as plt\n",
    "import matplotlib.ticker as ticker\n",
    "from matplotlib.lines import Line2D\n",
    "\n",
    "\n",
    "\n",
    "# PyTorch\n",
    "import torch\n",
    "import torch.nn as nn"
   ]
  },
  {
   "cell_type": "markdown",
   "metadata": {},
   "source": [
    "# Recurrent Nets from Scratch in Torch\n",
    "## Character-Level Language Modelling\n",
    "This notebook is partly inspired by [this pytorch tutorial](https://pytorch.org/tutorials/intermediate/char_rnn_classification_tutorial.html). The objective is to use a simple, vanilla RNN to process human names at the character level and predict the name's country of origin.  \n",
    "\n",
    "It is a good tutorial, but it doesn't implement an RNN at a deep enough level to satisfy my desires. So I first implement a basic RNN at the tensor level (still using PyTorch), so that all the matrix multiplication is done from scratch. This provides insights into the unique nature of processing data sequentially and how the hidden state plays its role.  \n",
    "\n",
    "Then I follow the linked tutorial to implement a vanilla RNN in torch at a slightly higher level, using the torch.nn modules to implement each layer. This is one step below the more simple approach, which is to simple use the `torch.nn.RNN()` (a more likely option for runtime).     \n",
    "\n",
    "However, the more complex LSTM (long short term memory) units are almost always preferred to vanilla RNNs, so we'll also implement LSTMs and the related GRUs from the tensor level on the same task.  \n",
    "\n",
    "### Content\n",
    "- [Task prep](#task)\n",
    "- [Tensor-level RNN](#rnn-ten)\n",
    "- [torch.nn RNN](#rnn-nn)\n",
    "- [Tensor-level LSTM (vanilla and 'peephole' variants) & GRU](#lstm)"
   ]
  },
  {
   "cell_type": "markdown",
   "metadata": {},
   "source": [
    "# Setting up the task <a class=\"anchor\" id=\"task\"></a>\n",
    "Data downloaded from [here](https://pytorch.org/tutorials/intermediate/char_rnn_classification_tutorial.html#:~:text=Download%20the%20data%20from%20here%20and%20extract%20it%20to%20the%20current%20directory.)  \n",
    "\n",
    "Consists of text files named for a language, consisting of names which originate from that language. Each line of a text file has one name.  "
   ]
  },
  {
   "cell_type": "code",
   "execution_count": 2,
   "metadata": {},
   "outputs": [
    {
     "name": "stdout",
     "output_type": "stream",
     "text": [
      "['./data/rnn_tut_data/names\\\\Arabic.txt', './data/rnn_tut_data/names\\\\Chinese.txt', './data/rnn_tut_data/names\\\\Czech.txt', './data/rnn_tut_data/names\\\\Dutch.txt', './data/rnn_tut_data/names\\\\English.txt', './data/rnn_tut_data/names\\\\French.txt', './data/rnn_tut_data/names\\\\German.txt', './data/rnn_tut_data/names\\\\Greek.txt', './data/rnn_tut_data/names\\\\Irish.txt', './data/rnn_tut_data/names\\\\Italian.txt', './data/rnn_tut_data/names\\\\Japanese.txt', './data/rnn_tut_data/names\\\\Korean.txt', './data/rnn_tut_data/names\\\\Polish.txt', './data/rnn_tut_data/names\\\\Portuguese.txt', './data/rnn_tut_data/names\\\\Russian.txt', './data/rnn_tut_data/names\\\\Scottish.txt', './data/rnn_tut_data/names\\\\Spanish.txt', './data/rnn_tut_data/names\\\\Vietnamese.txt']\n"
     ]
    }
   ],
   "source": [
    "def findFiles(path): return glob.glob(path)\n",
    "print(findFiles('./data/rnn_tut_data/names/*.txt'))"
   ]
  },
  {
   "cell_type": "code",
   "execution_count": 3,
   "metadata": {},
   "outputs": [
    {
     "name": "stdout",
     "output_type": "stream",
     "text": [
      "abcdefghijklmnopqrstuvwxyzABCDEFGHIJKLMNOPQRSTUVWXYZ .,;'\n",
      "n_letters = 57\n"
     ]
    }
   ],
   "source": [
    "# All letters in the vocabulary\n",
    "all_letters = string.ascii_letters + \" .,;'\"\n",
    "n_letters = len(all_letters)\n",
    "print(all_letters)\n",
    "print(f\"{n_letters = }\")"
   ]
  },
  {
   "cell_type": "code",
   "execution_count": 4,
   "metadata": {},
   "outputs": [
    {
     "data": {
      "text/plain": [
       "'Slusarski'"
      ]
     },
     "execution_count": 4,
     "metadata": {},
     "output_type": "execute_result"
    }
   ],
   "source": [
    "# process text from unicode encoding to ASCII encoding\n",
    "\n",
    "def unicodeToAscii(s):\n",
    "    return ''.join(\n",
    "        c for c in unicodedata.normalize('NFD', s)\n",
    "        if unicodedata.category(c) != 'Mn'\n",
    "        and c in all_letters\n",
    "    )    \n",
    "\n",
    "# Read a file and split into lines\n",
    "def readLines(filename):\n",
    "    lines = open(filename, encoding='utf-8').read().strip().split('\\n')\n",
    "    return [unicodeToAscii(line) for line in lines]\n",
    "\n",
    "\n",
    "# example\n",
    "unicodeToAscii('Ślusàrski')"
   ]
  },
  {
   "cell_type": "code",
   "execution_count": 5,
   "metadata": {},
   "outputs": [
    {
     "name": "stdout",
     "output_type": "stream",
     "text": [
      "n_categories = 18\n"
     ]
    }
   ],
   "source": [
    "# Build the category_lines dictionary, a list of names per language\n",
    "# Also store list of all categories\n",
    "\n",
    "category_lines = {}\n",
    "all_categories = []\n",
    "for filename in findFiles('data/rnn_tut_data/names/*.txt'):\n",
    "    category = os.path.splitext(os.path.basename(filename))[0]\n",
    "    all_categories.append(category)\n",
    "    lines = readLines(filename)\n",
    "    category_lines[category] = lines\n",
    "\n",
    "n_categories = len(all_categories)\n",
    "print(f\"{n_categories = }\")"
   ]
  },
  {
   "cell_type": "code",
   "execution_count": 6,
   "metadata": {},
   "outputs": [
    {
     "name": "stdout",
     "output_type": "stream",
     "text": [
      "Arabic - Names = 2000\n",
      "Chinese - Names = 268\n",
      "Czech - Names = 519\n",
      "Dutch - Names = 297\n",
      "English - Names = 3668\n",
      "French - Names = 277\n",
      "German - Names = 724\n",
      "Greek - Names = 203\n",
      "Irish - Names = 232\n",
      "Italian - Names = 709\n",
      "Japanese - Names = 991\n",
      "Korean - Names = 94\n",
      "Polish - Names = 139\n",
      "Portuguese - Names = 74\n",
      "Russian - Names = 9408\n",
      "Scottish - Names = 100\n",
      "Spanish - Names = 298\n",
      "Vietnamese - Names = 73\n"
     ]
    }
   ],
   "source": [
    "for cat in all_categories:\n",
    "    print(f\"{cat} - Names = {len(category_lines[cat])}\")"
   ]
  },
  {
   "cell_type": "markdown",
   "metadata": {},
   "source": [
    "### Data -> Tensors\n",
    "Converting text data into tensors to be passed into pytorch models."
   ]
  },
  {
   "cell_type": "code",
   "execution_count": 7,
   "metadata": {},
   "outputs": [
    {
     "name": "stdout",
     "output_type": "stream",
     "text": [
      "tensor([[0., 0., 0., 0., 0., 0., 0., 0., 0., 0., 0., 0., 0., 0., 0., 0., 0., 0.,\n",
      "         0., 0., 0., 0., 0., 0., 0., 0., 0., 0., 0., 0., 0., 0., 0., 0., 0., 1.,\n",
      "         0., 0., 0., 0., 0., 0., 0., 0., 0., 0., 0., 0., 0., 0., 0., 0., 0., 0.,\n",
      "         0., 0., 0.]])\n",
      "torch.Size([5, 1, 57])\n"
     ]
    }
   ],
   "source": [
    "def letterToIndex(letter): ##convert a letter to its index in all_letters\n",
    "    return all_letters.find(letter)\n",
    "\n",
    "def letterToTensor(letter): ##convert a letter to a tensor\n",
    "    tensor = torch.zeros(1, n_letters)\n",
    "    tensor[0][letterToIndex(letter)] = 1 ##index the letter in the onehot-encoding\n",
    "    return tensor\n",
    "\n",
    "# Turn a line into a <line_length x 1 x n_letters>,\n",
    "# or an array of one-hot letter vectors\n",
    "def lineToTensor(line):\n",
    "    tensor = torch.zeros(len(line), 1, n_letters)\n",
    "    for li, letter in enumerate(line):\n",
    "        tensor[li][0][letterToIndex(letter)] = 1\n",
    "    return tensor\n",
    "\n",
    "print( letterToTensor(\"J\") )\n",
    "print( (lineToTensor(\"Hello\")).shape )\n"
   ]
  },
  {
   "cell_type": "markdown",
   "metadata": {},
   "source": [
    "### Helper Functions\n",
    "`categoryFromOutput()` decodes the model's output into category labels.  \n",
    "`randomTrainingExample()` provides one random training ex.  \n",
    "`plot_grad_flow_basic()` a dummed version to plot the gradient flow in the tensor-level models."
   ]
  },
  {
   "cell_type": "code",
   "execution_count": 8,
   "metadata": {},
   "outputs": [],
   "source": [
    "def categoryFromOutput(output):\n",
    "    \"\"\"Decode model output into category prediction\"\"\"\n",
    "    top_n, top_i = output.topk(1)\n",
    "    category_i = top_i[0].item()\n",
    "    return all_categories[category_i], category_i"
   ]
  },
  {
   "cell_type": "code",
   "execution_count": 9,
   "metadata": {},
   "outputs": [
    {
     "name": "stdout",
     "output_type": "stream",
     "text": [
      "category = Korean / line = Yeon\n",
      "category = Italian / line = Gabrielli\n",
      "category = Portuguese / line = Pinheiro\n",
      "category = Polish / line = Janda\n",
      "category = Korean / line = Yoon\n",
      "category = Spanish / line = Araya\n",
      "category = Portuguese / line = Coelho\n",
      "category = French / line = Rome\n",
      "category = Portuguese / line = Cardozo\n",
      "category = Arabic / line = Nahas\n"
     ]
    }
   ],
   "source": [
    "def randomChoice(l):\n",
    "    return l[random.randint(0, len(l) - 1)]\n",
    "\n",
    "def randomTrainingExample(category : str = None):\n",
    "    \"\"\"\n",
    "    Randomly pick training examples. Optionally provide specific nationality category.\n",
    "    Returns category, line, category_tensor, line_tensor\n",
    "    \"\"\"\n",
    "    if category is None: ##pick random category\n",
    "        category = all_categories[random.randint(0, len(all_categories) - 1)]\n",
    "\n",
    "    line = randomChoice(category_lines[category])\n",
    "    category_tensor = torch.tensor([all_categories.index(category)], dtype=torch.long)\n",
    "    line_tensor = lineToTensor(line)\n",
    "    return category, line, category_tensor, line_tensor\n",
    "\n",
    "\n",
    "# Example\n",
    "for i in range(10):\n",
    "    category, line, category_tensor, line_tensor = randomTrainingExample()\n",
    "    print('category =', category, '/ line =', line)\n"
   ]
  },
  {
   "cell_type": "code",
   "execution_count": 10,
   "metadata": {},
   "outputs": [],
   "source": [
    "def plot_grad_flow_basic(raw_parameters : list):\n",
    "    '''\n",
    "    Plots the gradients flowing through different layers in the net during training.\n",
    "    Can be used for checking for possible gradient vanishing / exploding problems.\n",
    "    \n",
    "    Usage: Provide the list of raw model parameters.\n",
    "    Adapted from source: https://discuss.pytorch.org/t/check-gradient-flow-in-network/15063/10\n",
    "    '''\n",
    "    ave_grads = []\n",
    "    max_grads= []\n",
    "    layers = []\n",
    "    for n, p in enumerate(raw_parameters):\n",
    "        if(p.requires_grad) & (p.grad is not None): #and (\"bias\" not in n):\n",
    "            layers.append(str(n))\n",
    "            ave_grads.append(p.grad.abs().mean())\n",
    "            max_grads.append(p.grad.abs().max())\n",
    "    plt.bar(np.arange(len(max_grads)), max_grads, alpha=0.1, lw=1, color=\"c\")\n",
    "    plt.bar(np.arange(len(max_grads)), ave_grads, alpha=0.1, lw=1, color=\"b\")\n",
    "    plt.hlines(0, 0, len(ave_grads)+1, lw=2, color=\"k\" )\n",
    "    plt.xticks(range(0,len(ave_grads), 1), layers, rotation=\"vertical\")\n",
    "    plt.xlim(left=0, right=len(ave_grads))\n",
    "    plt.ylim(bottom = min(ave_grads), top=(sum(ave_grads)/len(ave_grads))) # zoom in on the lower gradient regions\n",
    "    plt.xlabel(\"Layers\")\n",
    "    plt.ylabel(\"average gradient\")\n",
    "    plt.title(\"Gradient flow\")\n",
    "    plt.grid(True)\n",
    "    plt.legend([Line2D([0], [0], color=\"c\", lw=4),\n",
    "                Line2D([0], [0], color=\"b\", lw=4),\n",
    "                Line2D([0], [0], color=\"k\", lw=4)], ['max-gradient', 'mean-gradient', 'zero-gradient'])\n"
   ]
  },
  {
   "cell_type": "markdown",
   "metadata": {},
   "source": [
    "# Basic RNN Diagram\n",
    "\n",
    "\n"
   ]
  },
  {
   "cell_type": "code",
   "execution_count": 555,
   "metadata": {},
   "outputs": [
    {
     "data": {
      "text/plain": [
       "\"\\nA BASIC RNN\\n- Note that inputs are sequential so this is not an 'unrolled' RNN diagram. \\n- Imagine each input of length n consists of sub-inputs [t0,...,tn-1, tn] and each hidden state consists of sub-states [h0...,hn-1, hn]\\n- t0 and h0 (a zero vector) are passed in and concatenated, then used to update the OUTPUT and the hidden state \\n\\n\\n[input]          [hidden]<---\\n    |_____      _____|      |\\n          |    |            |\\n        [combined]          |       (Concatenate the input and hidden layers)\\n    _____|       |__        |\\n   |                |       |\\n  [i2o]            [i2h]    |      (NN 'hidden layers' - inputs to outputs, inputs to hidden)\\n   |                |       |       (could apply an activation function)\\n[softmax]           |       |\\n   |                ⬇       |       \\n   ⬇             [hidden]--->\\n[OUTPUT]\\n\\n\\n\\n_____________________________________\\nFor the tensor level implementation, the [combined] layer corresponds to \\n`h = torch.tanh( (self.W_xh @ x.T) + (self.W_hh @ hidden) + self.bh)`\\nwhere W_xh (weight matrix) maps [input] to [combined] and W_hh maps [hidden] to [combined], and there is a bias term as well.  \\nThis step both combines the inputs with the current hidden state AND produces the new hidden state, h, essentially acting as [i2h] as well.  \\nThe [i2o] layer uses h, the new hidden state which is determined by the previous hidden state and the current inputs, \\nto produce the output (no softmax is applied). The [i2o] layer is essentially represented by the W_hy matrix which maps from h to [OUTPUT].\\n\\n\""
      ]
     },
     "execution_count": 555,
     "metadata": {},
     "output_type": "execute_result"
    }
   ],
   "source": [
    "\"\"\"\n",
    "A BASIC RNN\n",
    "- Note that inputs are sequential so this is not an 'unrolled' RNN diagram. \n",
    "- Imagine each input of length n consists of sub-inputs [t0,...,tn-1, tn] and each hidden state consists of sub-states [h0...,hn-1, hn]\n",
    "- t0 and h0 (a zero vector) are passed in and concatenated, then used to update the OUTPUT and the hidden state \n",
    "\n",
    "\n",
    "[input]          [hidden]<---\n",
    "    |_____      _____|      |\n",
    "          |    |            |\n",
    "        [combined]          |       (Concatenate the input and hidden layers)\n",
    "    _____|       |__        |\n",
    "   |                |       |\n",
    "  [h2o]            [h2h]    |      (NN 'feedforward layers' - hidden to outputs, hidden to hidden)\n",
    "   |                |       |       (could apply an activation function on h2h)\n",
    "[softmax]           |       |\n",
    "   |                ⬇       |       \n",
    "   ⬇             [hidden]--->\n",
    "[OUTPUT]\n",
    "\n",
    "\n",
    "\n",
    "_____________________________________\n",
    "For the tensor level implementation, the [combined] layer corresponds to \n",
    "`h = torch.tanh( (self.W_xh @ x.T) + (self.W_hh @ hidden) + self.bh)`\n",
    "where W_xh (weight matrix) maps [input] to [combined] and W_hh maps [hidden] to [combined], and there is a bias term as well.  \n",
    "This step both combines the inputs with the current hidden state AND produces the new hidden state, h, essentially acting as [h2h] as well.  \n",
    "The [h2o] layer uses h, the new hidden state which is determined by the previous hidden state and the current inputs, \n",
    "to produce the output. The [h2o] layer is essentially represented by the W_hy matrix which maps from h to [OUTPUT].\n",
    "\n",
    "\"\"\""
   ]
  },
  {
   "cell_type": "markdown",
   "metadata": {},
   "source": [
    "# Tensor Level RNN <a class=\"anchor\" id=\"rnn-ten\"></a>\n",
    "Inspired by [\"The Unreasonable Effectiveness of Recurrent Neural Networks\"](https://karpathy.github.io/2015/05/21/rnn-effectiveness/).  \n",
    "\n",
    "Some notes of interest:\n",
    "- The weights in my hidden state were exploding until I multiplied a small coefficient by the randomly initialized weight matrices. While I still used a basic random uniform generator, this shows how important initialization is. \n",
    "- When the hidden state explodes, the activation fn (whether relu or tanh) causes the new hidden state to be unuseful for training (with tanh I found that it would always revert to all 1s since the weights got very large and positive and with relu I found that it would always rever to all 0s since the weights got very large and negative).  This made it impossible for the model to learn.   "
   ]
  },
  {
   "cell_type": "code",
   "execution_count": 585,
   "metadata": {},
   "outputs": [],
   "source": [
    "class BasicRNN:\n",
    "    def __init__(self, input_size, hidden_size, output_size):\n",
    "        \"\"\"Initialize a basic RNN model.\"\"\"\n",
    "        self.input_size = input_size\n",
    "        self.hidden_size = hidden_size\n",
    "        self.output_size = output_size\n",
    "\n",
    "    def random_weights(self):\n",
    "        \"\"\"Randomly initialize model weights\"\"\"\n",
    "        # Weight matrix that maps hidden to hidden\n",
    "        self.W_hh = torch.rand((self.hidden_size, self.hidden_size)) * 0.01\n",
    "        # Weight matrix that maps inputs to hidden\n",
    "        self.W_xh = torch.rand((self.hidden_size, self.input_size)) * 0.01\n",
    "        # Weight matrix that maps updated hidden/input concatenation to output \n",
    "        self.W_hy = torch.rand((self.output_size, self.hidden_size)) * 0.01\n",
    "        # Biases\n",
    "        self.bh = torch.zeros((self.hidden_size, 1)) # hidden bias\n",
    "        self.by = torch.zeros((self.output_size, 1)) # output bias\n",
    "        for p in [self.W_hh, self.W_xh, self.W_hy, self.bh, self.by]:\n",
    "            p.requires_grad = True\n",
    "    \n",
    "    def init_hidden(self):\n",
    "        \"\"\"Initialize the hidden state with the zero vector.\"\"\"\n",
    "        return torch.zeros((self.hidden_size, 1), requires_grad=True)\n",
    "\n",
    "    def forward(self, hidden, x, y=None):\n",
    "        \"\"\"Perform one forward step.\"\"\"\n",
    "        # update hidden state\n",
    "        h = torch.relu( (self.W_xh @ x.T) + (self.W_hh @ hidden) + self.bh)\n",
    "        # compute output vector\n",
    "        logits = (self.W_hy @ h) + self.by\n",
    "        probs = torch.nn.functional.softmax(logits, dim=0)\n",
    "\n",
    "        # LOSS\n",
    "        loss = None\n",
    "        if y is not None:\n",
    "            y_ohe = torch.zeros(self.output_size)\n",
    "            y_ohe[y] = 1.0\n",
    "            loss = torch.nn.functional.cross_entropy(logits.squeeze(), y_ohe)\n",
    "        self.loss = loss\n",
    "\n",
    "        return h, probs, loss\n",
    "    \n",
    "    def backprop_update(self, lr=0.1):\n",
    "        \"\"\"Backprop to calculate gradients. Apply gradients with vanills SGD.\"\"\"\n",
    "        params = [self.W_hh, self.W_xh, self.W_hy, self.bh, self.by]\n",
    "\n",
    "        # ensure gradients are zerod\n",
    "        for p in params:\n",
    "            p.grad = None\n",
    "\n",
    "        # backprop\n",
    "        self.loss.backward()\n",
    "\n",
    "        # update\n",
    "        for i, p in enumerate(params):\n",
    "            #if p.grad is not None:\n",
    "            if p.grad is None:\n",
    "                print(i)\n",
    "            p.data += -lr * p.grad\n",
    "    \n",
    "    def predict(self, name : str):\n",
    "        \"\"\"Predict the country of origin for a new name. Relies on external helper fns.\"\"\"\n",
    "        \n",
    "        sample = lineToTensor(name)\n",
    "        with torch.no_grad():\n",
    "            hidden = self.init_hidden()\n",
    "            for t in range(sample.shape[0]):\n",
    "                hidden, probs, _ = self.forward(hidden=hidden, x=sample[t], y=None)\n",
    "        \n",
    "        pred = torch.argmax(probs)\n",
    "        pred_cat = all_categories[pred]\n",
    "\n",
    "        return pred_cat"
   ]
  },
  {
   "cell_type": "code",
   "execution_count": 564,
   "metadata": {},
   "outputs": [
    {
     "name": "stdout",
     "output_type": "stream",
     "text": [
      "['Park ', 'Gaspar', 'Abboud', 'Tourna', 'Zogby', 'Ankeren', 'Missiakos', 'Tahan', 'Abbascia', 'Croce']\n"
     ]
    }
   ],
   "source": [
    "# Generate some training data (just use 1000 samples for quicker training)\n",
    "xs, ys, names = [],[],[]\n",
    "samples = 1000\n",
    "\n",
    "for _ in range(samples):\n",
    "    cat, line, y, x = randomTrainingExample()\n",
    "    xs.append(x)\n",
    "    ys.append(y)\n",
    "    names.append(line)\n",
    "print(names[:10])"
   ]
  },
  {
   "cell_type": "code",
   "execution_count": 586,
   "metadata": {},
   "outputs": [],
   "source": [
    "# Initialize the model and initialize weights randomly\n",
    "model = BasicRNN(input_size=n_letters, hidden_size=64, output_size=n_categories)\n",
    "model.random_weights()\n",
    "\n",
    "losses = []\n",
    "preds = []\n",
    "# hiddens = []"
   ]
  },
  {
   "cell_type": "code",
   "execution_count": 610,
   "metadata": {},
   "outputs": [],
   "source": [
    "# TRAINING\n",
    "# For each epoch, iterate over all of the samples\n",
    "# For each sample, pass in one character after the other to update the hidden state, and then backprop after the sample is done\n",
    "epochs = 10\n",
    "for ep in range(epochs):\n",
    "    for s in range(samples):\n",
    "        x_s = xs[s]\n",
    "        y_s = ys[s]\n",
    "        \n",
    "        # Initialize hidden state with zero vector\n",
    "        hidden = model.init_hidden()\n",
    "        # For the current sample, pass in each character sequentially to update hidden state\n",
    "        for t in range(x_s.shape[0]):\n",
    "            hidden, probs, loss = model.forward(hidden, x_s[t], y_s)\n",
    "        # Backprop\n",
    "        model.backprop_update(lr=0.01)\n",
    "        \n",
    "        # if last epoch, save final predicted probs for each sample\n",
    "        if ep == max(range(epochs)):\n",
    "            preds.append(probs)\n",
    "    \n",
    "    # save loss at epoch end        \n",
    "    losses.append(loss.item())"
   ]
  },
  {
   "cell_type": "code",
   "execution_count": 611,
   "metadata": {},
   "outputs": [
    {
     "name": "stdout",
     "output_type": "stream",
     "text": [
      "Park  -      Predicted: Dutch (3). True: Korean (11)\n",
      "Gaspar -      Predicted: Dutch (3). True: Portuguese (13)\n",
      "Abboud -      Predicted: Dutch (3). True: Arabic (0)\n",
      "Tourna -      Predicted: Italian (9). True: Greek (7)\n",
      "Zogby -      Predicted: Dutch (3). True: Arabic (0)\n",
      "Ankeren -      Predicted: Dutch (3). True: Dutch (3)\n",
      "Missiakos -      Predicted: Greek (7). True: Greek (7)\n",
      "Tahan -      Predicted: Dutch (3). True: Arabic (0)\n",
      "Abbascia -      Predicted: Italian (9). True: Italian (9)\n",
      "Croce -      Predicted: Dutch (3). True: Italian (9)\n"
     ]
    }
   ],
   "source": [
    "for s in range(10):\n",
    "    name = names[s]\n",
    "    pred = torch.argmax(preds[s])\n",
    "    true = ys[s]\n",
    "    pred_cat = all_categories[pred]\n",
    "    true_cat = all_categories[true]\n",
    "    print(f\"{name} -      Predicted: {pred_cat} ({pred}). True: {true_cat} ({true.item()})\")"
   ]
  },
  {
   "cell_type": "code",
   "execution_count": 612,
   "metadata": {},
   "outputs": [
    {
     "data": {
      "image/png": "[encoded data removed]",
      "text/plain": [
       "<Figure size 432x288 with 1 Axes>"
      ]
     },
     "metadata": {
      "needs_background": "light"
     },
     "output_type": "display_data"
    }
   ],
   "source": [
    "plt.plot(losses)\n",
    "plt.title(\"loss at epoch end\")\n",
    "plt.show()"
   ]
  },
  {
   "cell_type": "code",
   "execution_count": 619,
   "metadata": {},
   "outputs": [
    {
     "name": "stdout",
     "output_type": "stream",
     "text": [
      "Hans - predicted origin: Dutch\n",
      "Elliott - predicted origin: English\n",
      "Liam - predicted origin: Chinese\n",
      "Kira - predicted origin: Portuguese\n",
      "Kisten - predicted origin: Dutch\n",
      "Jerry - predicted origin: French\n",
      "Sasha - predicted origin: Japanese\n",
      "Chester - predicted origin: French\n"
     ]
    }
   ],
   "source": [
    "# Predict onto new names\n",
    "for name in [\"Hans\", \"Elliott\", \"Liam\", \"Kira\", \"Kisten\", \"Jerry\", \"Sasha\", \"Chester\"]:\n",
    "    p = model.predict(name)\n",
    "    print(f\"{name} - predicted origin: {p}\")"
   ]
  },
  {
   "cell_type": "markdown",
   "metadata": {},
   "source": [
    "# RNN at torch.nn level <a class=\"anchor\" id=\"rnn-nn\"></a>\n",
    "One step higher, matrix multiplication is taken care of by pytorch. We just need to worry about the architecture and ensuring that layers are initialized with the right feature sizes."
   ]
  },
  {
   "cell_type": "code",
   "execution_count": 11,
   "metadata": {},
   "outputs": [],
   "source": [
    "class RNN(nn.Module):\n",
    "    def __init__(self, input_size, hidden_size, output_size, activation):\n",
    "        super(RNN, self).__init__()\n",
    "\n",
    "        self.input_size = input_size\n",
    "        self.hidden_size = hidden_size\n",
    "        self.output_size = output_size\n",
    "        self.activation = activation\n",
    "\n",
    "        self.h2h = nn.Linear(in_features = input_size + hidden_size, \n",
    "                            out_features = hidden_size)\n",
    "        self.h2o = nn.Linear(in_features = input_size + hidden_size,\n",
    "                            out_features = output_size)\n",
    "\n",
    "        # reinitialize weights if recalling __init__\n",
    "        self.apply(self._init_weights)\n",
    "        # count params\n",
    "        self.n_params = self._count_params()\n",
    "        \n",
    "    def forward(self, hidden, input, y=None):\n",
    "        \"\"\"Concatenate the inputs with the hidden state and forward pass through the linear layers (+ softmax).\"\"\"\n",
    "        combined = torch.cat((input, hidden), dim=1)\n",
    "        hidden_ = self.activation(self.h2h(combined))\n",
    "        logits = self.h2o(combined)\n",
    "        probs = torch.softmax(logits, dim=1)\n",
    "\n",
    "        loss = None\n",
    "        # if y is not None:\n",
    "        #     y_ohe = torch.zeros(self.output_size)\n",
    "        #     y_ohe[y] = 1.0\n",
    "        #     loss = torch.nn.functional.cross_entropy(logits.squeeze(), y_ohe)\n",
    "\n",
    "        return hidden_, logits, probs, loss\n",
    "\n",
    "    def init_hidden(self):\n",
    "        \"\"\"initialization for the hidden state with the zero vector.\"\"\"\n",
    "        return torch.zeros(1, self.hidden_size)\n",
    "    \n",
    "\n",
    "    def _init_weights(self, module):\n",
    "        \"\"\"Reinitialize weights and biases.\"\"\"\n",
    "        if isinstance(module, nn.Linear):\n",
    "            torch.nn.init.xavier_uniform_(module.weight.data) ##since using tanh\n",
    "            if module.bias is not None:\n",
    "                module.bias.data.zero_()\n",
    "    \n",
    "    def _count_params(self):\n",
    "        params = 0\n",
    "        for p in self.parameters():\n",
    "            params += p.nelement()\n",
    "        return params\n",
    "\n",
    "\n",
    "    # Create a train function (one training step)\n",
    "    def train_step(self, category_tensor, line_tensor, lr):\n",
    "        \"\"\"Perform one forward and backward pass, and update model's weights.\"\"\"\n",
    "        \n",
    "        # Initialize the hidden states (with zeros)\n",
    "        hidden = self.init_hidden() \n",
    "\n",
    "        # Zero any gradients\n",
    "        self.zero_grad()\n",
    "\n",
    "        # FORWARD PASS\n",
    "        for i in range(line_tensor.shape[0]):\n",
    "            # FEED IN EACH CHARACTER OF THE LINE\n",
    "            ## GET THE OUTPUT AND THE NEW HIDDEN STATE\n",
    "            hidden, logits, probs, _ = self(hidden, line_tensor[i])\n",
    "        \n",
    "        # BACKWARD PASS\n",
    "        # y_ohe = torch.zeros(len(all_categories))\n",
    "        # y_ohe[category_tensor] = 1.0\n",
    "        criterion = nn.CrossEntropyLoss()\n",
    "        loss = criterion(logits, category_tensor) ##provide logits since this fn combines softmax w crossent\n",
    "        loss.backward() #backprop\n",
    "\n",
    "        # UPDATE\n",
    "        for p in self.parameters():\n",
    "            p.data += -lr * p.grad\n",
    "\n",
    "        return logits, loss.item()\n",
    "\n",
    "    # Just return an output given a line\n",
    "    def evaluate(self, name : Union[str, torch.tensor], n_predictions : int=1):\n",
    "        hidden = self.init_hidden()\n",
    "\n",
    "        if type(name) == str:\n",
    "            line_tensor = lineToTensor(name)\n",
    "        elif type(name) == torch.Tensor:\n",
    "            line_tensor = name\n",
    "        else:\n",
    "            print(\"Provide string or tensor\")\n",
    "            raise NotImplementedError\n",
    "\n",
    "        with torch.no_grad():\n",
    "            for t in range(line_tensor.shape[0]):\n",
    "                hidden, logits, probs, loss = self(hidden, line_tensor[t])\n",
    "        \n",
    "        pred_cat = all_categories[torch.argmax(logits, dim=1)]\n",
    "        topv, topi = logits.topk(n_predictions, 1, True)\n",
    "\n",
    "        for i in range(n_predictions):\n",
    "            value = topv[0][i].item()\n",
    "            category_index = topi[0][i].item()\n",
    "            print('(%.2f) %s' % (value, all_categories[category_index]))\n",
    "            # predictions.append([value, all_categories[category_index]])\n",
    "\n",
    "\n",
    "        return pred_cat\n"
   ]
  },
  {
   "cell_type": "code",
   "execution_count": 12,
   "metadata": {},
   "outputs": [
    {
     "name": "stdout",
     "output_type": "stream",
     "text": [
      "> Albert\n",
      "torch.Size([1, 18])\n",
      "('Russian', 14)\n",
      "('Russian', 14)\n",
      "\n",
      " Model params: 27156\n"
     ]
    }
   ],
   "source": [
    "# INITIALIZE MODEL (decided to use 2 RNN layers)\n",
    "torch.manual_seed(12345)\n",
    "\n",
    "n_hidden = 128\n",
    "rnn = RNN(input_size=n_letters, \n",
    "          hidden_size=n_hidden, \n",
    "          output_size=n_categories, \n",
    "          activation=torch.tanh)\n",
    "\n",
    "\n",
    "# Example\n",
    "print(\"> Albert\")\n",
    "input = lineToTensor(\"Albert\")\n",
    "\n",
    "hidden = rnn.init_hidden()\n",
    "next_hidden, logits, probs, _ = rnn(hidden, input[0])\n",
    "\n",
    "\n",
    "print(logits.shape) ##1 x n_categories, where every category is the likelihood of that category.\n",
    "print(categoryFromOutput(logits)) ## decoded prediction\n",
    "print(categoryFromOutput(probs)) ## works if using softmaxed output too\n",
    "print(f\"\\n Model params: {rnn.n_params}\")\n"
   ]
  },
  {
   "cell_type": "markdown",
   "metadata": {},
   "source": [
    "## training loop"
   ]
  },
  {
   "cell_type": "code",
   "execution_count": 784,
   "metadata": {},
   "outputs": [],
   "source": [
    "def timeSince(since):\n",
    "    now = time.time()\n",
    "    s = now - since\n",
    "    m = math.floor(s / 60)\n",
    "    s -= m * 60\n",
    "    return '%dm %ds' % (m, s)\n",
    "\n",
    "\n",
    "lr = 0.01 ##learning rate\n",
    "n_iters = 10_000\n",
    "print_every = 1000\n",
    "plot_every = 10\n",
    "\n",
    "current_loss = 0\n",
    "all_losses = []"
   ]
  },
  {
   "cell_type": "code",
   "execution_count": 785,
   "metadata": {},
   "outputs": [
    {
     "name": "stdout",
     "output_type": "stream",
     "text": [
      "1000 10% (0m 25s) 2.8804 Tourna / Spanish ✗ (Greek)\n",
      "2000 20% (0m 51s) 2.9255 Loat / French ✗ (English)\n",
      "3000 30% (1m 16s) 2.5910 Riedel / Spanish ✗ (Czech)\n",
      "4000 40% (1m 41s) 0.5025 Minami / Japanese ✓\n",
      "5000 50% (2m 7s) 1.5977 Roig / Chinese ✗ (Spanish)\n",
      "6000 60% (2m 32s) 0.0199 Simoes / Portuguese ✓\n",
      "7000 70% (2m 57s) 0.0283 Kido / Japanese ✓\n",
      "8000 80% (3m 22s) 4.3577 Maas / Vietnamese ✗ (Dutch)\n",
      "9000 90% (3m 47s) 1.4213 Dvorak / Portuguese ✗ (Czech)\n",
      "10000 100% (4m 12s) 1.2490 Bruce / German ✗ (Scottish)\n"
     ]
    }
   ],
   "source": [
    "test_1_sample = False\n",
    "\n",
    "start = time.time()\n",
    "for iter in range(1, n_iters+1):\n",
    "    cat_permutation = random.sample(all_categories, len(all_categories))\n",
    "    for cat in cat_permutation: ##iterate through all possible categories and get one training ex for each\n",
    "        # Get a batch (a random training example)\n",
    "        category, line, category_tensor, line_tensor = randomTrainingExample(category=cat)\n",
    "        \n",
    "        if test_1_sample:\n",
    "            category, line, line_tensor = \"Italian\", \"Abandonato\", lineToTensor(\"Abandonato\")\n",
    "            category_tensor = torch.tensor([all_categories.index(category)], dtype=torch.long)\n",
    "\n",
    "        # Perforam a train step and record loss\n",
    "        logits, loss = rnn.train_step(category_tensor, line_tensor, lr=lr)\n",
    "        current_loss += loss\n",
    "\n",
    "    # print updates\n",
    "    if (iter % print_every) == 0:\n",
    "        guess, guess_i = categoryFromOutput(logits)\n",
    "        correct = '✓' if guess == category else '✗ (%s)' % category\n",
    "        print('%d %d%% (%s) %.4f %s / %s %s' % (iter, iter / n_iters * 100, timeSince(start), loss, line, guess, correct))\n",
    "\n",
    "    # Add current loss avg to list of losses\n",
    "    if (iter % plot_every) == 0:\n",
    "        all_losses.append(current_loss / plot_every)\n",
    "        current_loss = 0"
   ]
  },
  {
   "cell_type": "code",
   "execution_count": 786,
   "metadata": {},
   "outputs": [
    {
     "data": {
      "image/png": "[encoded data removed]",
      "text/plain": [
       "<Figure size 432x288 with 1 Axes>"
      ]
     },
     "metadata": {
      "needs_background": "light"
     },
     "output_type": "display_data"
    }
   ],
   "source": [
    "plt.plot(all_losses)\n",
    "plt.title(f\"Average loss per {plot_every} steps\")\n",
    "plt.show()"
   ]
  },
  {
   "cell_type": "code",
   "execution_count": 800,
   "metadata": {},
   "outputs": [
    {
     "name": "stdout",
     "output_type": "stream",
     "text": [
      "MacGyver - prediction =  Scottish\n",
      "Blair - prediction =  Scottish\n",
      "Douglas - prediction =  Greek\n",
      "Isla - prediction =  Arabic\n",
      "Fergus - prediction =  Portuguese\n"
     ]
    }
   ],
   "source": [
    "for name in [\"MacGyver\", \"Blair\", \"Douglas\", \"Isla\", \"Fergus\"]:\n",
    "    print(name, \"- prediction = \", rnn.evaluate(name))"
   ]
  },
  {
   "cell_type": "markdown",
   "metadata": {},
   "source": [
    "### Confusion Matrix"
   ]
  },
  {
   "cell_type": "code",
   "execution_count": 811,
   "metadata": {},
   "outputs": [
    {
     "name": "stderr",
     "output_type": "stream",
     "text": [
      "C:\\Users\\hanse\\AppData\\Local\\Temp\\ipykernel_21744\\1636018581.py:25: UserWarning: FixedFormatter should only be used together with FixedLocator\n",
      "  ax.set_xticklabels([''] + all_categories, rotation=90)\n",
      "C:\\Users\\hanse\\AppData\\Local\\Temp\\ipykernel_21744\\1636018581.py:26: UserWarning: FixedFormatter should only be used together with FixedLocator\n",
      "  ax.set_yticklabels([''] + all_categories)\n"
     ]
    },
    {
     "data": {
      "image/png": "[encoded data removed]",
      "text/plain": [
       "<Figure size 720x360 with 2 Axes>"
      ]
     },
     "metadata": {
      "needs_background": "light"
     },
     "output_type": "display_data"
    }
   ],
   "source": [
    "# Keep track of correct guesses in a confusion matrix (2x2 torch tensor)\n",
    "confusion = torch.zeros(n_categories, n_categories)\n",
    "n_confusion = 1000\n",
    "\n",
    "# Go through a bunch of examples and record which are correctly guessed\n",
    "for i in range(n_confusion):\n",
    "    truth_cat, _, _, line_tensor = randomTrainingExample()\n",
    "    guess_cat = rnn.evaluate(line_tensor)\n",
    "    guess_ix = all_categories.index(guess_cat)\n",
    "    truth_ix = all_categories.index(truth_cat)\n",
    "    confusion[truth_ix][guess_ix] += 1\n",
    "\n",
    "# Normalize by dividing every row by its sum\n",
    "for i in range(n_categories):\n",
    "    confusion[i] = confusion[i] / confusion[i].sum()\n",
    "\n",
    "\n",
    "# Set up plot\n",
    "fig = plt.figure(figsize=(10,5))\n",
    "ax = fig.add_subplot(111)\n",
    "cax = ax.matshow(confusion.numpy())\n",
    "fig.colorbar(cax)\n",
    "\n",
    "# # Set up axes\n",
    "ax.set_xticklabels([''] + all_categories, rotation=90)\n",
    "ax.set_yticklabels([''] + all_categories)\n",
    "\n",
    "# Force label at every tick\n",
    "ax.xaxis.set_major_locator(ticker.MultipleLocator(1))\n",
    "ax.yaxis.set_major_locator(ticker.MultipleLocator(1))\n",
    "\n",
    "# sphinx_gallery_thumbnail_number = 2\n",
    "plt.show()"
   ]
  },
  {
   "cell_type": "markdown",
   "metadata": {},
   "source": [
    "# LSTMs & GRU <a class=\"anchor\" id=\"lstm\"></a>\n",
    "An LSTM is a whole new type of recurrent cell which involved mechanisms for short-term memory and long-term memory, and includes special 'gates' which determine what memory is kept.  \n",
    "This is a great blog post for the intuition and math ([Colah's blog](https://colah.github.io/posts/2015-08-Understanding-LSTMs/)).\n",
    "![](https://colah.github.io/posts/2015-08-Understanding-LSTMs/img/LSTM3-chain.png)  \n",
    "Yellow rectangles are NN layers, pink circles are pointwise operations, joining arrow paths are concatenations and splitting arrow paths are copyings.  \n",
    "\n",
    "### Basics\n",
    "The **'cell state'** is the horizontal line running through the top of the cell. \"It runs straight down the entire chain, with only some minor linear interactions\" so information flows along quite naturally, almost uninterrupted along this path. This is the source of *long term memory*.     \n",
    "The LSTM can add information to the cell state, and this is regulated by the **gates**. Each gate consists of a sigmoid NN layer followed by a pointwise multiplication operation.\n",
    "> Since sigmoid functions restrict their output to be between 0 and 1, they literally determine what fraction of the information they see is let through to the next node. If a neuron in the sigmoid layer registers as a 1, then the entirety of the information multiplied by that neuron will be 'let through the gate'. If 0, none of the information passes on. \n",
    "The gates:\n",
    "1. Decide what we're going to forget.\n",
    "    - The 'forget gate' layer: looks at h_t−1 (previous hidden state, the arrow coming in from the bottom left) and  x_t (current input, arrow coming in from the bottom) and outputs a number between 0 and 1 (sigmoid) for every number in C_t-1, the previous Cell state (the arrow running across the top, entering from top left). \n",
    "    - The result is multipled point-wise with C_t-1, regulating the cell state. \n",
    "    - Then the input (x_t) and hidden state (h_t-1) are passed along to the next step (they have been concatenated).  \n",
    "2. Decide what information to add to the cell state.\n",
    "    - The 'input gate' layer: looks at h_t-1 and x_t and outputs a number between 0 and 1 (sigmoid) for every number in the cell state. This will determine which values will be updated, and by what fraction.  \n",
    "    - A tanh layer receives h_t-1 and x_t and creates a vector of *new candidates* for the cell state ('C tilde').\n",
    "    - The output of 'tanh layer' is multiplied point-wise with the 'input gate'. Thus, the gate regulates the degree to which the cell state is updated by new information.  \n",
    "    - The final output is then added point-wise to the true cell state, C_t-1. (x_t and h_t-1 are passed down to next stage).\n",
    "3. Decide what we're going to output.\n",
    "    - The 'output gate' layer: looks at h_t-1 and x_t and outputs a number between 0 and 1 (sigmoid) for every number in the cell state. This will determine which values (and how much of them) are let through into the LSTM's output.\n",
    "    - Then the cell state (C_t-1, which has already been updated by stage 1 and stage 2) gets passed through a tanh layer, squishing values between -1 and 1 (and involving weights which is a chance for the model to learn how to process the inputs).\n",
    "    - The tanh's output is multiplied point-wise with the 'output gate', regulating what actually gets through to the output.  \n",
    "    - This produces h_t, which is the *output* of the LSTM cell (ie, it will be passed on to any further layers or used to make predictions), and it also becomes the new *hidden state* (h_t-1 for the next iteration in the cell's loop).  \n",
    "     \n",
    "(Great diagrams and formulas in the blog)  \n",
    "Visual rep of my implementation:  \n",
    "<img src=\"https://colah.github.io/posts/2015-08-Understanding-LSTMs/img/LSTM3-focus-C.png\" alt=\"LSTM w notation\" width=\"800\"/>  \n",
    "\n",
    "### Variants\n",
    "Continuing through the blog post, Colah describes some common LSTM variants. A common variant introduces **peephole** connections which allow the sigmoid gates to 'look' at the cell state (ie, concatenate the cell state with the hidden state and input before each gate). Colah says \"many papers will give some peepholes and not others,\" but I'll try adding all the connections.  \n",
    "\n",
    "Another variant that I've seen used and discussed is **GRU** - the Gated Recurrent Unit - which combines the forget and input gates into a single \"update gate\" and merges the hidden and cell states.  \n",
    "First the reset gate looks at the hidden state and current input and uses sigmoid to determine how much past information to forget.  \n",
    "Then the update gate decides what information to throw away and what new information to add (sort of combining the forget gate and input gate of the standard LSTM).  \n",
    "Interestingly, the GRU involves less tensor operations so it should be slightly faster. Supposedly this (combined with good performance in comparison with other LSTM variants) is why it is growing in popularity. This definitely holds true for this toy example.  \n"
   ]
  },
  {
   "cell_type": "code",
   "execution_count": 11,
   "metadata": {},
   "outputs": [],
   "source": [
    "class LSTM:\n",
    "    def __init__(self, input_size, hidden_size, output_size=None, variant:str=\"vanilla\") -> None:\n",
    "        \"\"\"\n",
    "        Define an LSTM variant.\n",
    "        input_size = number of elements in one-hot encoded vector for a single input.\n",
    "        hidden_size = desired number of elements in the hidden and cell states\n",
    "        output_size = None unless want a linear, dense layer ontop of the LSTM converting last hidden state to logits of shape (output_size, 1)\n",
    "        variant = desired LSTM variant (\"vanilla\" or \"peephole\").\n",
    "        \"\"\"\n",
    "        self.input_size = input_size\n",
    "        self.hidden_size = hidden_size\n",
    "        self.output_size = output_size\n",
    "        self.variant = variant\n",
    "\n",
    "    def init_weights(self, lam=0.01):\n",
    "        if self.variant == \"vanilla\": #no difference in concats, both include just cat(input, hidden)\n",
    "            h_concat_size = self.input_size + self.hidden_size\n",
    "            c_concat_size = h_concat_size\n",
    "        if self.variant == \"peephole\":#2 concats: cat(input, hidden) and cat(input, hidden, cell)\n",
    "            h_concat_size = self.input_size + self.hidden_size\n",
    "            c_concat_size = self.input_size + self.hidden_size*2 #(since concat hidden & cell state)\n",
    "\n",
    "        self.W_forget = torch.rand((self.hidden_size, c_concat_size)) * lam  ##weights for forget gate\n",
    "        self.bf = torch.zeros((self.hidden_size, 1)) * lam \n",
    "        self.W_input = torch.rand((self.hidden_size, c_concat_size)) * lam ##weights for input gate\n",
    "        self.bi = torch.zeros((self.hidden_size, 1)) * lam\n",
    "        self.W_Ctilde = torch.rand((self.hidden_size, h_concat_size)) * lam ##weights for tanh layer that produces C tilde\n",
    "        self.bC = torch.zeros((self.hidden_size, 1)) * lam\n",
    "        self.W_output = torch.rand((self.hidden_size, c_concat_size)) * lam ##weights for the output gate\n",
    "        self.bo = torch.zeros((self.hidden_size, 1)) * lam\n",
    "        self.W_hidden = torch.rand((self.hidden_size, self.hidden_size)) * lam ##weights for the tanh layer that produces h_t\n",
    "        #self.bh?\n",
    "        if self.output_size is not None:\n",
    "            self.W_h2o = torch.rand((self.output_size, self.hidden_size)) * lam\n",
    "            self.b_h20 = torch.zeros((self.output_size, 1)) * lam\n",
    "        \n",
    "        \n",
    "\n",
    "        self.params = [self.W_forget, self.bf, self.W_input, self.bi, self.W_Ctilde, self.bC, self.W_output, self.bo, self.W_hidden]\n",
    "        if self.output_size is not None:\n",
    "            self.params += [self.W_h2o, self.b_h20]\n",
    "        \n",
    "        for p in self.params:\n",
    "            p.requires_grad = True \n",
    "\n",
    "        self.n_parameters = self._count_params()\n",
    "\n",
    "    def init_states(self):\n",
    "        \"\"\"Initialize hidden and cell states. Returns (hidden, cell)\"\"\"\n",
    "        hidden = torch.zeros((self.hidden_size, 1))  #(hidden size , batch size)\n",
    "        cell = torch.zeros((self.hidden_size, 1))\n",
    "        return hidden, cell\n",
    "    \n",
    "    def vanilla_step(self, input, hidden, cell):\n",
    "        \"\"\"One forward step in the vanilla LSTM to update cell and hidden state. Returns (hidden, cell)\"\"\"\n",
    "        concat = torch.cat((input.T, hidden), dim=0)\n",
    "\n",
    "        # Calc forget gate\n",
    "        f_gate = torch.sigmoid(self.W_forget @ concat + self.bf)\n",
    "\n",
    "        # Calc Input Gate and C-tilde * Input Gate\n",
    "        i_gate = torch.sigmoid(self.W_input @ concat + self.bi)\n",
    "        C_til = torch.tanh(self.W_Ctilde @ concat + self.bC) * i_gate\n",
    "\n",
    "        # Update cell state\n",
    "        cell_new = cell * f_gate\n",
    "        cell_new = cell_new + C_til\n",
    "\n",
    "        # Calc output gate and use updated cell state to update hidden state\n",
    "        o_gate = torch.sigmoid(self.W_output @ concat + self.bo)\n",
    "        hidden_new = torch.tanh(self.W_hidden @ cell_new) * o_gate\n",
    "\n",
    "        return hidden_new, cell_new\n",
    "    \n",
    "    def peephole_step(self, input, hidden, cell):\n",
    "        \"\"\"One forward step in the peephole LSTM to update cell and hidden state. Returns (hidden, cell)\"\"\"\n",
    "        h_concat = torch.cat((input.T, hidden), dim=0) ##concatenate inputs with hidden state (bottom line of the diagram)\n",
    "        c_concat = torch.cat((input.T, hidden, cell), dim=0) ##concatenate everything (only the sigmoid gates get to peek at the cell state)\n",
    "\n",
    "        # Calc forget gate\n",
    "        f_gate = torch.sigmoid(self.W_forget @ c_concat + self.bf)\n",
    "\n",
    "        # Calc Input Gate and C-tilde * Input Gate\n",
    "        i_gate = torch.sigmoid(self.W_input @ c_concat + self.bi)\n",
    "        C_til = torch.tanh(self.W_Ctilde @ h_concat + self.bC) * i_gate\n",
    "\n",
    "        # Update cell state\n",
    "        cell_new = cell * f_gate\n",
    "        cell_new = cell_new + C_til\n",
    "\n",
    "        # Calc output gate and use updated cell state to update hidden state\n",
    "        o_gate = torch.sigmoid(self.W_output @ c_concat + self.bo)\n",
    "        hidden_new = torch.tanh(self.W_hidden @ cell_new) * o_gate\n",
    "\n",
    "        return hidden_new, cell_new\n",
    "\n",
    "\n",
    "    def forward(self, x, y=None, hidden_cell:tuple=None):\n",
    "        \"\"\"\n",
    "        Perform an entire forward pass of a sample to calculate outputs and calculate loss if y is provided.\n",
    "        Returns logits, loss.\n",
    "        \"\"\"\n",
    "        # Initialize states with zeroes\n",
    "        if hidden_cell is None:\n",
    "            hidden, cell = self.init_states()\n",
    "        \n",
    "        # Pass through input sequentially and update states\n",
    "        if self.variant==\"vanilla\":\n",
    "            for t in range(x.shape[0]):\n",
    "                hidden, cell = self.vanilla_step(x[t], hidden=hidden, cell=cell)\n",
    "        if self.variant==\"peephole\":\n",
    "            for t in range(x.shape[0]):\n",
    "                hidden, cell = self.peephole_step(x[t], hidden=hidden, cell=cell)\n",
    "        \n",
    "        # If output shape is not equal to hidden shape, pass through a linear layer to calculate final logits\n",
    "        if self.output_size is not None:\n",
    "            logits = (self.W_h2o @ hidden) + self.b_h20\n",
    "        else:\n",
    "            logits = hidden\n",
    "        \n",
    "        # Calculate loss \n",
    "        loss = None\n",
    "        if y is not None:\n",
    "            y_size = self.output_size if self.output_size is not None else self.hidden_size\n",
    "            y_ohe = torch.zeros(y_size)\n",
    "            y_ohe[y] = 1.0\n",
    "            loss = torch.nn.functional.cross_entropy(logits.squeeze(), y_ohe)\n",
    "        self.loss = loss\n",
    "\n",
    "        return logits, loss\n",
    "\n",
    "    def backprop_update(self, lr):\n",
    "        \n",
    "        # ensure gradients are zerod\n",
    "        for p in self.params:\n",
    "            p.grad = None\n",
    "\n",
    "        # backprop\n",
    "        self.loss.backward()\n",
    "\n",
    "        # update\n",
    "        for i, p in enumerate(self.params):\n",
    "            if p.grad is None:\n",
    "                print(i)\n",
    "            p.data += -lr * p.grad\n",
    "\n",
    "\n",
    "    def _count_params(self):\n",
    "        n_params = 0\n",
    "        for p in self.params:\n",
    "            n_params += p.nelement()\n",
    "        return n_params"
   ]
  },
  {
   "cell_type": "code",
   "execution_count": 12,
   "metadata": {},
   "outputs": [],
   "source": [
    "class GRU:\n",
    "    def __init__(self, input_size, hidden_size, output_size=None) -> None:\n",
    "        \"\"\"\n",
    "        Define a GRU.\n",
    "        input_size = number of elements in one-hot encoded vector for a single input.\n",
    "        hidden_size = desired number of elements in the hidden and cell states\n",
    "        output_size = None unless want a linear, dense layer ontop of the LSTM converting last hidden state to logits of shape (output_size, 1)\n",
    "        \"\"\"\n",
    "        self.input_size = input_size\n",
    "        self.hidden_size = hidden_size\n",
    "        self.output_size = output_size\n",
    "\n",
    "    def init_weights(self, lam=0.01) -> None:\n",
    "        \"\"\"Initialize weight tensors for the model.\"\"\"\n",
    "        concat_size = self.input_size + self.hidden_size\n",
    "\n",
    "        self.W_reset = torch.rand((self.hidden_size, concat_size)) * lam\n",
    "        self.br = torch.zeros((self.hidden_size, 1)) * lam\n",
    "        self.W_update = torch.rand((self.hidden_size, concat_size)) * lam\n",
    "        self.bu = torch.zeros((self.hidden_size, 1)) * lam\n",
    "        self.W_htilde = torch.rand((self.hidden_size, concat_size)) * lam\n",
    "        #self.bh = torch.zeros((self.hidden_size, 1)) * lam\n",
    "        \n",
    "        self.params = [self.W_reset, self.br, self.W_update, self.bu, self.W_htilde]\n",
    "\n",
    "        if self.output_size is not None:\n",
    "            self.W_h2o = torch.rand((self.output_size, self.hidden_size)) * lam\n",
    "            self.b_h20 = torch.zeros((self.output_size, 1)) * lam\n",
    "            self.params += [self.W_h2o, self.b_h20]\n",
    "    \n",
    "        for p in self.params:\n",
    "            p.requires_grad = True \n",
    "        self.n_parameters = self._count_params()\n",
    "\n",
    "    def init_states(self) -> torch.tensor:\n",
    "        \"\"\"Initialize hidden state. Returns: hidden\"\"\"\n",
    "        hidden = torch.zeros((self.hidden_size, 1))  #(hidden size , batch size)\n",
    "        return hidden\n",
    "    \n",
    "    def step(self, input, hidden) -> torch.tensor:\n",
    "        \"\"\"One forward step in the vanilla LSTM to update cell and hidden state. Returns: hidden_new\"\"\"\n",
    "        # Concatenate inputs with incoming hidden state\n",
    "        concat_raw = torch.cat((input.T, hidden), dim=0)\n",
    "\n",
    "        # Calc reset gate and apply to hidden state to produce gated/reset hidden state\n",
    "        r_gate = torch.sigmoid(self.W_reset @ concat_raw + self.br)\n",
    "        hidden_reset = hidden * r_gate\n",
    "\n",
    "        # Concatenate inputs with gated hidden state\n",
    "        concat_gated = torch.cat((input.T, hidden_reset), dim=0)\n",
    "        # Calculate h tilde, the proposed new hidden state, using the gated concatenation\n",
    "        h_tilde = torch.tanh(self.W_htilde @ concat_gated)\n",
    "\n",
    "        # Calc update gate using the raw/ungated concatenation\n",
    "        u_gate = torch.sigmoid(self.W_update @ concat_raw + self.bu)\n",
    "\n",
    "        # Update hidden state with (1 - update gate) * hidden_t-1 + (update gate * h tilde):\n",
    "        hidden_new = (1 - u_gate) * hidden + u_gate * h_tilde\n",
    "        \n",
    "        return hidden_new\n",
    "    \n",
    "\n",
    "    def forward(self, x, y=None, hidden=None) -> (torch.tensor, torch.tensor):\n",
    "        \"\"\"\n",
    "        Perform an entire forward pass of a sample to calculate outputs and calculate loss if y is provided.\n",
    "        Returns logits, loss.\n",
    "        \"\"\"\n",
    "        # Initialize states with zeroes\n",
    "        if hidden is None:\n",
    "            hidden = self.init_states()\n",
    "        \n",
    "        # Pass through input sequentially and update states\n",
    "        for t in range(x.shape[0]):\n",
    "            hidden = self.step(x[t], hidden=hidden)\n",
    "        \n",
    "        # If output shape is not equal to hidden shape, pass through a linear layer to calculate final logits\n",
    "        if self.output_size is not None:\n",
    "            logits = (self.W_h2o @ hidden) + self.b_h20\n",
    "        else:\n",
    "            logits = hidden\n",
    "        \n",
    "        # Calculate loss \n",
    "        loss = None\n",
    "        if y is not None:\n",
    "            y_size = self.output_size if self.output_size is not None else self.hidden_size\n",
    "            y_ohe = torch.zeros(y_size)\n",
    "            y_ohe[y] = 1.0\n",
    "            loss = torch.nn.functional.cross_entropy(logits.squeeze(), y_ohe)\n",
    "        self.loss = loss\n",
    "\n",
    "        return logits, loss\n",
    "\n",
    "    def backprop_update(self, lr) -> None:\n",
    "        \n",
    "        # ensure gradients are zerod\n",
    "        for p in self.params:\n",
    "            p.grad = None\n",
    "\n",
    "        # backprop\n",
    "        self.loss.backward()\n",
    "\n",
    "        # update\n",
    "        for i, p in enumerate(self.params):\n",
    "            if p.grad is None:\n",
    "                print(i) ##silly debugging\n",
    "            p.data += -lr * p.grad\n",
    "\n",
    "\n",
    "    def _count_params(self):\n",
    "        n_params = 0\n",
    "        for p in self.params:\n",
    "            n_params += p.nelement()\n",
    "        return n_params"
   ]
  },
  {
   "cell_type": "markdown",
   "metadata": {},
   "source": [
    "Here's a toy example to test the code.  \n",
    "We'll sample N_SAMPLES random training examples.  \n",
    "Then we'll pass each sample to the LSTM network (forward pass and backprop and update params) one after the other and do this a bunch of times.  \n",
    "The loss quickly descends to zero and we will see the predicted language category converge to the the true language category.  \n",
    "Testing vanilla and peeophole LSTMs simultaneously reveals that the peephole is able to fit to the data slightly faster in this toy example.   "
   ]
  },
  {
   "cell_type": "code",
   "execution_count": 653,
   "metadata": {},
   "outputs": [
    {
     "name": "stdout",
     "output_type": "stream",
     "text": [
      "vanilla params: 36498\n",
      "peephole params: 48786\n",
      "gru params: 24530\n"
     ]
    }
   ],
   "source": [
    "vanilla_lstm = LSTM(input_size=n_letters,\n",
    "                    hidden_size=64,\n",
    "                    output_size=n_categories,\n",
    "                    variant=\"vanilla\")\n",
    "vanilla_lstm.init_weights(lam=0.1)\n",
    "\n",
    "\n",
    "peep_lstm = LSTM(input_size=n_letters,\n",
    "                 hidden_size=64,\n",
    "                 output_size=n_categories,\n",
    "                 variant=\"peephole\")\n",
    "peep_lstm.init_weights(lam=0.01)\n",
    "\n",
    "\n",
    "gru = GRU(input_size=n_letters,\n",
    "          hidden_size=64,\n",
    "          output_size=n_categories)\n",
    "gru.init_weights(lam=0.1)\n",
    "                 \n",
    "print(\"vanilla params:\", vanilla_lstm.n_parameters)\n",
    "print(\"peephole params:\", peep_lstm.n_parameters)\n",
    "print(\"gru params:\", gru.n_parameters)"
   ]
  },
  {
   "cell_type": "code",
   "execution_count": 654,
   "metadata": {},
   "outputs": [
    {
     "name": "stdout",
     "output_type": "stream",
     "text": [
      "['Dioletis', 'Chlebek', 'Rice', 'Ferreira', 'Petrakis', 'Qiu', 'Fiscella', 'Kysel', 'Obando', 'Jimila']\n",
      "['Greek', 'Polish', 'English', 'Portuguese', 'Greek', 'Chinese', 'Italian', 'English', 'Spanish', 'Russian']\n"
     ]
    }
   ],
   "source": [
    "N_SAMPLES = 10\n",
    "xs, ys, names, languages = [],[],[], []\n",
    "for _ in range(N_SAMPLES):\n",
    "    category, line, category_tensor, line_tensor = randomTrainingExample()\n",
    "    xs.append(line_tensor)\n",
    "    ys.append(category_tensor)\n",
    "    names.append(line)\n",
    "    languages.append(category)\n",
    "\n",
    "print(names[:10])\n",
    "print(languages[:10])"
   ]
  },
  {
   "cell_type": "code",
   "execution_count": 655,
   "metadata": {},
   "outputs": [],
   "source": [
    "vanil_loss, peep_loss, gru_loss = [], [], []\n",
    "epochs = 400"
   ]
  },
  {
   "cell_type": "code",
   "execution_count": 658,
   "metadata": {},
   "outputs": [
    {
     "name": "stdout",
     "output_type": "stream",
     "text": [
      "Dioletis ----- true = [7] | pred =  [7] | loss =  0.0028241295367479324\n",
      "Chlebek ----- true = [12] | pred =  [12] | loss =  0.016615113243460655\n",
      "Rice ----- true = [4] | pred =  [4] | loss =  0.00840259063988924\n",
      "Ferreira ----- true = [13] | pred =  [13] | loss =  0.05811454355716705\n",
      "Petrakis ----- true = [7] | pred =  [7] | loss =  0.006895554717630148\n",
      "Qiu ----- true = [1] | pred =  [1] | loss =  0.02015538327395916\n",
      "Fiscella ----- true = [9] | pred =  [9] | loss =  0.08385657519102097\n",
      "Kysel ----- true = [4] | pred =  [4] | loss =  0.004515570122748613\n",
      "Obando ----- true = [16] | pred =  [16] | loss =  0.029262559488415718\n",
      "Jimila ----- true = [14] | pred =  [14] | loss =  0.0629069060087204\n"
     ]
    }
   ],
   "source": [
    "# VANILLA LSTM\n",
    "for ep in range(epochs):\n",
    "    for i in range(N_SAMPLES):\n",
    "        x, y, name = xs[i], ys[i], names[i]\n",
    "        \n",
    "        logits, loss = vanilla_lstm.forward(x, y)\n",
    "    \n",
    "        vanilla_lstm.backprop_update(lr=0.1)\n",
    "        \n",
    "        if i == max(range(N_SAMPLES)):\n",
    "            vanil_loss.append(loss.item())\n",
    "\n",
    "        # just print at the last epoch\n",
    "        if ep == max(range(epochs)):\n",
    "            print(f\"{name} -----\", end=\" \")\n",
    "            print(\"true =\", [y.item()], \"| pred = \", [torch.argmax(logits).item()], \"| loss = \", loss.item())"
   ]
  },
  {
   "cell_type": "code",
   "execution_count": 657,
   "metadata": {},
   "outputs": [
    {
     "name": "stdout",
     "output_type": "stream",
     "text": [
      "Dioletis ----- true = [7] | pred =  [7] | loss =  0.003318400587886572\n",
      "Chlebek ----- true = [12] | pred =  [12] | loss =  0.006958299782127142\n",
      "Rice ----- true = [4] | pred =  [4] | loss =  0.0026726736687123775\n",
      "Ferreira ----- true = [13] | pred =  [13] | loss =  0.0028767890762537718\n",
      "Petrakis ----- true = [7] | pred =  [7] | loss =  0.001086717238649726\n",
      "Qiu ----- true = [1] | pred =  [1] | loss =  0.005984483286738396\n",
      "Fiscella ----- true = [9] | pred =  [9] | loss =  0.0036064840387552977\n",
      "Kysel ----- true = [4] | pred =  [4] | loss =  0.0018745961133390665\n",
      "Obando ----- true = [16] | pred =  [16] | loss =  0.004482934717088938\n",
      "Jimila ----- true = [14] | pred =  [14] | loss =  0.0036220441106706858\n"
     ]
    }
   ],
   "source": [
    "# PEEP LSTM\n",
    "for ep in range(epochs):\n",
    "    for i in range(N_SAMPLES):\n",
    "        x, y, name = xs[i], ys[i], names[i]\n",
    "        \n",
    "        logits, loss = peep_lstm.forward(x, y)\n",
    "    \n",
    "        peep_lstm.backprop_update(lr=0.1) ##lowered lr for more stable training\n",
    "\n",
    "        if i == max(range(N_SAMPLES)):\n",
    "            peep_loss.append(loss.item())\n",
    "\n",
    "        # just print at the last epoch\n",
    "        if ep == max(range(epochs)):\n",
    "            print(f\"{name} -----\", end=\" \")\n",
    "            print(\"true =\", [y.item()], \"| pred = \", [torch.argmax(logits).item()], \"| loss = \", loss.item())"
   ]
  },
  {
   "cell_type": "code",
   "execution_count": 659,
   "metadata": {},
   "outputs": [
    {
     "name": "stdout",
     "output_type": "stream",
     "text": [
      "Dioletis ----- true = [7] | pred =  [7] | loss =  0.0006735440110787749\n",
      "Chlebek ----- true = [12] | pred =  [12] | loss =  0.0020024979021400213\n",
      "Rice ----- true = [4] | pred =  [4] | loss =  0.0011506610317155719\n",
      "Ferreira ----- true = [13] | pred =  [13] | loss =  0.0025305887684226036\n",
      "Petrakis ----- true = [7] | pred =  [7] | loss =  0.0007123793475329876\n",
      "Qiu ----- true = [1] | pred =  [1] | loss =  0.0033376484643667936\n",
      "Fiscella ----- true = [9] | pred =  [9] | loss =  0.0014972201315686107\n",
      "Kysel ----- true = [4] | pred =  [4] | loss =  0.0011249411618337035\n",
      "Obando ----- true = [16] | pred =  [16] | loss =  0.0022737146355211735\n",
      "Jimila ----- true = [14] | pred =  [14] | loss =  0.002220190828666091\n"
     ]
    }
   ],
   "source": [
    "# GRU\n",
    "for ep in range(epochs):\n",
    "    for i in range(N_SAMPLES):\n",
    "        x, y, name = xs[i], ys[i], names[i]\n",
    "        \n",
    "        logits, loss = gru.forward(x, y)\n",
    "        gru.backprop_update(lr=0.1)\n",
    "\n",
    "        if i == max(range(N_SAMPLES)):\n",
    "            gru_loss.append(loss.item())\n",
    "\n",
    "        #just print at the last epoch\n",
    "        if ep == max(range(epochs)):\n",
    "            print(f\"{name} -----\", end=\" \")\n",
    "            print(\"true =\", [y.item()], \"| pred = \", [torch.argmax(logits).item()], \"| loss = \", loss.item())"
   ]
  },
  {
   "cell_type": "code",
   "execution_count": 660,
   "metadata": {},
   "outputs": [
    {
     "data": {
      "image/png": "[encoded data removed]",
      "text/plain": [
       "<Figure size 1080x360 with 3 Axes>"
      ]
     },
     "metadata": {
      "needs_background": "light"
     },
     "output_type": "display_data"
    }
   ],
   "source": [
    "plt.figure(figsize=(15, 5))\n",
    "plt.subplot(131)\n",
    "plot_grad_flow_basic(vanilla_lstm.params)\n",
    "plt.title(\"Vanilla\")\n",
    "\n",
    "plt.subplot(132)\n",
    "plot_grad_flow_basic(peep_lstm.params)\n",
    "plt.title(\"Peephole\")\n",
    "\n",
    "plt.subplot(133)\n",
    "plot_grad_flow_basic(gru.params)\n",
    "plt.title(\"GRU\")\n",
    "plt.show()"
   ]
  },
  {
   "cell_type": "code",
   "execution_count": 663,
   "metadata": {},
   "outputs": [
    {
     "data": {
      "image/png": "[encoded data removed]",
      "text/plain": [
       "<Figure size 432x288 with 1 Axes>"
      ]
     },
     "metadata": {
      "needs_background": "light"
     },
     "output_type": "display_data"
    }
   ],
   "source": [
    "plt.plot(vanil_loss, label=\"Vanilla LSTM loss\")\n",
    "plt.plot(peep_loss, label=\"Peephole LSTM loss\")\n",
    "plt.plot(gru_loss, label=\"GRU loss\")\n",
    "plt.title(\"Vanilla LSTM outperformed Peephole, GRU converged a lot faster\")\n",
    "plt.legend()\n",
    "plt.show()"
   ]
  },
  {
   "cell_type": "markdown",
   "metadata": {},
   "source": [
    "# English to French Translation\n",
    "The data folder included in the above mentioned tutorial (ie, the source of the name data) also includes a curious text file where each line include an Engligh phrase followed by french phrase.  "
   ]
  },
  {
   "cell_type": "code",
   "execution_count": 13,
   "metadata": {},
   "outputs": [],
   "source": [
    "import re"
   ]
  },
  {
   "cell_type": "code",
   "execution_count": 222,
   "metadata": {},
   "outputs": [],
   "source": [
    "class TranslGRU:\n",
    "    def __init__(self, input_size, hidden_size, output_size=None) -> None:\n",
    "        \"\"\"\n",
    "        Define a GRU.\n",
    "        input_size = number of elements in one-hot encoded vector for a single input.\n",
    "        hidden_size = desired number of elements in the hidden and cell states\n",
    "        output_size = None unless want a linear, dense layer ontop of the LSTM converting last hidden state to logits of shape (output_size, 1)\n",
    "        \"\"\"\n",
    "        self.input_size = input_size\n",
    "        self.hidden_size = hidden_size\n",
    "        self.output_size = output_size\n",
    "\n",
    "    def init_weights(self, lam=0.01) -> None:\n",
    "        \"\"\"Initialize weight tensors for the model.\"\"\"\n",
    "        concat_size = self.input_size + self.hidden_size\n",
    "\n",
    "        self.W_reset = torch.rand((self.hidden_size, concat_size)) * lam\n",
    "        self.br = torch.zeros((self.hidden_size, 1)) * lam\n",
    "        self.W_update = torch.rand((self.hidden_size, concat_size)) * lam\n",
    "        self.bu = torch.zeros((self.hidden_size, 1)) * lam\n",
    "        self.W_htilde = torch.rand((self.hidden_size, concat_size)) * lam\n",
    "        #self.bh = torch.zeros((self.hidden_size, 1)) * lam\n",
    "        \n",
    "        self.params = [self.W_reset, self.br, self.W_update, self.bu, self.W_htilde]\n",
    "\n",
    "        if self.output_size is not None:\n",
    "            self.W_h2o = torch.rand((self.output_size, self.hidden_size)) * lam\n",
    "            self.b_h20 = torch.zeros((self.output_size, 1)) * lam\n",
    "            self.params += [self.W_h2o, self.b_h20]\n",
    "    \n",
    "        for p in self.params:\n",
    "            p.requires_grad = True \n",
    "        self.n_parameters = self._count_params()\n",
    "\n",
    "    def init_states(self) -> torch.tensor:\n",
    "        \"\"\"Initialize hidden state. Returns: hidden\"\"\"\n",
    "        hidden = torch.zeros((self.hidden_size, 1))  #(hidden size , batch size)\n",
    "        return hidden\n",
    "    \n",
    "    def step(self, input, hidden) -> torch.tensor:\n",
    "        \"\"\"One forward step in the vanilla LSTM to update cell and hidden state. Returns: hidden_new\"\"\"\n",
    "        # Concatenate inputs with incoming hidden state\n",
    "        concat_raw = torch.cat((input.T, hidden), dim=0)\n",
    "\n",
    "        # Calc reset gate and apply to hidden state to produce gated/reset hidden state\n",
    "        r_gate = torch.sigmoid(self.W_reset @ concat_raw + self.br)\n",
    "        hidden_reset = hidden * r_gate\n",
    "\n",
    "        # Concatenate inputs with gated hidden state\n",
    "        concat_gated = torch.cat((input.T, hidden_reset), dim=0)\n",
    "        # Calculate h tilde, the proposed new hidden state, using the gated concatenation\n",
    "        h_tilde = torch.tanh(self.W_htilde @ concat_gated)\n",
    "\n",
    "        # Calc update gate using the raw/ungated concatenation\n",
    "        u_gate = torch.sigmoid(self.W_update @ concat_raw + self.bu)\n",
    "\n",
    "        # Update hidden state with (1 - update gate) * hidden_t-1 + (update gate * h tilde):\n",
    "        hidden_new = (1 - u_gate) * hidden + u_gate * h_tilde\n",
    "        \n",
    "        return hidden_new\n",
    "    \n",
    "\n",
    "    def forward(self, x, y=None, hidden=None) -> (torch.tensor, torch.tensor):\n",
    "        \"\"\"\n",
    "        Perform an entire forward pass of a sample to calculate outputs and calculate loss if y is provided.\n",
    "        Returns logits, loss.\n",
    "        \"\"\"\n",
    "        # Initialize states with zeroes\n",
    "        if hidden is None:\n",
    "            hidden = self.init_states()\n",
    "        \n",
    "        # Pass through input sequentially and update states\n",
    "        for t in range(x.shape[0]):\n",
    "            hidden = self.step(x[t], hidden=hidden)\n",
    "        \n",
    "        # If output shape is not equal to hidden shape, pass through a linear layer to calculate final logits\n",
    "        if self.output_size is not None:\n",
    "            logits = (self.W_h2o @ hidden) + self.b_h20\n",
    "        else:\n",
    "            logits = hidden\n",
    "        \n",
    "        # Calculate loss \n",
    "        loss = None\n",
    "        if y is not None:\n",
    "            y_size = self.output_size if self.output_size is not None else self.hidden_size\n",
    "            y_ohe = torch.zeros(y_size)\n",
    "            y_ohe[y] = 1.0\n",
    "            loss = torch.nn.functional.cross_entropy(logits.squeeze(), y_ohe)\n",
    "        self.loss = loss\n",
    "\n",
    "        return logits, loss\n",
    "\n",
    "    def backprop_update(self, lr) -> None:\n",
    "        \n",
    "        # ensure gradients are zerod\n",
    "        for p in self.params:\n",
    "            p.grad = None\n",
    "\n",
    "        # backprop\n",
    "        self.loss.backward()\n",
    "\n",
    "        # update\n",
    "        for i, p in enumerate(self.params):\n",
    "            if p.grad is None:\n",
    "                print(i) ##silly debugging\n",
    "            p.data += -lr * p.grad\n",
    "\n",
    "\n",
    "    def _count_params(self):\n",
    "        n_params = 0\n",
    "        for p in self.params:\n",
    "            n_params += p.nelement()\n",
    "        return n_params"
   ]
  },
  {
   "cell_type": "code",
   "execution_count": 14,
   "metadata": {},
   "outputs": [],
   "source": [
    "MAX_FR_CHRS = 100\n",
    "english, french = [],[]\n",
    "\n",
    "matches = [\"(\", \"‽\", \"…\", \"€\"]\n",
    "with open(\"./data/rnn_tut_data/eng-fra.txt\", encoding=\"utf-8\") as file:\n",
    "    for line in file:\n",
    "        line = line.rstrip()\n",
    "        line = line.replace(u\"\\u202f\", \" \")\n",
    "        line = line.replace(u\"\\u3000\", \" \")\n",
    "        line = line.replace(u\"\\u2000\", \" \")\n",
    "        line = line.replace(u\"\\u200b\", \" \")\n",
    "        line = line.replace(u\"\\xa0\", \" \")\n",
    "        line = line.replace(u\"\\xad\", \" \")\n",
    "        line = line.replace(u\"\\u2009\", \" \")\n",
    "        line = line.replace(\"ú\", \"u\")\n",
    "        line = line.replace(\"–\", \"-\")\n",
    "        line = line.replace(\"а\", \"a\")\n",
    "        line = line.replace(\"‐\", \"-\")\n",
    "        if any(s in line for s in matches): ##removes some edge cases\n",
    "            pass\n",
    "        else:        \n",
    "            eng, fra = line.split('\\t')\n",
    "        \n",
    "        if (len(fra)>MAX_FR_CHRS):\n",
    "            pass\n",
    "        else:\n",
    "            english.append(eng)\n",
    "            french.append(fra)"
   ]
  },
  {
   "cell_type": "code",
   "execution_count": 15,
   "metadata": {},
   "outputs": [
    {
     "name": "stdout",
     "output_type": "stream",
     "text": [
      "135332\n",
      "135332\n",
      "83\n",
      "104\n",
      "104\n",
      "max french length =  100 chars\n"
     ]
    }
   ],
   "source": [
    "print(len(english))\n",
    "print(len(french))\n",
    "\n",
    "eng_chars = set(''.join(english))\n",
    "fra_chars = set(''.join(french))\n",
    "all_chars = set(''.join(english + french))\n",
    "print(len(eng_chars))\n",
    "print(len(fra_chars))\n",
    "print(len(all_chars))\n",
    "\n",
    "print(\"max french length = \", len(max(french, key=len)), \"chars\")"
   ]
  },
  {
   "cell_type": "code",
   "execution_count": 16,
   "metadata": {},
   "outputs": [],
   "source": [
    "stoi = {s:i+1 for i, s in enumerate(all_chars)} ##create dictionary mapping from char to int\n",
    "stoi['*'] = 0 #special char\n",
    "itos = {i:s for s, i in stoi.items()}"
   ]
  },
  {
   "cell_type": "code",
   "execution_count": 17,
   "metadata": {},
   "outputs": [
    {
     "data": {
      "image/png": "[encoded data removed]",
      "text/plain": [
       "<Figure size 1080x360 with 1 Axes>"
      ]
     },
     "metadata": {
      "needs_background": "light"
     },
     "output_type": "display_data"
    }
   ],
   "source": [
    "corpus = ''.join(english+french)\n",
    "count_letters = dict()\n",
    "\n",
    "for c in all_chars:\n",
    "    count_letters[c] = corpus.count(c)\n",
    "\n",
    "plt.figure(figsize=(15,5))\n",
    "plt.bar(range(len(count_letters)), list(count_letters.values()), align='center')\n",
    "plt.xticks(range(len(count_letters)), list(count_letters.keys()))\n",
    "plt.title(\"Character Histogram\")\n",
    "plt.show()"
   ]
  },
  {
   "cell_type": "code",
   "execution_count": 24,
   "metadata": {},
   "outputs": [],
   "source": [
    "def words_to_data(english, french, stoi):\n",
    "    \"\"\"\n",
    "    Takes words list and breaks into training samples such that\n",
    "    block_size characters are used to predict the following character.\n",
    "    Returns X, Y (inputs and labels), where each sample in X is a tensor containing block_size elements\n",
    "    and each sample in Y is a tensor containing one element.\n",
    "    \"\"\"\n",
    "\n",
    "    # Data\n",
    "    ## block_size = context length: how many chars do we use to predict the next?\n",
    "    X, Y = [], []\n",
    "    for en, fr in zip(english, french):\n",
    "\n",
    "        english_ix = []\n",
    "        french_ix = []\n",
    "        for ch in en:\n",
    "            english_ix.append(stoi[ch])\n",
    "        for ch in fr:\n",
    "            french_ix.append(stoi[ch])\n",
    "        # x = torch.nn.functional.one_hot(torch.tensor(english_ix), num_classes=len(stoi))\n",
    "        # y = torch.nn.functional.one_hot(torch.tensor(french_ix), num_classes=len(stoi))\n",
    "        X.append(torch.tensor(english_ix))\n",
    "        Y.append(torch.tensor(french_ix))\n",
    "    # X = torch.tensor(X)\n",
    "    # Y = torch.tensor(Y)\n",
    "    # n_samples = X.shape[0]\n",
    "    # print(f\"{ n_samples = }\")\n",
    "\n",
    "    return X, Y\n",
    "\n",
    "\n",
    "def split_samples(inputs, labels, frac=0.8, seed=123):\n",
    "    \"Split xs and ys (inputs and labels) into train and test sets\"\n",
    "    \n",
    "    assert len(inputs)==len(labels), f\"{len(inputs) = } which does not match {len(labels) = }\"\n",
    "    # generate a list of indices to exclude. Turn in into a set for O(1) lookup time\n",
    "    random.seed(seed)\n",
    "    indx = list(set(random.sample(list(range(len(inputs))), int(frac*len(inputs)))))\n",
    "\n",
    "    x_mask = torch.zeros((len(inputs)), dtype=torch.bool) #False\n",
    "    x_mask[indx] = True\n",
    "\n",
    "    y_mask = torch.zeros((len(inputs)), dtype=torch.bool) #False\n",
    "    y_mask[indx] = True\n",
    "\n",
    "    train_x = inputs[x_mask]\n",
    "    train_y = labels[y_mask]\n",
    "\n",
    "    test_x = inputs[~x_mask]\n",
    "    test_y = labels[~y_mask]\n",
    "\n",
    "    return train_x, train_y, test_x, test_y"
   ]
  },
  {
   "cell_type": "code",
   "execution_count": 46,
   "metadata": {},
   "outputs": [],
   "source": [
    "samples = 300\n",
    "xs, ys = words_to_data(english[:samples], french[:samples], stoi)"
   ]
  },
  {
   "cell_type": "code",
   "execution_count": 47,
   "metadata": {},
   "outputs": [],
   "source": [
    "n_letters = len(stoi)\n",
    "hidden_size = 64"
   ]
  },
  {
   "cell_type": "code",
   "execution_count": 223,
   "metadata": {},
   "outputs": [],
   "source": [
    "model = TranslGRU(input_size=n_letters,\n",
    "                  hidden_size=hidden_size,\n",
    "                  output_size=n_letters)\n",
    "model.init_weights(lam=0.01)"
   ]
  },
  {
   "cell_type": "code",
   "execution_count": 219,
   "metadata": {},
   "outputs": [],
   "source": [
    "s_ix = 200 #random.randint(0, len(x)-1)\n",
    "\n",
    "x_i, y_i = xs[s_ix], ys[s_ix]\n",
    "x_ohe = torch.nn.functional.one_hot(x_i, n_letters)\n",
    "x_ohe = torch.unsqueeze(x_ohe, dim=1) #insert 'batch' dim\n",
    "\n",
    "logits, loss = model.forward(x_ohe, y_i)\n",
    "\n",
    "model.backprop_update(lr=0.1)"
   ]
  },
  {
   "cell_type": "markdown",
   "metadata": {},
   "source": [
    "Figure out how to configure the outputs"
   ]
  },
  {
   "cell_type": "code",
   "execution_count": 220,
   "metadata": {},
   "outputs": [
    {
     "data": {
      "text/plain": [
       "tensor([[2.9506e-06],\n",
       "        [2.9488e-06],\n",
       "        [2.9505e-06],\n",
       "        [2.9518e-06],\n",
       "        [2.9511e-06],\n",
       "        [1.1108e-01],\n",
       "        [1.1108e-01],\n",
       "        [2.9528e-06],\n",
       "        [2.9513e-06],\n",
       "        [2.9496e-06],\n",
       "        [6.3194e-06],\n",
       "        [2.9464e-06],\n",
       "        [2.9502e-06],\n",
       "        [2.9495e-06],\n",
       "        [2.9501e-06],\n",
       "        [2.9520e-06],\n",
       "        [2.9492e-06],\n",
       "        [2.9507e-06],\n",
       "        [2.9492e-06],\n",
       "        [2.9525e-06],\n",
       "        [2.9494e-06],\n",
       "        [1.1108e-01],\n",
       "        [2.9476e-06],\n",
       "        [6.2554e-06],\n",
       "        [2.9483e-06],\n",
       "        [2.9498e-06],\n",
       "        [2.9494e-06],\n",
       "        [2.9503e-06],\n",
       "        [2.9495e-06],\n",
       "        [2.9510e-06],\n",
       "        [2.9508e-06],\n",
       "        [2.9516e-06],\n",
       "        [2.9457e-06],\n",
       "        [2.9518e-06],\n",
       "        [2.9496e-06],\n",
       "        [2.9494e-06],\n",
       "        [6.3188e-06],\n",
       "        [2.9516e-06],\n",
       "        [2.9498e-06],\n",
       "        [2.9496e-06],\n",
       "        [2.9482e-06],\n",
       "        [2.9503e-06],\n",
       "        [2.9554e-06],\n",
       "        [2.9485e-06],\n",
       "        [2.9513e-06],\n",
       "        [2.9508e-06],\n",
       "        [2.9464e-06],\n",
       "        [2.9484e-06],\n",
       "        [2.9485e-06],\n",
       "        [2.9530e-06],\n",
       "        [1.1108e-01],\n",
       "        [2.9484e-06],\n",
       "        [2.9501e-06],\n",
       "        [2.9507e-06],\n",
       "        [2.9518e-06],\n",
       "        [2.9514e-06],\n",
       "        [2.9490e-06],\n",
       "        [2.9497e-06],\n",
       "        [1.1108e-01],\n",
       "        [2.9510e-06],\n",
       "        [2.9473e-06],\n",
       "        [2.9510e-06],\n",
       "        [2.9504e-06],\n",
       "        [2.9521e-06],\n",
       "        [2.9483e-06],\n",
       "        [2.9536e-06],\n",
       "        [2.9473e-06],\n",
       "        [2.9518e-06],\n",
       "        [2.9503e-06],\n",
       "        [2.9513e-06],\n",
       "        [2.9478e-06],\n",
       "        [2.9508e-06],\n",
       "        [2.9501e-06],\n",
       "        [2.9490e-06],\n",
       "        [2.9515e-06],\n",
       "        [2.9496e-06],\n",
       "        [2.9519e-06],\n",
       "        [1.1108e-01],\n",
       "        [2.9504e-06],\n",
       "        [2.9488e-06],\n",
       "        [2.9508e-06],\n",
       "        [2.9502e-06],\n",
       "        [2.9498e-06],\n",
       "        [2.9495e-06],\n",
       "        [1.1108e-01],\n",
       "        [2.9528e-06],\n",
       "        [2.9489e-06],\n",
       "        [2.9504e-06],\n",
       "        [2.9507e-06],\n",
       "        [2.9501e-06],\n",
       "        [2.9504e-06],\n",
       "        [2.9494e-06],\n",
       "        [2.9543e-06],\n",
       "        [2.9485e-06],\n",
       "        [1.1108e-01],\n",
       "        [2.9494e-06],\n",
       "        [2.9515e-06],\n",
       "        [1.1108e-01],\n",
       "        [2.9531e-06],\n",
       "        [2.9482e-06],\n",
       "        [2.9497e-06],\n",
       "        [2.9513e-06],\n",
       "        [2.9517e-06],\n",
       "        [2.9493e-06],\n",
       "        [2.9500e-06]], grad_fn=<SoftmaxBackward0>)"
      ]
     },
     "execution_count": 220,
     "metadata": {},
     "output_type": "execute_result"
    }
   ],
   "source": [
    "torch.nn.functional.softmax(logits, dim=0)"
   ]
  }
 ],
 "metadata": {
  "kernelspec": {
   "display_name": "Python 3.10.4 ('.venv': venv)",
   "language": "python",
   "name": "python3"
  },
  "language_info": {
   "codemirror_mode": {
    "name": "ipython",
    "version": 3
   },
   "file_extension": ".py",
   "mimetype": "text/x-python",
   "name": "python",
   "nbconvert_exporter": "python",
   "pygments_lexer": "ipython3",
   "version": "3.10.4"
  },
  "orig_nbformat": 4,
  "vscode": {
   "interpreter": {
    "hash": "5c4359ed68c894e31dfa741bacd50703ee9ca4c289f19062f47d11ef9a0ee7ac"
   }
  }
 },
 "nbformat": 4,
 "nbformat_minor": 2
}

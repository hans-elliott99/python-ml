{
 "cells": [
  {
   "cell_type": "code",
   "execution_count": 1,
   "metadata": {},
   "outputs": [],
   "source": [
    "# Text preprocessing\n",
    "from __future__ import unicode_literals, print_function, division\n",
    "from io import open\n",
    "import glob\n",
    "import os\n",
    "import unicodedata\n",
    "import string\n",
    "from typing import Union\n",
    "import numpy as np\n",
    "import re\n",
    "\n",
    "\n",
    "# Model/Train Helpers\n",
    "import random\n",
    "import time\n",
    "import math\n",
    "import matplotlib.pyplot as plt\n",
    "import matplotlib.ticker as ticker\n",
    "from matplotlib.lines import Line2D\n",
    "\n",
    "\n",
    "\n",
    "# PyTorch\n",
    "import torch\n",
    "import torch.nn as nn"
   ]
  },
  {
   "cell_type": "code",
   "execution_count": 64,
   "metadata": {},
   "outputs": [],
   "source": [
    "class TranslGRU:\n",
    "    def __init__(self, input_size, hidden_size, output_size=None) -> None:\n",
    "        \"\"\"\n",
    "        Define a GRU.\n",
    "        input_size = number of elements in one-hot encoded vector for a single input.\n",
    "        hidden_size = desired number of elements in the hidden and cell states\n",
    "        output_size = None unless want a linear, dense layer ontop of the GRU converting last hidden state to logits of shape (output_size, 1)\n",
    "        \"\"\"\n",
    "        self.input_size = input_size\n",
    "        self.hidden_size = hidden_size\n",
    "        self.output_size = output_size\n",
    "\n",
    "    def init_weights(self, lam=0.01) -> None:\n",
    "        \"\"\"Initialize weight tensors for the model.\"\"\"\n",
    "        concat_size = self.input_size + self.hidden_size\n",
    "\n",
    "        self.W_reset = torch.rand((self.hidden_size, concat_size)) * lam\n",
    "        self.br = torch.zeros((self.hidden_size, 1)) * lam\n",
    "        self.W_update = torch.rand((self.hidden_size, concat_size)) * lam\n",
    "        self.bu = torch.zeros((self.hidden_size, 1)) * lam\n",
    "        self.W_htilde = torch.rand((self.hidden_size, concat_size)) * lam\n",
    "        #self.bh = torch.zeros((self.hidden_size, 1)) * lam\n",
    "        \n",
    "        self.params = [self.W_reset, self.br, self.W_update, self.bu, self.W_htilde]\n",
    "\n",
    "        if self.output_size is not None:\n",
    "            self.W_h2o = torch.rand((self.output_size, self.hidden_size)) * lam\n",
    "            self.b_h20 = torch.zeros((self.output_size, 1)) * lam\n",
    "            self.params += [self.W_h2o, self.b_h20]\n",
    "    \n",
    "        for p in self.params:\n",
    "            p.requires_grad = True \n",
    "        self.n_parameters = self._count_params()\n",
    "\n",
    "    def init_states(self) -> torch.tensor:\n",
    "        \"\"\"Initialize hidden state. Returns: hidden\"\"\"\n",
    "        hidden = torch.zeros((self.hidden_size, 1))  #(hidden size , batch size)\n",
    "        return hidden\n",
    "    \n",
    "    def step(self, input, hidden) -> torch.tensor:\n",
    "        \"\"\"One forward step in the vanilla LSTM to update cell and hidden state. Returns: hidden_new\"\"\"\n",
    "        # Concatenate inputs with incoming hidden state\n",
    "        concat_raw = torch.cat((input.T, hidden), dim=0)\n",
    "\n",
    "        # Calc reset gate and apply to hidden state to produce gated/reset hidden state\n",
    "        r_gate = torch.sigmoid(self.W_reset @ concat_raw + self.br)\n",
    "        hidden_reset = hidden * r_gate\n",
    "\n",
    "        # Concatenate inputs with gated hidden state\n",
    "        concat_gated = torch.cat((input.T, hidden_reset), dim=0)\n",
    "        # Calculate h tilde, the proposed new hidden state, using the gated concatenation\n",
    "        h_tilde = torch.tanh(self.W_htilde @ concat_gated)\n",
    "\n",
    "        # Calc update gate using the raw/ungated concatenation\n",
    "        u_gate = torch.sigmoid(self.W_update @ concat_raw + self.bu)\n",
    "\n",
    "        # Update hidden state with (1 - update gate) * hidden_t-1 + (update gate * h tilde):\n",
    "        hidden_new = (1 - u_gate) * hidden + u_gate * h_tilde\n",
    "        \n",
    "        return hidden_new\n",
    "    \n",
    "\n",
    "    def forward(self, x, y=None, hidden=None, truncate=None):\n",
    "        \"\"\"\n",
    "        Perform an entire forward pass of a sample to calculate outputs and calculate loss if y is provided.\n",
    "        Returns logits, loss.\n",
    "        \"\"\"\n",
    "        # Initialize states with zeroes\n",
    "        if hidden is None:\n",
    "            hidden = self.init_states()\n",
    "        \n",
    "        full_logits = torch.zeros((x.shape[0], self.output_size))\n",
    "        \n",
    "        # Pass through input sequentially and update states\n",
    "        seq_loss = 0\n",
    "        for t in range(x.shape[0]):\n",
    "            hidden = self.step(x[t], hidden=hidden)\n",
    "\n",
    "            # If output shape is not equal to hidden shape, pass through a linear layer to calculate final logits\n",
    "            if self.output_size is not None:\n",
    "                logits = (self.W_h2o @ hidden) + self.b_h20\n",
    "            else:\n",
    "                logits = hidden\n",
    "            full_logits[t] = logits.squeeze()\n",
    "        \n",
    "            # Calculate loss \n",
    "            loss = None\n",
    "            if y is not None:\n",
    "                y_size = self.output_size if self.output_size is not None else self.hidden_size\n",
    "                y_ohe = torch.zeros(y_size)\n",
    "                y_ohe[y[t]] = 1.0\n",
    "                loss = torch.nn.functional.cross_entropy(logits.squeeze(), y_ohe)\n",
    "\n",
    "                # if x.shape[0]-t == truncate:\n",
    "                #     loss.backward()\n",
    "                #     loss.detach()\n",
    "                seq_loss += loss.item()\n",
    "        seq_loss /= x.shape[0]\n",
    "\n",
    "        self.loss = loss\n",
    "\n",
    "        return full_logits, seq_loss\n",
    "\n",
    "    def backprop_update(self, lr) -> None:\n",
    "        \n",
    "        # ensure gradients are zerod\n",
    "        for p in self.params:\n",
    "            p.grad = None\n",
    "\n",
    "        # backprop\n",
    "        self.loss.backward()\n",
    "\n",
    "        # update\n",
    "        for i, p in enumerate(self.params):\n",
    "            if p.grad is None:\n",
    "                print(i) ##silly debugging\n",
    "            p.data += -lr * p.grad\n",
    "\n",
    "\n",
    "    def _count_params(self):\n",
    "        n_params = 0\n",
    "        for p in self.params:\n",
    "            n_params += p.nelement()\n",
    "        return n_params"
   ]
  },
  {
   "cell_type": "code",
   "execution_count": 9,
   "metadata": {},
   "outputs": [],
   "source": [
    "def words_to_data(english, french, stoi, special_char:str):\n",
    "    \"\"\"\n",
    "    Takes words list and breaks into training samples such that\n",
    "    block_size characters are used to predict the following character.\n",
    "    Returns X, Y (inputs and labels), where each sample in X is a tensor containing block_size elements\n",
    "    and each sample in Y is a tensor containing one element.\n",
    "    \"\"\"\n",
    "\n",
    "    # Data\n",
    "    ## block_size = context length: how many chars do we use to predict the next?\n",
    "    X, Y = [], []\n",
    "    for en, fr in zip(english, french):\n",
    "\n",
    "        english_ix = [stoi[special_char]]\n",
    "        french_ix = [stoi[special_char]]\n",
    "        for ch in en:\n",
    "            english_ix.append(stoi[ch])\n",
    "        english_ix.append(stoi[special_char])\n",
    "        for ch in fr:\n",
    "            french_ix.append(stoi[ch])\n",
    "        french_ix.append(stoi[special_char])\n",
    "        # x = torch.nn.functional.one_hot(torch.tensor(english_ix), num_classes=len(stoi))\n",
    "        # y = torch.nn.functional.one_hot(torch.tensor(french_ix), num_classes=len(stoi))\n",
    "        X.append(torch.tensor(english_ix))\n",
    "        Y.append(torch.tensor(french_ix))\n",
    "    # X = torch.tensor(X)\n",
    "    # Y = torch.tensor(Y)\n",
    "    # n_samples = X.shape[0]\n",
    "    # print(f\"{ n_samples = }\")\n",
    "\n",
    "    return X, Y\n",
    "\n",
    "\n",
    "def split_samples(inputs, labels, frac=0.8, seed=123):\n",
    "    \"Split xs and ys (inputs and labels) into train and test sets\"\n",
    "    \n",
    "    assert len(inputs)==len(labels), f\"{len(inputs) = } which does not match {len(labels) = }\"\n",
    "    # generate a list of indices to exclude. Turn in into a set for O(1) lookup time\n",
    "    random.seed(seed)\n",
    "    indx = list(set(random.sample(list(range(len(inputs))), int(frac*len(inputs)))))\n",
    "\n",
    "    x_mask = torch.zeros((len(inputs)), dtype=torch.bool) #False\n",
    "    x_mask[indx] = True\n",
    "\n",
    "    y_mask = torch.zeros((len(inputs)), dtype=torch.bool) #False\n",
    "    y_mask[indx] = True\n",
    "\n",
    "    train_x = inputs[x_mask]\n",
    "    train_y = labels[y_mask]\n",
    "\n",
    "    test_x = inputs[~x_mask]\n",
    "    test_y = labels[~y_mask]\n",
    "\n",
    "    return train_x, train_y, test_x, test_y"
   ]
  },
  {
   "cell_type": "code",
   "execution_count": 3,
   "metadata": {},
   "outputs": [],
   "source": [
    "MAX_FR_CHRS = 100\n",
    "english, french = [],[]\n",
    "\n",
    "matches = [\"(\", \"‽\", \"…\", \"€\"]\n",
    "with open(\"./data/rnn_tut_data/eng-fra.txt\", encoding=\"utf-8\") as file:\n",
    "    for line in file:\n",
    "        line = line.rstrip()\n",
    "        line = line.replace(u\"\\u202f\", \" \")\n",
    "        line = line.replace(u\"\\u3000\", \" \")\n",
    "        line = line.replace(u\"\\u2000\", \" \")\n",
    "        line = line.replace(u\"\\u200b\", \" \")\n",
    "        line = line.replace(u\"\\xa0\", \" \")\n",
    "        line = line.replace(u\"\\xad\", \" \")\n",
    "        line = line.replace(u\"\\u2009\", \" \")\n",
    "        line = line.replace(\"ú\", \"u\")\n",
    "        line = line.replace(\"–\", \"-\")\n",
    "        line = line.replace(\"а\", \"a\")\n",
    "        line = line.replace(\"‐\", \"-\")\n",
    "        if any(s in line for s in matches): ##removes some edge cases\n",
    "            pass\n",
    "        else:        \n",
    "            eng, fra = line.split('\\t')\n",
    "        \n",
    "        if (len(fra)>MAX_FR_CHRS):\n",
    "            pass\n",
    "        else:\n",
    "            english.append(eng)\n",
    "            french.append(fra)"
   ]
  },
  {
   "cell_type": "code",
   "execution_count": 4,
   "metadata": {},
   "outputs": [
    {
     "name": "stdout",
     "output_type": "stream",
     "text": [
      "135332\n",
      "135332\n",
      "83\n",
      "104\n",
      "104\n",
      "max french length =  100 chars\n"
     ]
    }
   ],
   "source": [
    "print(len(english))\n",
    "print(len(french))\n",
    "\n",
    "eng_chars = set(''.join(english))\n",
    "fra_chars = set(''.join(french))\n",
    "all_chars = set(''.join(english + french))\n",
    "print(len(eng_chars))\n",
    "print(len(fra_chars))\n",
    "print(len(all_chars))\n",
    "\n",
    "print(\"max french length = \", len(max(french, key=len)), \"chars\")"
   ]
  },
  {
   "cell_type": "code",
   "execution_count": 10,
   "metadata": {},
   "outputs": [
    {
     "data": {
      "image/png": "[encoded data removed]",
      "text/plain": [
       "<Figure size 1080x360 with 1 Axes>"
      ]
     },
     "metadata": {
      "needs_background": "light"
     },
     "output_type": "display_data"
    }
   ],
   "source": [
    "stoi = {s:i+1 for i, s in enumerate(all_chars)} ##create dictionary mapping from char to int\n",
    "stoi['*'] = 0 #special char\n",
    "itos = {i:s for s, i in stoi.items()}\n",
    "\n",
    "\n",
    "corpus = ''.join(english+french)\n",
    "count_letters = dict()\n",
    "\n",
    "for c in all_chars:\n",
    "    count_letters[c] = corpus.count(c)\n",
    "\n",
    "plt.figure(figsize=(15,5))\n",
    "plt.bar(range(len(count_letters)), list(count_letters.values()), align='center')\n",
    "plt.xticks(range(len(count_letters)), list(count_letters.keys()))\n",
    "plt.title(\"Character Histogram\")\n",
    "plt.show()"
   ]
  },
  {
   "cell_type": "markdown",
   "metadata": {},
   "source": [
    "# Train"
   ]
  },
  {
   "cell_type": "code",
   "execution_count": 65,
   "metadata": {},
   "outputs": [],
   "source": [
    "samples = 300\n",
    "xs, ys = words_to_data(english[:samples], french[:samples], stoi, special_char=\"*\")\n",
    "\n",
    "n_letters = len(stoi)\n",
    "hidden_size = 64\n",
    "model = TranslGRU(input_size=n_letters,\n",
    "                  hidden_size=hidden_size,\n",
    "                  output_size=n_letters)\n",
    "model.init_weights(lam=0.01)"
   ]
  },
  {
   "cell_type": "code",
   "execution_count": 93,
   "metadata": {},
   "outputs": [],
   "source": [
    "for _ in range(100):\n",
    "    s_ix = 200 #random.randint(0, len(x)-1)\n",
    "\n",
    "    x_i, y_i = xs[s_ix], ys[s_ix]\n",
    "    x_ohe = torch.nn.functional.one_hot(x_i, n_letters)\n",
    "    x_ohe = torch.unsqueeze(x_ohe, dim=1) #insert 'batch' dim\n",
    "\n",
    "    logits, loss = model.forward(x_ohe, y_i)\n",
    "\n",
    "    model.backprop_update(lr=0.1)\n",
    "    # print(loss)"
   ]
  },
  {
   "cell_type": "code",
   "execution_count": 94,
   "metadata": {},
   "outputs": [
    {
     "data": {
      "text/plain": [
       "7.280463297597387"
      ]
     },
     "execution_count": 94,
     "metadata": {},
     "output_type": "execute_result"
    }
   ],
   "source": [
    "loss"
   ]
  },
  {
   "cell_type": "code",
   "execution_count": 95,
   "metadata": {},
   "outputs": [
    {
     "name": "stdout",
     "output_type": "stream",
     "text": [
      "ooooooooooo\n"
     ]
    }
   ],
   "source": [
    "phrase = []\n",
    "for i in range(logits.shape[0]):\n",
    "    indx = torch.argmax(logits[0]).item()\n",
    "    phrase.append(itos[indx])\n",
    "\n",
    "print(\"\".join(phrase)) "
   ]
  },
  {
   "cell_type": "code",
   "execution_count": 38,
   "metadata": {},
   "outputs": [],
   "source": [
    "logs = torch.zeros((n_letters, 3))\n",
    "logs[:, 0] = logits.squeeze()"
   ]
  },
  {
   "cell_type": "code",
   "execution_count": null,
   "metadata": {},
   "outputs": [],
   "source": [
    "torch.nn.functional.softmax(logits, dim=0)"
   ]
  }
 ],
 "metadata": {
  "kernelspec": {
   "display_name": "Python 3.10.4 ('.venv': venv)",
   "language": "python",
   "name": "python3"
  },
  "language_info": {
   "codemirror_mode": {
    "name": "ipython",
    "version": 3
   },
   "file_extension": ".py",
   "mimetype": "text/x-python",
   "name": "python",
   "nbconvert_exporter": "python",
   "pygments_lexer": "ipython3",
   "version": "3.10.4"
  },
  "orig_nbformat": 4,
  "vscode": {
   "interpreter": {
    "hash": "5c4359ed68c894e31dfa741bacd50703ee9ca4c289f19062f47d11ef9a0ee7ac"
   }
  }
 },
 "nbformat": 4,
 "nbformat_minor": 2
}

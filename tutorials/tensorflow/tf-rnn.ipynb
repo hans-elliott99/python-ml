{
 "cells": [
  {
   "cell_type": "markdown",
   "metadata": {},
   "source": [
    "# Recurrent Neural Networks with TensorFlow\n",
    "Applying an RNN to MNIST.  \n",
    "Important to get the input shape right - RNN takes a 3-dimensional input typically [batch_size, timestamps, feature], since RNN are built to perform on sequential data.  \n",
    "MNIST is obviously not sequential data, but an RNN can still be applied, yielding improvements over a basic MLP.  \n",
    "Thus, we may have to reshape the MNIST dataset. In this case, it comes in 3-d form [60000, 28, 28], which corresponds to 60,000 arrays each with 28 rows and 28 columns (28x28 matrices). In other words, for every sample out of the 60,000 training samples, an image is 28 pixels wide and 28 tall. We can pass this 3d form right into an LSTM layer. (On Kaggle, need to convert the flat array of pixels back into this 3d form).  \n",
    "Also note that y_train comes as a vector of sparse labels. Technically, we should convert this to a one-hot encoded vector with shape [60000, 10] - 10 corresponding to the 10 classes.   "
   ]
  },
  {
   "cell_type": "code",
   "execution_count": 23,
   "metadata": {},
   "outputs": [],
   "source": [
    "# Recurrent Neural Networks with TensorFlow\n",
    "import numpy as np\n",
    "import tensorflow as tf\n",
    "import matplotlib.pyplot as plt"
   ]
  },
  {
   "cell_type": "code",
   "execution_count": 3,
   "metadata": {},
   "outputs": [],
   "source": [
    "# MNIST example\n",
    "mnist = tf.keras.datasets.mnist\n",
    "(X_train, y_train), (X_test, y_test) = mnist.load_data()\n",
    "X_train, X_test = X_train/255.0, X_test/255.0 "
   ]
  },
  {
   "cell_type": "code",
   "execution_count": 29,
   "metadata": {},
   "outputs": [
    {
     "name": "stdout",
     "output_type": "stream",
     "text": [
      "Training Data Shape:  (60000, 28, 28)\n",
      "Single image shape:  (28, 28)\n",
      "y_train.shape:  (60000,)\n"
     ]
    }
   ],
   "source": [
    "print(\"Training Data Shape: \", X_train.shape)\n",
    "print(\"Single image shape: \", X_train[1,].shape)\n",
    "print(\"y_train.shape: \", y_train.shape)"
   ]
  },
  {
   "cell_type": "code",
   "execution_count": 14,
   "metadata": {},
   "outputs": [
    {
     "data": {
      "text/plain": [
       "(28, 28)"
      ]
     },
     "execution_count": 14,
     "metadata": {},
     "output_type": "execute_result"
    }
   ],
   "source": [
    "X_train[0].shape"
   ]
  },
  {
   "cell_type": "code",
   "execution_count": 17,
   "metadata": {},
   "outputs": [
    {
     "name": "stdout",
     "output_type": "stream",
     "text": [
      "Model: \"sequential_4\"\n",
      "_________________________________________________________________\n",
      " Layer (type)                Output Shape              Param #   \n",
      "=================================================================\n",
      " lstm_4 (LSTM)               (None, 128)               80384     \n",
      "                                                                 \n",
      " dense_4 (Dense)             (None, 10)                1290      \n",
      "                                                                 \n",
      "=================================================================\n",
      "Total params: 81,674\n",
      "Trainable params: 81,674\n",
      "Non-trainable params: 0\n",
      "_________________________________________________________________\n"
     ]
    }
   ],
   "source": [
    "# As with an MLP, we first build/define a sequential model\n",
    "model = tf.keras.models.Sequential([\n",
    "    #tf.keras.layers.Flatten(input_shape = (28, 28)), ##flatten the 28X28 image into a single array\n",
    "    tf.keras.layers.Input(shape=X_train[0].shape), ##shape=(28,28)\n",
    "    tf.keras.layers.LSTM(128),\n",
    "    tf.keras.layers.Dense(10) ##add output layer with 10 nodes for 10 classes\n",
    "])\n",
    "model.summary()"
   ]
  },
  {
   "cell_type": "code",
   "execution_count": 19,
   "metadata": {},
   "outputs": [],
   "source": [
    "weights = model.get_weights()\n",
    "reset_model = lambda model: model.set_weights(weights) ##lambda fn to reset model weights to randomly initialized\n",
    "\n",
    "#Note: since we didn't one hot encode the y labels, they are considered sparse. So need to use sparse cat crossent\n",
    "loss_fn = tf.keras.losses.SparseCategoricalCrossentropy(from_logits=True) ##softmax activartion not yet applied, logits = T\n",
    "\n",
    "model.compile(optimizer='adam',\n",
    "              loss=loss_fn,\n",
    "              metrics=['accuracy'])\n"
   ]
  },
  {
   "cell_type": "code",
   "execution_count": 21,
   "metadata": {},
   "outputs": [
    {
     "name": "stdout",
     "output_type": "stream",
     "text": [
      "Epoch 1/5\n",
      "1875/1875 [==============================] - 26s 14ms/step - loss: 0.4748 - accuracy: 0.8409 - val_loss: 0.1165 - val_accuracy: 0.9630\n",
      "Epoch 2/5\n",
      "1875/1875 [==============================] - 29s 16ms/step - loss: 0.1031 - accuracy: 0.9691 - val_loss: 0.0766 - val_accuracy: 0.9762\n",
      "Epoch 3/5\n",
      "1875/1875 [==============================] - 29s 15ms/step - loss: 0.0729 - accuracy: 0.9779 - val_loss: 0.0641 - val_accuracy: 0.9812\n",
      "Epoch 4/5\n",
      "1875/1875 [==============================] - 28s 15ms/step - loss: 0.0558 - accuracy: 0.9828 - val_loss: 0.0584 - val_accuracy: 0.9822\n",
      "Epoch 5/5\n",
      "1875/1875 [==============================] - 28s 15ms/step - loss: 0.0462 - accuracy: 0.9855 - val_loss: 0.0589 - val_accuracy: 0.9826\n"
     ]
    }
   ],
   "source": [
    "reset_model(model)\n",
    "hist = model.fit(X_train, y_train, epochs = 5, validation_data=(X_test, y_test))"
   ]
  },
  {
   "cell_type": "code",
   "execution_count": 24,
   "metadata": {},
   "outputs": [
    {
     "data": {
      "image/png": "[encoded data removed]",
      "text/plain": [
       "<Figure size 432x288 with 1 Axes>"
      ]
     },
     "metadata": {
      "needs_background": "light"
     },
     "output_type": "display_data"
    }
   ],
   "source": [
    "plt.plot(hist.history['loss'], label='loss')\n",
    "plt.plot(hist.history['val_loss'], label='validation loss')\n",
    "plt.legend()\n",
    "plt.show()"
   ]
  },
  {
   "cell_type": "code",
   "execution_count": 25,
   "metadata": {},
   "outputs": [
    {
     "data": {
      "image/png": "[encoded data removed]",
      "text/plain": [
       "<Figure size 432x288 with 1 Axes>"
      ]
     },
     "metadata": {
      "needs_background": "light"
     },
     "output_type": "display_data"
    }
   ],
   "source": [
    "plt.plot(hist.history['accuracy'], label='acc')\n",
    "plt.plot(hist.history['val_accuracy'], label='validation acc')\n",
    "plt.legend()\n",
    "plt.show()"
   ]
  },
  {
   "cell_type": "code",
   "execution_count": null,
   "metadata": {},
   "outputs": [],
   "source": []
  }
 ],
 "metadata": {
  "kernelspec": {
   "display_name": "Python 3.10.4 ('.venv': venv)",
   "language": "python",
   "name": "python3"
  },
  "language_info": {
   "codemirror_mode": {
    "name": "ipython",
    "version": 3
   },
   "file_extension": ".py",
   "mimetype": "text/x-python",
   "name": "python",
   "nbconvert_exporter": "python",
   "pygments_lexer": "ipython3",
   "version": "3.10.4"
  },
  "orig_nbformat": 4,
  "vscode": {
   "interpreter": {
    "hash": "5c4359ed68c894e31dfa741bacd50703ee9ca4c289f19062f47d11ef9a0ee7ac"
   }
  }
 },
 "nbformat": 4,
 "nbformat_minor": 2
}

{
 "cells": [
  {
   "cell_type": "markdown",
   "metadata": {},
   "source": [
    "# Convolutional Neural Net with TensorFlow\n",
    "Generally of the form Input => Convolution => Pooling => Dense (optional) => Output Layer\n",
    "  \n",
    "Convolution: usually a 'moving window' of size nxn applied to the input matrix, where n is smaller than the height/width of the image.  \n",
    "- Essentially aggregates pixels using this moving window to produce a new matrix that is smaller than the input matrix. Ideally, this new matrix summarizes some of the major/important features of the input matrix (maybe lines or edges).  \n",
    "\n",
    "Pooling: After the convolution produces the convoluted matrix or \"feature map\", pooling simplifies even further.  \n",
    "- A max pooling of nxn finds the max value in a nxn window (applied to the feature map) and chooses that value to represent all other elements in the window.   \n",
    "\n",
    "Conv + Pooling together represent a hidden layer in a CNN.   \n",
    "After these layers, it is common to see at least 1 dense layer before the output layer. This is optional/adjustable.  \n",
    "\n",
    "\n",
    "Why convolution?  \n",
    "> Typically, Convolutional layers are used as feature extractors. Through optimization, these layers learn \"kernels\" which slide (or convolve) over the input data, generating a number of \"feature maps\" that can subsequently be used for detecting certain patterns in the data. This is achieved by element-wise multiplications between the slice of input data the filter is currently hovering over, and the weights present within the filter.\n",
    "- [Source](https://github.com/christianversloot/machine-learning-articles/blob/main/what-is-padding-in-a-neural-network.md)\n",
    "\n"
   ]
  },
  {
   "cell_type": "code",
   "execution_count": 73,
   "metadata": {},
   "outputs": [],
   "source": [
    "import numpy as np\n",
    "import tensorflow as tf\n",
    "import matplotlib.pyplot as plt\n",
    "import seaborn as sn"
   ]
  },
  {
   "cell_type": "code",
   "execution_count": 39,
   "metadata": {},
   "outputs": [],
   "source": [
    "# MNIST example\n",
    "mnist = tf.keras.datasets.mnist\n",
    "(X_train, y_train), (X_test, y_test) = mnist.load_data()\n",
    "## Scale pixels\n",
    "X_train, X_test = X_train/255.0, X_test/255.0 \n",
    "## Convert y labels to one-hot encoded\n",
    "y_train = tf.keras.utils.to_categorical(y_train)\n",
    "y_test = tf.keras.utils.to_categorical(y_test)"
   ]
  },
  {
   "cell_type": "code",
   "execution_count": 40,
   "metadata": {},
   "outputs": [
    {
     "name": "stdout",
     "output_type": "stream",
     "text": [
      "Training Data Shape:  (60000, 28, 28)\n",
      "Single image shape:  (28, 28)\n",
      "y_train.shape:  (60000, 10)\n"
     ]
    }
   ],
   "source": [
    "print(\"Training Data Shape: \", X_train.shape)\n",
    "print(\"Single image shape: \", X_train[1,].shape)\n",
    "print(\"y_train.shape: \", y_train.shape)"
   ]
  },
  {
   "cell_type": "markdown",
   "metadata": {},
   "source": [
    "https://www.kaggle.com/code/amyjang/tensorflow-mnist-cnn-tutorial/notebook\n",
    "https://pythonprogramming.net/cnn-tensorflow-convolutional-nerual-network-machine-learning-tutorial/?completed=/convolutional-neural-network-cnn-machine-learning-tutorial/\n"
   ]
  },
  {
   "cell_type": "markdown",
   "metadata": {},
   "source": [
    "Here are some example models to better understand CNN parameters. \n",
    "We will be using 2D convolutions since we want to convolve in 2 directions - x and y (height and width) of the input. For information on 1D, 2D, and 3D convolutions see [this source](https://stackoverflow.com/questions/42883547/intuitive-understanding-of-1d-2d-and-3d-convolutions-in-convolutional-neural-n).   \n",
    "In a convolution layer, we specify the number of convolution filters we want in the layer with `filters` and the size of the filter (that moving window) with `kernel_size`.  \n",
    "`Strides` specifies the movement of the window along the height/width. In this example, we just move the indow 1 pixel at a time over the image, but we could specify other values (For example, if we do 2x2 the outputs of the Convolution layer will have shape 14x14 instead of 28x28).  \n",
    "\n",
    "The `padding` parameter is used to control how much padding is added to the input.  \n",
    "When performing the convolution operation the dimensions of the output might be smaller than the input, since the filter (the window moving over the input image) might not fit evenly within the dimensions of the immage. We might be okay with this, for example if we are using convolution layers to aggregate featues. However, we may want to avoid this for various reasons like avoiding a **spatial hierarchy**.  \n",
    "Check these articles for more information. [Source 1](https://github.com/christianversloot/machine-learning-articles/blob/main/what-is-padding-in-a-neural-network.md). [Source 2](https://github.com/christianversloot/machine-learning-articles/blob/main/how-to-use-padding-with-keras.md).     \n",
    "From Source 1:  \n",
    "<div>\n",
    "<img src=\"./ref-figures/padding-ex.png\" width=\"500\"/>\n",
    "</div>\n",
    "\n",
    "For example, consider the models below. With padding = \"same\", you will see the Output Shape in the model summary matches the input shape: (None, 28, 28, 1). (As long as strides are set to 1).\n",
    "With padding = \"valid\", there is no padding. The Output Shape is now smaller than the input shape.  \n",
    "#### Examples:  \n"
   ]
  },
  {
   "cell_type": "code",
   "execution_count": 19,
   "metadata": {},
   "outputs": [
    {
     "name": "stdout",
     "output_type": "stream",
     "text": [
      "Model: \"sequential_13\"\n",
      "_________________________________________________________________\n",
      " Layer (type)                Output Shape              Param #   \n",
      "=================================================================\n",
      " conv2d_12 (Conv2D)          (None, 14, 14, 1)         26        \n",
      "                                                                 \n",
      "=================================================================\n",
      "Total params: 26\n",
      "Trainable params: 26\n",
      "Non-trainable params: 0\n",
      "_________________________________________________________________\n"
     ]
    }
   ],
   "source": [
    "# With Padding\n",
    "tf.keras.models.Sequential([\n",
    "    tf.keras.layers.Input(shape=(28, 28, 1)),\n",
    "    ## filters = 1, kernel_size = (5,5) corresponds to 1 5x5 filter\n",
    "    ## strides specifices the movement of the window along the height/width\n",
    "    ## padding corresponds to extra pixels (\"padding\") around the actual input image. 'Same' pads with zeros evenly around the input \n",
    "    tf.keras.layers.Conv2D(filters=1, kernel_size=(5,5), strides=[1,1], padding=\"same\")\n",
    "]).summary()"
   ]
  },
  {
   "cell_type": "code",
   "execution_count": 18,
   "metadata": {},
   "outputs": [
    {
     "name": "stdout",
     "output_type": "stream",
     "text": [
      "Model: \"sequential_12\"\n",
      "_________________________________________________________________\n",
      " Layer (type)                Output Shape              Param #   \n",
      "=================================================================\n",
      " conv2d_11 (Conv2D)          (None, 24, 24, 1)         26        \n",
      "                                                                 \n",
      "=================================================================\n",
      "Total params: 26\n",
      "Trainable params: 26\n",
      "Non-trainable params: 0\n",
      "_________________________________________________________________\n"
     ]
    }
   ],
   "source": [
    "# No Padding\n",
    "tf.keras.models.Sequential([\n",
    "    tf.keras.layers.Input(shape=(28, 28, 1)),\n",
    "    ## strides specifices the movement of the window along the height/width\n",
    "    ## padding corresponds to extra pixels (\"padding\") around the actual input image. 'Same' pads with zeros evenly around the input \n",
    "    tf.keras.layers.Conv2D(filters=1, kernel_size=(5,5), strides=[1,1], padding=\"valid\")\n",
    "]).summary()"
   ]
  },
  {
   "cell_type": "markdown",
   "metadata": {},
   "source": [
    "Another parameter we can control is the `dilation_rate`. A dilated convolution has gaps between elements in the kernel. [Here's a descriptive image](https://www.quora.com/What-is-the-difference-between-dilated-convolution-and-convolution+stride).  \n",
    "This will also reduce the size of the output shape since a dilater kernel does not map every pixel.  \n",
    "Note that, if we were to include padding (padding=\"same\") the output shape would equal the input shape.  "
   ]
  },
  {
   "cell_type": "code",
   "execution_count": 33,
   "metadata": {},
   "outputs": [
    {
     "name": "stdout",
     "output_type": "stream",
     "text": [
      "Dilation Rate =  1\n",
      "Model: \"sequential_34\"\n",
      "_________________________________________________________________\n",
      " Layer (type)                Output Shape              Param #   \n",
      "=================================================================\n",
      " conv2d_34 (Conv2D)          (None, 24, 24, 1)         26        \n",
      "                                                                 \n",
      "=================================================================\n",
      "Total params: 26\n",
      "Trainable params: 26\n",
      "Non-trainable params: 0\n",
      "_________________________________________________________________\n",
      "None\n",
      "---------------------------------------------------------\n",
      "Dilation Rate =  2\n",
      "Model: \"sequential_35\"\n",
      "_________________________________________________________________\n",
      " Layer (type)                Output Shape              Param #   \n",
      "=================================================================\n",
      " conv2d_35 (Conv2D)          (None, 20, 20, 1)         26        \n",
      "                                                                 \n",
      "=================================================================\n",
      "Total params: 26\n",
      "Trainable params: 26\n",
      "Non-trainable params: 0\n",
      "_________________________________________________________________\n",
      "None\n",
      "---------------------------------------------------------\n"
     ]
    }
   ],
   "source": [
    "# No Padding, With Dilation\n",
    "for d in [1, 2]:\n",
    "    print(\"Dilation Rate = \", d)\n",
    "    print(\n",
    "    tf.keras.models.Sequential([\n",
    "        tf.keras.layers.Input(shape=(28, 28, 1)),\n",
    "        tf.keras.layers.Conv2D(filters=1, kernel_size=(5,5), strides=[1,1], padding=\"valid\", dilation_rate=d)\n",
    "    ]).summary()\n",
    "    )\n",
    "    print(\"---------------------------------------------------------\")"
   ]
  },
  {
   "cell_type": "markdown",
   "metadata": {},
   "source": [
    "# Training A CNN Model\n",
    "Now it's time to train a CNN model to learn the MNIST data.  \n",
    "- We input an image (28x28 pixels) and add a 2D convolution layer. We specify we want 32 different filters of size 5x5 and we apply a ReLU activation function to the outputs of the convolutions. We'll say padding=\"same\" to mantain the size of the image before passing the outputs to a max pooling layer.  \n",
    "- The max pooling layer is a \"downsampling\" filter. It will produce a smaller output (note the model summary) since it passes a 2x2 matrix over the image and summarizes the (4) pixels within that matrix by the maximum value.  \n",
    "- We could add more convolutions and pooling, but we will stick with this. Now, before passing to dense layers, we want to flatten the images. This just takes the square matrices and flattens them into a single vector (note that the shape is 14 x 14 x 32 = 64).  \n",
    "- The output layer is a dense layer with 10 outputs (one for each numer in MNIST) and a softmax activation fn, so that the model predicts the probability of each number for a given image.  "
   ]
  },
  {
   "cell_type": "code",
   "execution_count": 41,
   "metadata": {},
   "outputs": [
    {
     "name": "stdout",
     "output_type": "stream",
     "text": [
      "Model: \"sequential_39\"\n",
      "_________________________________________________________________\n",
      " Layer (type)                Output Shape              Param #   \n",
      "=================================================================\n",
      " conv2d_39 (Conv2D)          (None, 28, 28, 32)        832       \n",
      "                                                                 \n",
      " max_pooling2d_3 (MaxPooling  (None, 14, 14, 32)       0         \n",
      " 2D)                                                             \n",
      "                                                                 \n",
      " flatten_1 (Flatten)         (None, 6272)              0         \n",
      "                                                                 \n",
      " dense_8 (Dense)             (None, 10)                62730     \n",
      "                                                                 \n",
      "=================================================================\n",
      "Total params: 63,562\n",
      "Trainable params: 63,562\n",
      "Non-trainable params: 0\n",
      "_________________________________________________________________\n"
     ]
    }
   ],
   "source": [
    "model = tf.keras.models.Sequential([\n",
    "    tf.keras.layers.Input(shape=(28,28,1)),\n",
    "    tf.keras.layers.Conv2D(filters=32, kernel_size=(5, 5), activation='relu', padding='same'),\n",
    "    tf.keras.layers.MaxPool2D(),\n",
    "    tf.keras.layers.Flatten(),\n",
    "    tf.keras.layers.Dense(10, activation = \"softmax\")\n",
    "])\n",
    "model.summary()"
   ]
  },
  {
   "cell_type": "code",
   "execution_count": 44,
   "metadata": {},
   "outputs": [],
   "source": [
    "weights = model.get_weights()\n",
    "reset_model = lambda model: model.set_weights(weights) ##lambda fn to reset model weights to randomly initialized\n",
    "\n",
    "#loss_fn = tf.keras.losses.SparseCategoricalCrossentropy(from_logits=False) ##don't use sparse since we one-hot encoded y\n",
    "\n",
    "model.compile(optimizer='adam',\n",
    "              loss='categorical_crossentropy',\n",
    "              metrics=['accuracy'])\n"
   ]
  },
  {
   "cell_type": "code",
   "execution_count": 48,
   "metadata": {},
   "outputs": [
    {
     "name": "stdout",
     "output_type": "stream",
     "text": [
      "Epoch 1/3\n",
      "1875/1875 [==============================] - 28s 15ms/step - loss: 0.1721 - accuracy: 0.9475 - val_loss: 0.0669 - val_accuracy: 0.9777\n",
      "Epoch 2/3\n",
      "1875/1875 [==============================] - 29s 15ms/step - loss: 0.0591 - accuracy: 0.9819 - val_loss: 0.0520 - val_accuracy: 0.9827\n",
      "Epoch 3/3\n",
      "1875/1875 [==============================] - 27s 14ms/step - loss: 0.0434 - accuracy: 0.9870 - val_loss: 0.0453 - val_accuracy: 0.9854\n"
     ]
    }
   ],
   "source": [
    "reset_model(model)\n",
    "history = model.fit(X_train, y_train, epochs = 3, validation_data=(X_test, y_test))"
   ]
  },
  {
   "cell_type": "code",
   "execution_count": 49,
   "metadata": {},
   "outputs": [
    {
     "data": {
      "image/png": "[encoded data removed]",
      "text/plain": [
       "<Figure size 432x288 with 1 Axes>"
      ]
     },
     "metadata": {
      "needs_background": "light"
     },
     "output_type": "display_data"
    }
   ],
   "source": [
    "plt.plot(history.history['loss'], label='loss')\n",
    "plt.plot(history.history['val_loss'], label='validation loss')\n",
    "plt.legend()\n",
    "plt.show()"
   ]
  },
  {
   "cell_type": "markdown",
   "metadata": {},
   "source": [
    "### Confusion Matrix"
   ]
  },
  {
   "cell_type": "code",
   "execution_count": 51,
   "metadata": {},
   "outputs": [
    {
     "name": "stdout",
     "output_type": "stream",
     "text": [
      "313/313 [==============================] - 2s 5ms/step\n"
     ]
    }
   ],
   "source": [
    "# Predict model onto test data\n",
    "y_pred = model.predict(X_test)"
   ]
  },
  {
   "cell_type": "code",
   "execution_count": 69,
   "metadata": {},
   "outputs": [
    {
     "name": "stdout",
     "output_type": "stream",
     "text": [
      "y_pred.shape  (10000,) , y_true.shape  (10000,)\n"
     ]
    }
   ],
   "source": [
    "# Determine class with highest predicted prob\n",
    "y_pred_class = np.argmax(y_pred, axis=1)\n",
    "# Convert y_test from one-hot encoded to sparse\n",
    "y_true = np.argmax(y_test, axis=1)\n",
    "\n",
    "print(\n",
    "\"y_pred.shape \", y_pred_class.shape,\n",
    "\", y_true.shape \", y_true.shape\n",
    ")\n",
    "\n",
    "# compute confusion matrix\n",
    "conf_mat = tf.math.confusion_matrix(y_true, y_pred_class)"
   ]
  },
  {
   "cell_type": "code",
   "execution_count": 74,
   "metadata": {},
   "outputs": [
    {
     "data": {
      "text/plain": [
       "<AxesSubplot:>"
      ]
     },
     "execution_count": 74,
     "metadata": {},
     "output_type": "execute_result"
    },
    {
     "data": {
      "image/png": "[encoded data removed]",
      "text/plain": [
       "<Figure size 720x720 with 2 Axes>"
      ]
     },
     "metadata": {
      "needs_background": "light"
     },
     "output_type": "display_data"
    }
   ],
   "source": [
    "# plot with seaborn\n",
    "plt.figure(figsize= (10,10))\n",
    "sn.heatmap(conf_mat, annot=True)\n",
    "\n"
   ]
  }
 ],
 "metadata": {
  "kernelspec": {
   "display_name": "Python 3.10.4 ('.venv': venv)",
   "language": "python",
   "name": "python3"
  },
  "language_info": {
   "codemirror_mode": {
    "name": "ipython",
    "version": 3
   },
   "file_extension": ".py",
   "mimetype": "text/x-python",
   "name": "python",
   "nbconvert_exporter": "python",
   "pygments_lexer": "ipython3",
   "version": "3.10.4"
  },
  "orig_nbformat": 4,
  "vscode": {
   "interpreter": {
    "hash": "5c4359ed68c894e31dfa741bacd50703ee9ca4c289f19062f47d11ef9a0ee7ac"
   }
  }
 },
 "nbformat": 4,
 "nbformat_minor": 2
}

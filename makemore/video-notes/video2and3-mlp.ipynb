{
 "cells": [
  {
   "cell_type": "markdown",
   "metadata": {},
   "source": [
    "# Makemore Tutorial Part 2\n",
    "## Based on 'A Neural Probabilistic Language Model'"
   ]
  },
  {
   "cell_type": "code",
   "execution_count": 5,
   "metadata": {},
   "outputs": [
    {
     "data": {
      "text/plain": [
       "\"\\nModel structure from 'A Neural Probabilistic Language Model'\\n\\n            i-th output = P(Wt = i | context)\\n                        |\\n    [_______fully_connected_softmax________]                   <- (most computation/largest layer)\\n                        |\\n                        |\\n                        |\\n[_____________fully_connected_tanh________________]\\n    |                   |                   |\\n    |                   |                   |\\n[C(Wt-n+1)]         [C(Wt-2)]            [C(Wt-1)]\\n |                    |                    |\\n |__________(C)_______|_________(C)________| \\n |                    |                    |\\n[  ]                 [  ]                 [  ]  \\nindx for Wt-n+1      for Wt-2              for Wt-1\\n\""
      ]
     },
     "execution_count": 5,
     "metadata": {},
     "output_type": "execute_result"
    }
   ],
   "source": [
    "\n",
    "\"\"\"\n",
    "Model structure from 'A Neural Probabilistic Language Model'\n",
    "\n",
    "\n",
    "            i-th output = P(Wt = i | context)\n",
    "                        |\n",
    "    [_______fully_connected_softmax________]                    <- (most computation/largest layer)\n",
    "                        |\n",
    "                        |\n",
    "                        |\n",
    "[_____________fully_connected_tanh________________]\n",
    "    |                   |                   |\n",
    "    |                   |                   |\n",
    "[C(Wt-n+1)]  ...    [C(Wt-2)]            [C(Wt-1)]\n",
    " |                    |                    |\n",
    " |__________(C)_______|_________(C)________| \n",
    " |                    |                    |\n",
    "[  ]                 [  ]                 [  ]  \n",
    "indx for Wt-n+1  ...  for Wt-2              for Wt-1\n",
    "\"\"\""
   ]
  },
  {
   "cell_type": "markdown",
   "metadata": {},
   "source": [
    "`C` is a 'Loop-Up Table'. In the paper, it is ~ 17,000 rows long, one row for every *word* in their corpus, and it is 30 columns wide - 30 since each word is embedded into a 30-dimensional space in their model.  \n",
    "`C`'s parameters are shared across all of the input words and updated through backprop. Then, each input word is used to 'index' C to get the embedding for the given word. Thus, each word index is converted to the 30-dim embedding vector corresponding to it.  \n",
    "Thus, the network's actual 'input layer' is a vector of 3 (the number of words) * 30 = 90 total inputs.  \n",
    "The hidden layer is a fully connected + `tanh` layer as seen above, and the size is a hyperparameter.  \n",
    "It is connected to a fully connected + `softmax` layer. Since, in the paper, there are 17,000 possible words to predict, this layer has 17000 neurons all fully connected to the hidden layer - thus a lot of params.  \n",
    "\n",
    "We will be using this process but staying at the character level. "
   ]
  },
  {
   "cell_type": "code",
   "execution_count": 1,
   "metadata": {},
   "outputs": [],
   "source": [
    "import torch\n",
    "import torch.nn.functional as F\n",
    "import matplotlib.pyplot as plt\n",
    "%matplotlib inline\n",
    "\n",
    "import random\n",
    "import math"
   ]
  },
  {
   "cell_type": "code",
   "execution_count": 2,
   "metadata": {},
   "outputs": [
    {
     "data": {
      "text/plain": [
       "['emma', 'olivia', 'ava', 'isabella', 'sophia']"
      ]
     },
     "execution_count": 2,
     "metadata": {},
     "output_type": "execute_result"
    }
   ],
   "source": [
    "words = open('../makemore_data/names.txt').read().splitlines()\n",
    "words[:5]"
   ]
  },
  {
   "cell_type": "code",
   "execution_count": 3,
   "metadata": {},
   "outputs": [
    {
     "name": "stdout",
     "output_type": "stream",
     "text": [
      "{1: 'a', 2: 'b', 3: 'c', 4: 'd', 5: 'e', 6: 'f', 7: 'g', 8: 'h', 9: 'i', 10: 'j', 11: 'k', 12: 'l', 13: 'm', 14: 'n', 15: 'o', 16: 'p', 17: 'q', 18: 'r', 19: 's', 20: 't', 21: 'u', 22: 'v', 23: 'w', 24: 'x', 25: 'y', 26: 'z', 0: '.'}\n"
     ]
    }
   ],
   "source": [
    "# Vocab\n",
    "chars = sorted(list(set(''.join(words)))) ##unique characters ordered\n",
    "stoi = {s:i+1 for i, s in enumerate(chars)} ##create dictionary mapping from char to int\n",
    "stoi['.'] = 0 ##just one special character for start and end of word\n",
    "itos = {i:s for s, i in stoi.items()}\n",
    "print(itos)"
   ]
  },
  {
   "cell_type": "code",
   "execution_count": 31,
   "metadata": {},
   "outputs": [
    {
     "name": "stdout",
     "output_type": "stream",
     "text": [
      "emma:\n",
      "... --> e\n",
      "..e --> m\n",
      ".em --> m\n",
      "emm --> a\n",
      "mma --> .\n",
      "olivia:\n",
      "... --> o\n",
      "..o --> l\n",
      ".ol --> i\n",
      "oli --> v\n",
      "liv --> i\n",
      "ivi --> a\n",
      "via --> .\n",
      "ava:\n",
      "... --> a\n",
      "..a --> v\n",
      ".av --> a\n",
      "ava --> .\n",
      "isabella:\n",
      "... --> i\n",
      "..i --> s\n",
      ".is --> a\n",
      "isa --> b\n",
      "sab --> e\n",
      "abe --> l\n",
      "bel --> l\n",
      "ell --> a\n",
      "lla --> .\n",
      "sophia:\n",
      "... --> s\n",
      "..s --> o\n",
      ".so --> p\n",
      "sop --> h\n",
      "oph --> i\n",
      "phi --> a\n",
      "hia --> .\n"
     ]
    }
   ],
   "source": [
    "X, Y = [], []\n",
    "block_size = 3\n",
    "for w in words[:5]:\n",
    "    print(f\"{w}:\")\n",
    "\n",
    "    context = [0] * block_size #start with padded context of just 0 tokes ('.')\n",
    "    for ch in w + '.':\n",
    "        ix = stoi[ch]\n",
    "        X.append(context)\n",
    "        Y.append(ix)\n",
    "        print(''.join(itos[i] for i in context), \"-->\", itos[ix])\n",
    "        context = context[1:] + [ix] #crop the context vector and append the new index\n",
    "\n",
    "\n",
    "X = torch.tensor(X)\n",
    "Y = torch.tensor(Y)\n",
    "\n",
    "n_samples = X.shape[0]"
   ]
  },
  {
   "cell_type": "markdown",
   "metadata": {},
   "source": [
    "## Background"
   ]
  },
  {
   "cell_type": "code",
   "execution_count": 32,
   "metadata": {},
   "outputs": [
    {
     "data": {
      "text/plain": [
       "(torch.Size([32, 3]), torch.Size([32]), 32)"
      ]
     },
     "execution_count": 32,
     "metadata": {},
     "output_type": "execute_result"
    }
   ],
   "source": [
    "X.shape, Y.shape, n_samples"
   ]
  },
  {
   "cell_type": "code",
   "execution_count": 33,
   "metadata": {},
   "outputs": [],
   "source": [
    "# Let's embed our 26 characters into a smaller space, for example 2d\n",
    "## randomly initialize with 27 rows (1 for each ch) and 2 cols - based on dim of embedding space\n",
    "C = torch.randn((27, 2))"
   ]
  },
  {
   "cell_type": "code",
   "execution_count": 34,
   "metadata": {},
   "outputs": [
    {
     "data": {
      "text/plain": [
       "tensor([[-0.1990, -1.4198]])"
      ]
     },
     "execution_count": 34,
     "metadata": {},
     "output_type": "execute_result"
    }
   ],
   "source": [
    "# To index into C....\n",
    "C[5] # is equivalent to:\n",
    "F.one_hot(torch.tensor([5]), num_classes=27).float() @ C\n",
    "\n",
    "## So we can either think of the integer as indexing into lookup-table C or think of C as a first layer which we feed one-hot integers\n",
    "## But indexing is faster!"
   ]
  },
  {
   "cell_type": "code",
   "execution_count": 35,
   "metadata": {},
   "outputs": [
    {
     "name": "stdout",
     "output_type": "stream",
     "text": [
      "X[10] = tensor([ 9, 22,  9])\n",
      " C[X[10]] = tensor([[-0.5013,  1.1879],\n",
      "        [-0.2268,  1.6490],\n",
      "        [-0.5013,  1.1879]])\n"
     ]
    }
   ],
   "source": [
    "# We can index torch tensors with lists or even tensors:\n",
    "print(f\"{X[10] = }\")\n",
    "\n",
    "print(f\"{ C[X[10]] = }\")"
   ]
  },
  {
   "cell_type": "code",
   "execution_count": 36,
   "metadata": {},
   "outputs": [
    {
     "data": {
      "text/plain": [
       "torch.Size([32, 3, 2])"
      ]
     },
     "execution_count": 36,
     "metadata": {},
     "output_type": "execute_result"
    }
   ],
   "source": [
    "# thus, to get our full embedding we can simply do:\n",
    "emb = C[X]\n",
    "emb.shape"
   ]
  },
  {
   "cell_type": "code",
   "execution_count": 37,
   "metadata": {},
   "outputs": [],
   "source": [
    "# First layer takes 6 inputs (3 input words * 2-dimensional embedding)\n",
    "# The number of neurons is a parameter we control\n",
    "layer1_neurons = 100\n",
    "W1 = torch.randn((6, layer1_neurons))\n",
    "b1 = torch.randn(layer1_neurons)"
   ]
  },
  {
   "cell_type": "code",
   "execution_count": 38,
   "metadata": {},
   "outputs": [
    {
     "data": {
      "text/plain": [
       "torch.Size([32, 6])"
      ]
     },
     "execution_count": 38,
     "metadata": {},
     "output_type": "execute_result"
    }
   ],
   "source": [
    "# emb @ W1 + b1 will NOT work since the embeddins are not of the correct shape\n",
    "# we can concatenate the second 2 dimensions - ie, the 2d embeddings for each input word can be stacked together into one 'row'\n",
    "torch.cat([emb[:, 0, :], emb[:, 1, :], emb[:, 2, :]], dim=1).shape\n",
    "## Each of these sliced tensors will have shape (32, 2) so we concatenate along dimension 1, not 0\n",
    "## But this is dependent on the block size"
   ]
  },
  {
   "cell_type": "code",
   "execution_count": 39,
   "metadata": {},
   "outputs": [
    {
     "name": "stdout",
     "output_type": "stream",
     "text": [
      "len(torch.unbind(emb, dim=1)) = 3\n"
     ]
    },
    {
     "data": {
      "text/plain": [
       "torch.Size([32, 6])"
      ]
     },
     "execution_count": 39,
     "metadata": {},
     "output_type": "execute_result"
    }
   ],
   "source": [
    "# instead we could use torch.unbind, which removes a dimension and gives us a list, just like the manual one we made above\n",
    "print( f\"{len(torch.unbind(emb, dim=1)) = }\" )\n",
    "torch.cat(torch.unbind(emb, dim=1), 1).shape\n",
    "## but this creates a whole new tensor, and is thus mem inefficient"
   ]
  },
  {
   "cell_type": "code",
   "execution_count": 41,
   "metadata": {},
   "outputs": [
    {
     "data": {
      "text/plain": [
       "torch.Size([32, 6])"
      ]
     },
     "execution_count": 41,
     "metadata": {},
     "output_type": "execute_result"
    }
   ],
   "source": [
    "# A better way: use .view which is extemely memory effecient\n",
    "emb.view(32, block_size*2).shape ##which concatenates in just the right way"
   ]
  },
  {
   "cell_type": "markdown",
   "metadata": {},
   "source": [
    "## Put it together"
   ]
  },
  {
   "cell_type": "code",
   "execution_count": 42,
   "metadata": {},
   "outputs": [
    {
     "name": "stdout",
     "output_type": "stream",
     "text": [
      "torch.Size([32, 100])\n",
      "tensor(1.) tensor(-1.)\n"
     ]
    }
   ],
   "source": [
    "g = torch.Generator().manual_seed(2147483647)\n",
    "# Let's embed our 26 characters into a smaller space, for example 2d\n",
    "## randomly initialize with 27 rows (1 for each ch) and 2 cols - based on dim of embedding space\n",
    "\n",
    "# EMBEDDINGS\n",
    "emb_dim = 2\n",
    "C = torch.randn((27, emb_dim), generator=g)\n",
    "# Get embeddings\n",
    "emb = C[X]\n",
    "\n",
    "# HIDDEN LAYER\n",
    "# First layer takes 6 inputs (3 input words * 2-dimensional embedding)\n",
    "# The number of neurons is a parameter we control\n",
    "layer1_neurons = 100\n",
    "W1 = torch.randn((6, layer1_neurons), generator=g)\n",
    "b1 = torch.randn(layer1_neurons, generator=g)\n",
    "\n",
    "h = torch.tanh( emb.view(-1, block_size*emb_dim) @ W1 + b1 )   \n",
    "##emb goes to (32, 6), since -1 makes torch infer the dim\n",
    "##b1 is broadcasted to (1, 100) and added element wise to the (32, 100) matrix produced by the mat mul\n",
    "\n",
    "print( h.shape )\n",
    "print( torch.max(h), torch.min(h) ) ##tanh squeezes between -1, 1"
   ]
  },
  {
   "cell_type": "code",
   "execution_count": 43,
   "metadata": {},
   "outputs": [
    {
     "name": "stdout",
     "output_type": "stream",
     "text": [
      "torch.Size([32, 27])\n",
      "Model params = 3481\n"
     ]
    }
   ],
   "source": [
    "# OUTPUT LAYER\n",
    "# Create final layer: receives # inputs = layer 1's neurons, and has 27 neurons (1 for each chr)\n",
    "W2 = torch.randn((layer1_neurons, 27), generator=g)\n",
    "b2 = torch.randn(27, generator=g)\n",
    "\n",
    "# Logits are the hidden layer mat multiplied by the output layer (+ bias)\n",
    "logits = h @ W2 + b2\n",
    "\n",
    "# Softmax the logits\n",
    "counts = logits.exp()\n",
    "probs = counts / counts.sum(1, keepdims=True)\n",
    "\n",
    "print(probs.shape) ##n_samples, 27 possible characters\n",
    "\n",
    "parameters = [C, W1, b1, W2, b2]\n",
    "print(f\"Model params = { sum(p.nelement() for p in parameters) }\")"
   ]
  },
  {
   "cell_type": "code",
   "execution_count": 44,
   "metadata": {},
   "outputs": [
    {
     "data": {
      "text/plain": [
       "tensor(17.7697)"
      ]
     },
     "execution_count": 44,
     "metadata": {},
     "output_type": "execute_result"
    }
   ],
   "source": [
    "# LOSS\n",
    "## before: loss = -prob[torch.arange(n_samples), Y].log().mean()\n",
    "## equivalent: (more mem efficient forward & backprop, and safer)\n",
    "loss = F.cross_entropy(logits, Y)\n",
    "loss"
   ]
  },
  {
   "cell_type": "markdown",
   "metadata": {},
   "source": [
    "# Full Training"
   ]
  },
  {
   "cell_type": "code",
   "execution_count": 45,
   "metadata": {},
   "outputs": [
    {
     "name": "stdout",
     "output_type": "stream",
     "text": [
      "228146\n"
     ]
    }
   ],
   "source": [
    "# Vocab\n",
    "chars = sorted(list(set(''.join(words)))) ##unique characters ordered\n",
    "stoi = {s:i+1 for i, s in enumerate(chars)} ##create dictionary mapping from char to int\n",
    "stoi['.'] = 0 ##just one special character for start and end of word\n",
    "itos = {i:s for s, i in stoi.items()}\n",
    "\n",
    "# Data\n",
    "block_size = 3 ## context length: how many chars do we use to predict the next?\n",
    "\n",
    "X, Y = [], []\n",
    "for w in words[:]:\n",
    "    # print(f\"{w}:\")\n",
    "\n",
    "    context = [0] * block_size #start with padded context of just 0 tokes ('.')\n",
    "    for ch in w + '.':\n",
    "        ix = stoi[ch]\n",
    "        X.append(context)\n",
    "        Y.append(ix)\n",
    "        # print(''.join(itos[i] for i in context), \"-->\", itos[ix])\n",
    "        context = context[1:] + [ix] #crop the context vector and append the new index\n",
    "\n",
    "\n",
    "X = torch.tensor(X)\n",
    "Y = torch.tensor(Y)\n",
    "\n",
    "n_samples = X.shape[0]\n",
    "print(n_samples)"
   ]
  },
  {
   "cell_type": "code",
   "execution_count": 46,
   "metadata": {},
   "outputs": [
    {
     "name": "stdout",
     "output_type": "stream",
     "text": [
      "Model params = 3481\n"
     ]
    }
   ],
   "source": [
    "g = torch.Generator().manual_seed(2147483647)\n",
    "emb_dim = 2\n",
    "layer1_neurons = 100\n",
    "\n",
    "C = torch.randn((27, emb_dim), generator=g)\n",
    "W1 = torch.randn((6, layer1_neurons), generator=g)\n",
    "b1 = torch.randn(layer1_neurons, generator=g)\n",
    "W2 = torch.randn((layer1_neurons, 27), generator=g)\n",
    "b2 = torch.randn(27, generator=g)\n",
    "\n",
    "parameters = [C, W1, b1, W2, b2]\n",
    "print(f\"Model params = { sum(p.nelement() for p in parameters) }\")"
   ]
  },
  {
   "cell_type": "code",
   "execution_count": 47,
   "metadata": {},
   "outputs": [],
   "source": [
    "# LR Grid Search\n",
    "lre = torch.linspace(-3, 0, 1000)\n",
    "lrs = 10**lre"
   ]
  },
  {
   "cell_type": "code",
   "execution_count": 48,
   "metadata": {},
   "outputs": [
    {
     "name": "stdout",
     "output_type": "stream",
     "text": [
      "loss:\n",
      "5.844039440155029 "
     ]
    }
   ],
   "source": [
    "batch_size = 32\n",
    "steps = 1000\n",
    "# Let's try a different learning rate for each iteration to see which performs best\n",
    "lri = []\n",
    "lossi = []\n",
    "\n",
    "for p in parameters:\n",
    "    p.requires_grad = True\n",
    "\n",
    "print(\"loss:\")\n",
    "for i in range(steps):\n",
    "    # Minibatch construct\n",
    "    if batch_size is not None:\n",
    "        batch_ix = torch.randint(0, X.shape[0], (batch_size, )) ##32 randints between 0 and length of data\n",
    "    else:\n",
    "        batch_ix=range(0,X.shape[0])\n",
    "    # Forward pass\n",
    "    emb = C[X[batch_ix]]\n",
    "    h = torch.tanh( emb.view(-1, block_size*emb_dim) @ W1 + b1 )   \n",
    "    logits = h @ W2 + b2\n",
    "    loss = F.cross_entropy(logits, Y[batch_ix])\n",
    "\n",
    "    # Backward pass\n",
    "    for p in parameters:\n",
    "        p.grad = None\n",
    "    loss.backward()\n",
    "\n",
    "    # Update\n",
    "    lr = lrs[i]\n",
    "    for p in parameters:\n",
    "        p.data += -lr * p.grad\n",
    "\n",
    "    # track stats to tune lr - shows learning rate of 0.1 looks good\n",
    "    lri.append(lre[i])\n",
    "    lossi.append(loss.item())\n",
    "\n",
    "print(loss.item(), end=\" \")"
   ]
  },
  {
   "cell_type": "code",
   "execution_count": 49,
   "metadata": {},
   "outputs": [
    {
     "data": {
      "text/plain": [
       "7.318695545196533"
      ]
     },
     "execution_count": 49,
     "metadata": {},
     "output_type": "execute_result"
    }
   ],
   "source": [
    "# Eval on full data\n",
    "emb = C[X[:]]\n",
    "h = torch.tanh( emb.view(-1, block_size*emb_dim) @ W1 + b1 )   \n",
    "logits = h @ W2 + b2\n",
    "loss = F.cross_entropy(logits, Y[:])\n",
    "loss.item()"
   ]
  },
  {
   "cell_type": "code",
   "execution_count": 50,
   "metadata": {},
   "outputs": [
    {
     "data": {
      "image/png": "[encoded data removed]",
      "text/plain": [
       "<Figure size 432x288 with 1 Axes>"
      ]
     },
     "metadata": {
      "needs_background": "light"
     },
     "output_type": "display_data"
    }
   ],
   "source": [
    "plt.plot(lri, lossi)\n",
    "plt.title(\"LR Search - 10e-1 (0.1) looks best\")\n",
    "plt.show()"
   ]
  },
  {
   "cell_type": "markdown",
   "metadata": {},
   "source": [
    "# Train, Valid, Test split"
   ]
  },
  {
   "cell_type": "code",
   "execution_count": 5,
   "metadata": {},
   "outputs": [],
   "source": [
    "def make_data(words, block_size=3):\n",
    "    chars = sorted(list(set(''.join(words)))) ##unique characters ordered\n",
    "    stoi = {s:i+1 for i, s in enumerate(chars)} ##create dictionary mapping from char to int\n",
    "    stoi['.'] = 0 ##just one special character for start and end of word\n",
    "    itos = {i:s for s, i in stoi.items()}\n",
    "\n",
    "    # Data\n",
    "    ## block_size = context length: how many chars do we use to predict the next?\n",
    "\n",
    "    X, Y = [], []\n",
    "    for w in words[:]:\n",
    "        # print(f\"{w}:\")\n",
    "\n",
    "        context = [0] * block_size #start with padded context of just 0 tokes ('.')\n",
    "        for ch in w + '.':\n",
    "            ix = stoi[ch]\n",
    "            X.append(context)\n",
    "            Y.append(ix)\n",
    "            # print(''.join(itos[i] for i in context), \"-->\", itos[ix])\n",
    "            context = context[1:] + [ix] #crop the context vector and append the new index\n",
    "\n",
    "\n",
    "    X = torch.tensor(X)\n",
    "    Y = torch.tensor(Y)\n",
    "\n",
    "    n_samples = X.shape[0]\n",
    "    print(f\"{ n_samples = }\")\n",
    "\n",
    "    return X, Y\n",
    "\n",
    "\n",
    "def split_samples(inputs, labels, frac=0.8, seed=123):\n",
    "    \"Split xs and ys (inputs and labels) into train and test sets\"\n",
    "    \n",
    "    assert len(inputs)==len(labels), f\"{len(inputs) = } which does not match {len(labels) = }\"\n",
    "    # generate a list of indices to exclude. Turn in into a set for O(1) lookup time\n",
    "    random.seed(seed)\n",
    "    indx = list(set(random.sample(list(range(len(inputs))), int(frac*len(inputs)))))\n",
    "\n",
    "    x_mask = torch.zeros((len(inputs)), dtype=torch.bool) #False\n",
    "    x_mask[indx] = True\n",
    "\n",
    "    y_mask = torch.zeros((len(inputs)), dtype=torch.bool) #False\n",
    "    y_mask[indx] = True\n",
    "\n",
    "    train_x = inputs[x_mask]\n",
    "    train_y = labels[y_mask]\n",
    "\n",
    "    test_x = inputs[~x_mask]\n",
    "    test_y = labels[~y_mask]\n",
    "\n",
    "    return train_x, train_y, test_x, test_y"
   ]
  },
  {
   "cell_type": "code",
   "execution_count": 52,
   "metadata": {},
   "outputs": [
    {
     "name": "stdout",
     "output_type": "stream",
     "text": [
      " n_samples = 228146\n",
      "Train: 0.7999964934734775 Dev: 0.10000175326326124 Test: 0.10000175326326124\n",
      "torch.Size([228146, 3])\n"
     ]
    }
   ],
   "source": [
    "# MAKING DATA & SPLITTING\n",
    "block_size = 3\n",
    "X, Y = make_data(words, block_size)\n",
    "\n",
    "Xtr, Ytr, Xte, Yte = split_samples(X, Y, 0.8)\n",
    "Xdev, Ydev, Xte, Yte = split_samples(Xte, Yte, 0.5)\n",
    "\n",
    "print(\"Train:\", Xtr.shape[0]/X.shape[0], \n",
    "      \"Dev:\", Xdev.shape[0]/X.shape[0],\n",
    "      \"Test:\", Xte.shape[0]/X.shape[0])\n",
    "\n",
    "print(X.shape)"
   ]
  },
  {
   "cell_type": "code",
   "execution_count": 53,
   "metadata": {},
   "outputs": [
    {
     "name": "stdout",
     "output_type": "stream",
     "text": [
      "Model params = 11897\n"
     ]
    }
   ],
   "source": [
    "# INITIALIZE NET\n",
    "g = torch.Generator().manual_seed(2147483647)\n",
    "emb_dim = 10\n",
    "layer1_neurons = 200\n",
    "\n",
    "C = torch.randn((27, emb_dim), generator=g)\n",
    "W1 = torch.randn((emb_dim*block_size, layer1_neurons), generator=g)\n",
    "b1 = torch.randn(layer1_neurons, generator=g)\n",
    "W2 = torch.randn((layer1_neurons, 27), generator=g)\n",
    "b2 = torch.randn(27, generator=g)\n",
    "\n",
    "parameters = [C, W1, b1, W2, b2]\n",
    "print(f\"Model params = { sum(p.nelement() for p in parameters) }\")\n",
    "\n",
    "\n",
    "lossi = []\n",
    "stepi = []"
   ]
  },
  {
   "cell_type": "code",
   "execution_count": 54,
   "metadata": {},
   "outputs": [
    {
     "name": "stdout",
     "output_type": "stream",
     "text": [
      "loss:\n",
      "2.180905342102051 "
     ]
    }
   ],
   "source": [
    "# TRAIN\n",
    "batch_size = 64\n",
    "steps = 50000\n",
    "\n",
    "for p in parameters:\n",
    "    p.requires_grad = True\n",
    "\n",
    "print(\"loss:\")\n",
    "for i in range(steps):\n",
    "    # Minibatch construct\n",
    "    if batch_size is not None:\n",
    "        batch_ix = torch.randint(0, Xtr.shape[0], (batch_size, )) ##32 randints between 0 and length of data\n",
    "    else:\n",
    "        batch_ix=range(0,Xtr.shape[0])\n",
    "    # Forward pass\n",
    "    emb = C[Xtr[batch_ix]]\n",
    "    h = torch.tanh( emb.view(-1, block_size*emb_dim) @ W1 + b1 )   \n",
    "    logits = h @ W2 + b2\n",
    "    loss = F.cross_entropy(logits, Ytr[batch_ix])\n",
    "\n",
    "    # Backward pass\n",
    "    for p in parameters:\n",
    "        p.grad = None\n",
    "    loss.backward()\n",
    "\n",
    "    # Update\n",
    "    lr = 0.01 \n",
    "    for p in parameters:\n",
    "        p.data += -lr * p.grad\n",
    "\n",
    "    # track stats\n",
    "    stepi.append(i)\n",
    "    lossi.append(loss.log10().item())\n",
    "\n",
    "print(loss.item(), end=\" \")"
   ]
  },
  {
   "cell_type": "code",
   "execution_count": 55,
   "metadata": {},
   "outputs": [
    {
     "data": {
      "image/png": "[encoded data removed]",
      "text/plain": [
       "<Figure size 432x288 with 1 Axes>"
      ]
     },
     "metadata": {
      "needs_background": "light"
     },
     "output_type": "display_data"
    }
   ],
   "source": [
    "plt.plot(lossi)\n",
    "plt.title(\"Log loss over training steps\")\n",
    "plt.show()"
   ]
  },
  {
   "cell_type": "code",
   "execution_count": 56,
   "metadata": {},
   "outputs": [
    {
     "name": "stdout",
     "output_type": "stream",
     "text": [
      "Dev set loss: 2.396174192428589\n"
     ]
    }
   ],
   "source": [
    "# Eval on dev set\n",
    "emb = C[Xdev[:]]\n",
    "h = torch.tanh( emb.view(-1, block_size*emb_dim) @ W1 + b1 )   \n",
    "logits = h @ W2 + b2\n",
    "loss = F.cross_entropy(logits, Ydev[:])\n",
    "print(\"Dev set loss:\", loss.item())"
   ]
  },
  {
   "cell_type": "code",
   "execution_count": 357,
   "metadata": {},
   "outputs": [
    {
     "data": {
      "image/png": "[encoded data removed]",
      "text/plain": [
       "<Figure size 720x720 with 1 Axes>"
      ]
     },
     "metadata": {
      "needs_background": "light"
     },
     "output_type": "display_data"
    }
   ],
   "source": [
    "# Let's visualize the character embeddings we trained while they're 2 dimensional\n",
    "# C_2d = C  ##not a great way of saving this object but this is an experimental notebook\n",
    "\n",
    "plt.figure(figsize=(10, 10))\n",
    "plt.scatter(C_2d[:,0].data, C_2d[:,1].data, s=200)\n",
    "for i in range(C_2d.shape[0]):\n",
    "    plt.text(C_2d[i,0].item(), C_2d[i,1].item(), itos[i], ha=\"center\", va=\"center\", color=\"white\")\n",
    "plt.title(\"C when using 2d embedding\")\n",
    "plt.grid('minor')\n",
    "\n",
    "## Increasing the dimensionality could improve performance... go up and change it"
   ]
  },
  {
   "cell_type": "code",
   "execution_count": 57,
   "metadata": {},
   "outputs": [
    {
     "name": "stdout",
     "output_type": "stream",
     "text": [
      ".sir.\n",
      ".giely.\n",
      ".kir.\n",
      ".abyy.\n",
      ".meoelun.\n",
      ".rsziy.\n",
      ".nosolyn.\n",
      ".ren.\n",
      ".relyanser.\n",
      ".les.\n"
     ]
    }
   ],
   "source": [
    "# Sample from the model\n",
    "for _ in range(10):\n",
    "    out_word = \".\"\n",
    "    context = [0] * block_size ##initialize with all ...\n",
    "    while True:\n",
    "        emb = C[torch.tensor([context])] #(1,block_size,dim)\n",
    "        h = torch.tanh( emb.view(-1, block_size*emb_dim) @ W1 + b1 )   \n",
    "        logits = h @ W2 + b2\n",
    "        probs = F.softmax(logits, dim=1)\n",
    "        ix = torch.multinomial(probs, num_samples=1, generator=g).item()\n",
    "        context = context[1:] + [ix] ##shift and append\n",
    "        out_word += itos[ix]\n",
    "        if ix == 0:\n",
    "            break\n",
    "    print(out_word)"
   ]
  },
  {
   "cell_type": "markdown",
   "metadata": {},
   "source": [
    "# Video 3: MLP Activations & Gradients  \n",
    "Proper weight initialization is key for avoiding dead neurons and saturated neurons. Mathematically, proper initialization keeps weights gaussian and maintains a constant std. dev. throughout the network.  \n",
    "In practice, keep weights small and multiply by 1/sqrt(fan_in) where fan_in = number of inputs. (andrej says this is what he tends to do).  \n",
    "To follow Kaiming He initialization more closely, set the std deviation of weights to be gain / sqrt(fan_in), where gain depends on the type of activation function.  \n",
    "\n",
    "Could just use torch.nn.init.kaiming_normal_(nonlinearity='your_chosen_nonlin')  \n",
    "https://pytorch.org/docs/stable/nn.init.html  \n",
    "\n",
    "Interestingly, in this toy example I find that multiplying all weights and biases by a small coefficient (0.01) leads to better initialization, but Kaiming is probably more reliable at scale.  "
   ]
  },
  {
   "cell_type": "code",
   "execution_count": 180,
   "metadata": {},
   "outputs": [
    {
     "name": "stdout",
     "output_type": "stream",
     "text": [
      " n_samples = 212\n"
     ]
    }
   ],
   "source": [
    "# INITIALIZE DATA\n",
    "block_size = 3\n",
    "X, Y = make_data(words[:32], block_size)"
   ]
  },
  {
   "cell_type": "code",
   "execution_count": 181,
   "metadata": {},
   "outputs": [
    {
     "name": "stdout",
     "output_type": "stream",
     "text": [
      "Model params = 6097\n"
     ]
    }
   ],
   "source": [
    "def init_weights(emb_dim=10, layer1_neurons=100):\n",
    "    # INITIALIZE NN\n",
    "    g = torch.Generator().manual_seed(2147483647)\n",
    "    n_letters = len(stoi)\n",
    "\n",
    "    # torch.randn samples from normal dist. multiply by gain / sqrt(fan_in)\n",
    "    tanh_gain = 5/3\n",
    "    linear_gain = 1\n",
    "    C = torch.randn((n_letters, emb_dim), generator=g)\n",
    "    W1 = torch.randn((block_size*emb_dim, layer1_neurons), generator=g) * tanh_gain / (block_size*emb_dim)**0.5 #0.01\n",
    "    b1 = torch.randn(layer1_neurons, generator=g) * 0\n",
    "    W2 = torch.randn((layer1_neurons, n_letters), generator=g) * 0.01 #linear_gain / (layer1_neurons)**0.5\n",
    "    b2 = torch.randn(n_letters, generator=g) * 0\n",
    "\n",
    "    return C, W1, b1, W2, b2\n",
    "    \n",
    "C, W1, b1, W2, b2 = init_weights()\n",
    "parameters = [C, W1, b1, W2, b2]\n",
    "print(f\"Model params = { sum(p.nelement() for p in parameters) }\")\n",
    "\n",
    "for p in parameters:\n",
    "    p.requires_grad = True\n"
   ]
  },
  {
   "cell_type": "code",
   "execution_count": 182,
   "metadata": {},
   "outputs": [
    {
     "name": "stdout",
     "output_type": "stream",
     "text": [
      "ideal starting loss = 3.295836866004329\n"
     ]
    }
   ],
   "source": [
    "print(f\"ideal starting loss = {math.log(n_letters)}\")"
   ]
  },
  {
   "cell_type": "code",
   "execution_count": 183,
   "metadata": {},
   "outputs": [
    {
     "name": "stdout",
     "output_type": "stream",
     "text": [
      "3.3012444972991943\n"
     ]
    }
   ],
   "source": [
    "# Forward pass\n",
    "emb = C[X]\n",
    "h = torch.tanh( emb.view(-1, block_size*emb_dim) @ W1 + b1 )   \n",
    "logits = h @ W2 + b2\n",
    "loss = F.cross_entropy(logits, Y)\n",
    "\n",
    "# Backward pass\n",
    "for p in parameters:\n",
    "    p.grad = None\n",
    "loss.backward()\n",
    "\n",
    "# Update\n",
    "lr = 0.01 \n",
    "for p in parameters:\n",
    "    p.data += -lr * p.grad\n",
    "\n",
    "print(loss.item())\n"
   ]
  },
  {
   "cell_type": "code",
   "execution_count": 184,
   "metadata": {},
   "outputs": [
    {
     "data": {
      "image/png": "[encoded data removed]",
      "text/plain": [
       "<Figure size 1080x360 with 4 Axes>"
      ]
     },
     "metadata": {
      "needs_background": "light"
     },
     "output_type": "display_data"
    }
   ],
   "source": [
    "plt.figure(figsize=(15, 5))\n",
    "plt.subplot(221)\n",
    "plt.hist(W1.data.view(-1))\n",
    "plt.title(\"W1 weights\")\n",
    "plt.subplot(222)\n",
    "plt.hist(W1.grad.view(-1))\n",
    "plt.title(\"W1 gradient\")\n",
    "plt.subplot(223)\n",
    "plt.hist(W2.data.view(-1))\n",
    "plt.title(\"W2 weights\")\n",
    "plt.subplot(224)\n",
    "plt.hist(W2.grad.view(-1))\n",
    "plt.title(\"W2 gradient\")\n",
    "plt.show()"
   ]
  },
  {
   "cell_type": "code",
   "execution_count": 185,
   "metadata": {},
   "outputs": [
    {
     "data": {
      "image/png": "[encoded data removed]",
      "text/plain": [
       "<Figure size 1440x360 with 1 Axes>"
      ]
     },
     "metadata": {
      "needs_background": "light"
     },
     "output_type": "display_data"
    }
   ],
   "source": [
    "plt.figure(figsize=(20,5))\n",
    "plt.title(\"Looking for saturated neurons (lots of white) or dead neurons (an entire white column)\")\n",
    "plt.ylabel(f\"neurons ({layer1_neurons})\"); plt.xlabel(\"samples\")\n",
    "plt.imshow(h.T.abs() > 0.99, cmap='gray', interpolation=\"nearest\"); ##transposed for aesthetic convenience"
   ]
  },
  {
   "cell_type": "code",
   "execution_count": 186,
   "metadata": {},
   "outputs": [
    {
     "data": {
      "image/png": "[encoded data removed]",
      "text/plain": [
       "<Figure size 432x288 with 1 Axes>"
      ]
     },
     "metadata": {
      "needs_background": "light"
     },
     "output_type": "display_data"
    }
   ],
   "source": [
    "plt.hist(h.view(-1).tolist(), 50); ##saturated tanh neuron"
   ]
  },
  {
   "cell_type": "markdown",
   "metadata": {},
   "source": [
    "## Batch Norm  \n",
    "If we want unit gaussian weights throughout the NN (specifically in the hiden layers) we can just normalize them, since normalization is a differentiable process.  \n",
    "\n",
    "Input to a batchnorm for a single neuron:  \n",
    "- values of X over a minibatch, B.  \n",
    "    - note: these are the values being outputted from the layer before, so they are not the raw inputs (for example, in the first layer they are X@W + b)  \n",
    "- gamma (known as gain) and beta, params to be learned\n",
    "\n",
    "Steps:  \n",
    "- calculate the minibatch-mean and mini-batch variance (for each neuron in the layer)\n",
    "- normalize/standardize the input values: for each xi, xi_norm = (xi - mean) / sqrt(var + epsilon) - epsilon to avoid div by 0 error\n",
    "- scale and shift: scale the normalized inputs by gamma and shift by beta\n",
    "\n",
    "Output: yi = gamma * xi_norm + beta\n",
    "\n",
    "initialize the gain (gamma) with ones and bias (beta) with zeros. one for every neuron.  \n",
    "\n",
    "\n",
    "Post-training:  \n",
    "- we can calculate the batch norm mean and std dev for the entire training set and save those as set variables for run/test-time  \n",
    "- or estimare them in a running manner during training (more common)  \n",
    "\n",
    "Including a bias?  \n",
    "- We do not need to include a bias for a layer that is receiving BN. Consider that, if we add a bias, we are then cancelling it out in the BN phase when we normalize all the data.  "
   ]
  },
  {
   "cell_type": "code",
   "execution_count": 6,
   "metadata": {},
   "outputs": [
    {
     "name": "stdout",
     "output_type": "stream",
     "text": [
      " n_samples = 228146\n",
      "Train: 0.7999964934734775 Dev: 0.10000175326326124 Test: 0.10000175326326124\n",
      "torch.Size([228146, 3])\n"
     ]
    }
   ],
   "source": [
    "# MAKING DATA & SPLITTING\n",
    "block_size = 3\n",
    "X, Y = make_data(words, block_size)\n",
    "\n",
    "Xtr, Ytr, Xte, Yte = split_samples(X, Y, 0.8)\n",
    "Xdev, Ydev, Xte, Yte = split_samples(Xte, Yte, 0.5)\n",
    "\n",
    "print(\"Train:\", Xtr.shape[0]/X.shape[0], \n",
    "      \"Dev:\", Xdev.shape[0]/X.shape[0],\n",
    "      \"Test:\", Xte.shape[0]/X.shape[0])\n",
    "\n",
    "print(X.shape)"
   ]
  },
  {
   "cell_type": "code",
   "execution_count": 59,
   "metadata": {},
   "outputs": [
    {
     "name": "stdout",
     "output_type": "stream",
     "text": [
      "Model params = 6297\n"
     ]
    }
   ],
   "source": [
    "# INITIALIZE NN\n",
    "g = torch.Generator().manual_seed(2147483647)\n",
    "n_letters = len(stoi)\n",
    "\n",
    "\n",
    "layer1_neurons = 100\n",
    "emb_dim = 10\n",
    "\n",
    "# torch.randn samples from normal dist. multiply by gain / sqrt(fan_in)\n",
    "tanh_gain = 5/3\n",
    "linear_gain = 1\n",
    "C = torch.randn((n_letters, emb_dim), generator=g)\n",
    "W1 = torch.randn((block_size*emb_dim, layer1_neurons), generator=g) * tanh_gain / (block_size*emb_dim)**0.5 #0.01\n",
    "b1 = torch.randn(layer1_neurons, generator=g) * 0.01\n",
    "W2 = torch.randn((layer1_neurons, n_letters), generator=g) * 0.01 #linear_gain / (layer1_neurons)**0.5\n",
    "b2 = torch.randn(n_letters, generator=g) * 0.01\n",
    "\n",
    "bngain = torch.ones((1, layer1_neurons))\n",
    "bnbias = torch.zeros((1, layer1_neurons))\n",
    "\n",
    "bnmean_running = torch.zeros((1, layer1_neurons))\n",
    "bnstd_running = torch.zeros((1, layer1_neurons))\n",
    "    \n",
    "parameters = [C, W1, b1, W2, b2, bngain, bnbias]\n",
    "print(f\"Model params = { sum(p.nelement() for p in parameters) }\")\n",
    "\n",
    "for p in parameters:\n",
    "    p.requires_grad = True\n",
    "\n",
    "lossi = []"
   ]
  },
  {
   "cell_type": "code",
   "execution_count": 60,
   "metadata": {},
   "outputs": [
    {
     "name": "stdout",
     "output_type": "stream",
     "text": [
      "iter 1:\n",
      "before batch_norm - avg mean = -0.137224480509758, avg std dev = 1.5503087043762207\n",
      "after batch_norm - avg mean = -9.825452673695168e-10, avg std dev = 0.9999999403953552\n",
      "\n",
      "starting loss 3.2913782596588135\n",
      "2.2333595752716064 "
     ]
    }
   ],
   "source": [
    "# TRAIN\n",
    "batch_size = 64\n",
    "steps = 10_000\n",
    "use_batch_norm = True\n",
    "\n",
    "for p in parameters:\n",
    "    p.requires_grad = True\n",
    "\n",
    "for i in range(steps):\n",
    "    # Minibatch construct -----------------------------------------------------------------------------------\n",
    "    if batch_size is not None:\n",
    "        batch_ix = torch.randint(0, Xtr.shape[0], (batch_size, )) ##32 randints between 0 and length of data\n",
    "    else:\n",
    "        batch_ix=range(0,Xtr.shape[0])\n",
    "\n",
    "    # Forward pass \n",
    "    ## Embedding layer\n",
    "    emb = C[Xtr[batch_ix]] #character embeddings\n",
    "    embcat = emb.view(emb.shape[0], -1) #concatenated\n",
    "\n",
    "    ## Linear Layer -----------------------------------------------------------------------------------\n",
    "    hpreact = embcat @ W1 #no bias incase we use batch norm\n",
    "\n",
    "    ## BATCH NORM -----------------------------------------------------------------------------------\n",
    "    if use_batch_norm:\n",
    "        b1.requires_grad=False #since not using this bias\n",
    "        if i==0: #check mean, std dev before BN\n",
    "            with torch.no_grad():\n",
    "                print(f\"iter 1:\\nbefore batch_norm - avg mean = {hpreact.mean(0).mean().item()}, avg std dev = {hpreact.std(0).mean().item()}\")\n",
    "        \n",
    "        bnmeani = hpreact.mean(0, keepdim=True)\n",
    "        bnstdi = hpreact.std(0, keepdim=True)\n",
    "        # Batch norm (gain * normalized_hpreact + bias)\n",
    "        hpreact = bngain * (( hpreact - bnmeani) /  (bnstdi + 1e-7)) + bnbias\n",
    "        with torch.no_grad(): #update running bn means, stddevs\n",
    "            bnmean_running = 0.999 * bnmean_running + 0.001 * bnmeani\n",
    "            bnstd_running = 0.999 * bnstd_running + 0.001 * bnstdi\n",
    "\n",
    "        if i==0: \n",
    "            with torch.no_grad():\n",
    "                print(f\"after batch_norm - avg mean = {hpreact.mean(0).mean().item()}, avg std dev = {hpreact.std(0).mean().item()}\", end='\\n')\n",
    "    else:\n",
    "        # if no batch norm, add the bias\n",
    "        hpreact = hpreact + b1\n",
    "    \n",
    "    ## Nonlinearity -----------------------------------------------------------------------------------\n",
    "    h = torch.tanh(hpreact)    #apply tanh\n",
    "    logits = h @ W2 + b2       #calc logits\n",
    "\n",
    "    # LOSS\n",
    "    loss = F.cross_entropy(logits, Ytr[batch_ix]) #calc loss\n",
    "\n",
    "    # Backward pass -----------------------------------------------------------------------------------\n",
    "    for p in parameters:\n",
    "        p.grad = None ##zero gradient\n",
    "    loss.backward() ##backprop\n",
    "\n",
    "    ## Update\n",
    "    lr = 0.1 \n",
    "    for p in parameters:\n",
    "        if p.requires_grad==True:\n",
    "            p.data += -lr * p.grad\n",
    "\n",
    "    ## track stats\n",
    "    lossi.append(loss.item())\n",
    "\n",
    "    if i==0: print(\"\\nstarting loss\", loss.item()) ##print starting loss\n",
    "\n",
    "print(loss.item(), end=\" \")"
   ]
  },
  {
   "cell_type": "code",
   "execution_count": 56,
   "metadata": {},
   "outputs": [
    {
     "data": {
      "image/png": "[encoded data removed]",
      "text/plain": [
       "<Figure size 432x288 with 1 Axes>"
      ]
     },
     "metadata": {
      "needs_background": "light"
     },
     "output_type": "display_data"
    }
   ],
   "source": [
    "plt.plot(lossi);"
   ]
  },
  {
   "cell_type": "code",
   "execution_count": 57,
   "metadata": {},
   "outputs": [],
   "source": [
    "# calibrate batch norm stats - as a second stage\n",
    "with torch.no_grad():\n",
    "    # Forward pass the entire training set\n",
    "    emb = C[Xtr] #character embeddings\n",
    "    embcat = emb.view(emb.shape[0], -1) #concatenated\n",
    "    hpreact = embcat @ W1 + b1 #h pre-actiavtion    \n",
    "    # Batch norm stats\n",
    "    bnmean_final =  hpreact.mean(0, keepdim=True)\n",
    "    bnstd_final = hpreact.std(0, keepdim=True)    "
   ]
  },
  {
   "cell_type": "code",
   "execution_count": 58,
   "metadata": {},
   "outputs": [
    {
     "name": "stdout",
     "output_type": "stream",
     "text": [
      "train 2.413170337677002\n",
      "train 2.445697069168091\n"
     ]
    }
   ],
   "source": [
    "@torch.no_grad()\n",
    "def split_loss(split, bnmean, bnstd):\n",
    "    \"\"\"Evalute model on desired split: train, val, or test\"\"\"\n",
    "    x,y = {\n",
    "        \"train\":(Xtr,Ytr),\n",
    "        \"val\":(Xdev,Ydev),\n",
    "        \"test\":(Xte, Yte)\n",
    "    }[split]\n",
    "    # Forward pass\n",
    "    emb = C[x] #character embeddings\n",
    "    embcat = emb.view(emb.shape[0], -1) #concatenated\n",
    "    hpreact = embcat @ W1 + b1 #h pre-actiavtion\n",
    "    # Batch norm (gain * normalized_hpreact + bias)\n",
    "    hpreact = bngain * ( hpreact - bnmean ) / bnstd + bnbias\n",
    "    h = torch.tanh(hpreact)    #apply tanh\n",
    "    logits = h @ W2 + b2       #calc logits\n",
    "    loss = F.cross_entropy(logits, y) #calc loss\n",
    "    print(split, loss.item())\n",
    "    # return loss\n",
    "\n",
    "\n",
    "split_loss(\"train\", bnmean_final, bnstd_final)     ##with post-training bn stats\n",
    "split_loss(\"train\", bnmean_running, bnstd_running) ##with running bn stats"
   ]
  },
  {
   "cell_type": "code",
   "execution_count": null,
   "metadata": {},
   "outputs": [],
   "source": [
    "# Sample from the model\n",
    "for _ in range(10):\n",
    "    out_word = \".\"\n",
    "    context = [0] * block_size ##initialize with all ...\n",
    "    while True:\n",
    "        emb = C[torch.tensor([context])] #(1,block_size,dim)\n",
    "        h = torch.tanh( emb.view(-1, block_size*emb_dim) @ W1 + b1 )   \n",
    "        logits = h @ W2 + b2\n",
    "        probs = F.softmax(logits, dim=1)\n",
    "        ix = torch.multinomial(probs, num_samples=1, generator=g).item()\n",
    "        context = context[1:] + [ix] ##shift and append\n",
    "        out_word += itos[ix]\n",
    "        if ix == 0:\n",
    "            break\n",
    "    print(out_word)"
   ]
  }
 ],
 "metadata": {
  "kernelspec": {
   "display_name": "Python 3.10.4 ('.venv': venv)",
   "language": "python",
   "name": "python3"
  },
  "language_info": {
   "codemirror_mode": {
    "name": "ipython",
    "version": 3
   },
   "file_extension": ".py",
   "mimetype": "text/x-python",
   "name": "python",
   "nbconvert_exporter": "python",
   "pygments_lexer": "ipython3",
   "version": "3.10.4"
  },
  "orig_nbformat": 4,
  "vscode": {
   "interpreter": {
    "hash": "5c4359ed68c894e31dfa741bacd50703ee9ca4c289f19062f47d11ef9a0ee7ac"
   }
  }
 },
 "nbformat": 4,
 "nbformat_minor": 2
}

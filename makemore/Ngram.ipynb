{
 "cells": [
  {
   "cell_type": "markdown",
   "metadata": {},
   "source": [
    "# N-Gram Models\n",
    "Based on makemore part 1: https://www.youtube.com/watch?v=PaCmpygFfXo&ab_channel=AndrejKarpathy\n",
    "\n",
    "### Dependencies & Data"
   ]
  },
  {
   "cell_type": "code",
   "execution_count": 2,
   "metadata": {},
   "outputs": [],
   "source": [
    "# MAKEMORE TUTORIAL\n",
    "import torch\n",
    "import torch.nn.functional as F\n",
    "import matplotlib.pyplot as plt\n",
    "%matplotlib inline\n",
    "\n",
    "import numpy as np\n",
    "import random\n",
    "from prettytable import PrettyTable"
   ]
  },
  {
   "cell_type": "code",
   "execution_count": 3,
   "metadata": {},
   "outputs": [
    {
     "name": "stdout",
     "output_type": "stream",
     "text": [
      "['emma', 'olivia', 'ava', 'isabella', 'sophia', 'charlotte', 'mia', 'amelia', 'harper', 'evelyn']\n",
      "length 32033\n"
     ]
    }
   ],
   "source": [
    "# DATA \n",
    "words = open('./makemore_data/names.txt', 'r').read().splitlines()\n",
    "\n",
    "print(words[:10])\n",
    "print(f\"length {len(words)}\")"
   ]
  },
  {
   "cell_type": "code",
   "execution_count": 4,
   "metadata": {},
   "outputs": [],
   "source": [
    "chars = sorted(list(set(''.join(words)))) \n",
    "stoi = {s:i+1 for i, s in enumerate(chars)} ##create dictionary mapping from char to int\n",
    "stoi['.'] = 0 ##just one special character for start and end of word\n",
    "itos = {i:s for s, i in stoi.items()}"
   ]
  },
  {
   "cell_type": "code",
   "execution_count": 7,
   "metadata": {},
   "outputs": [
    {
     "data": {
      "image/png": "[encoded data removed]",
      "text/plain": [
       "<Figure size 432x288 with 1 Axes>"
      ]
     },
     "metadata": {
      "needs_background": "light"
     },
     "output_type": "display_data"
    }
   ],
   "source": [
    "corpus = ''.join(words)\n",
    "count_letters = dict()\n",
    "\n",
    "for c in chars:\n",
    "    count_letters[c] = corpus.count(c)\n",
    "\n",
    "plt.bar(range(len(count_letters)), list(count_letters.values()), align='center')\n",
    "plt.xticks(range(len(count_letters)), list(count_letters.keys()))\n",
    "plt.title(\"Character Histogram\")\n",
    "plt.show()"
   ]
  },
  {
   "cell_type": "markdown",
   "metadata": {},
   "source": [
    "# N-Gram model & training pipeline"
   ]
  },
  {
   "cell_type": "code",
   "execution_count": 8,
   "metadata": {},
   "outputs": [],
   "source": [
    "def create_Ngram_data(words, n):\n",
    "    \"\"\"\n",
    "    Takes words list and breaks into training samples based on the desired model-type. For example,\n",
    "    a bigram model where n=2 or a trigram model where n=3. \n",
    "    Returns xs and ys (inputs and labels).\n",
    "    \"\"\"\n",
    "    alph = ['a','b','c','d','e','f','g','h','i','j','k','l','m','n','o','p','q','r','s','t','u','v','w','x','y','z']\n",
    "    stoi = {s:i+1 for i, s in enumerate(alph)} ##create dictionary mapping from char to int\n",
    "    stoi['.'] = 0 ##just one special character for start and end of word\n",
    "\n",
    "    xs = []\n",
    "    ys = []\n",
    "    for w in words:\n",
    "        chs = ['.'] + list(w) + ['.']  ##special start and end characters\n",
    "        if len(chs) < n:\n",
    "            fill = n - len(chs)\n",
    "            chs = chs + list('.' for _ in range(fill))\n",
    "        for name_list in zip(chs[i : i+n] for i in range(len(chs)-(n-1))):\n",
    "            for s in range(len(name_list)):\n",
    "                sample = name_list[s]\n",
    "                temp_x = []\n",
    "                for cix in range(len(sample)):\n",
    "                    if cix==len(sample)-1:\n",
    "                        ys.append(stoi[sample[cix]])\n",
    "                    else:\n",
    "                        temp_x.append(stoi[sample[cix]])\n",
    "                xs.append(temp_x)\n",
    "    xs = torch.tensor(xs)\n",
    "    ys = torch.tensor(ys)\n",
    "    n_samples = xs.shape[0]\n",
    "    print(f\"number of samples: {n_samples}\")\n",
    "\n",
    "    return xs, ys\n",
    "\n",
    "\n",
    "def split_samples(inputs, labels, frac=0.8, seed=123):\n",
    "    \"Split xs and ys (inputs and labels) into train and test sets\"\n",
    "    \n",
    "    assert len(inputs)==len(labels), f\"{len(inputs) = } which does not match {len(labels) = }\"\n",
    "    # generate a list of indices to exclude. Turn in into a set for O(1) lookup time\n",
    "    random.seed(seed)\n",
    "    indx = list(set(random.sample(list(range(len(inputs))), int(frac*len(inputs)))))\n",
    "\n",
    "    x_mask = torch.zeros((len(inputs)), dtype=torch.bool) #False\n",
    "    x_mask[indx] = True\n",
    "\n",
    "    y_mask = torch.zeros((len(inputs)), dtype=torch.bool) #False\n",
    "    y_mask[indx] = True\n",
    "\n",
    "    train_x = inputs[x_mask]\n",
    "    train_y = labels[y_mask]\n",
    "\n",
    "    test_x = inputs[~x_mask]\n",
    "    test_y = labels[~y_mask]\n",
    "\n",
    "    return train_x, train_y, test_x, test_y"
   ]
  },
  {
   "cell_type": "code",
   "execution_count": 25,
   "metadata": {},
   "outputs": [],
   "source": [
    "class Ngram:\n",
    "    \"An instance of an N-gram model where 'n' defines the number of characters used in the process.\"\n",
    "    def __init__(self, n):\n",
    "\n",
    "        self.n_inputs = n-1 ##the number of inputs (ie, excluding the label)\n",
    "\n",
    "        alph = ['a','b','c','d','e','f','g','h','i','j','k','l','m','n','o','p','q','r','s','t','u','v','w','x','y','z']\n",
    "        self.stoi = {s:i+1 for i, s in enumerate(alph)} ##create dictionary mapping from char to int\n",
    "        self.stoi['.'] = 0 ##just one special character for start and end of word\n",
    "        self.itos = {i:s for s, i in self.stoi.items()}\n",
    "\n",
    "    def initialize_weights(self, generator, first_letter_neurons=False, xs=None):\n",
    "        \"Randomly initialize the model's weights.\"\n",
    "        self.first_letter_neurons = first_letter_neurons\n",
    "\n",
    "        # INITALIZE NETWORK WEIGHTS\n",
    "        n_inputs = self.n_inputs\n",
    "        if xs is not None:\n",
    "            assert n_inputs == xs.shape[1], f\"n_inputs ({n_inputs}) does not match the xs.shape[1]\"\n",
    "\n",
    "        W_list = []\n",
    "        for _ in range(n_inputs):\n",
    "            W_list.append(torch.randn(size=(27, 27), generator=generator, requires_grad=True))\n",
    "\n",
    "        if first_letter_neurons:\n",
    "            W_list.append(torch.randn(size=(27, 1), generator=generator, requires_grad=True))\n",
    "            # kind of like adding bias but only for the first character..?\n",
    "        self.W_list = W_list\n",
    "    \n",
    "\n",
    "    def forward_pass(self, xs, ys=None, regularization=0):\n",
    "        \"Perform a forward pass of the inputs (xs) through the network. If ys are provided, loss will be evaluated.\"\n",
    "        # forward pass\n",
    "        n_samples = xs.shape[0]\n",
    "        n_inputs = self.n_inputs\n",
    "        W_list = self.W_list\n",
    "\n",
    "        ## calculate logits\n",
    "        logits = torch.zeros((n_samples, 27))\n",
    "        for ix in range(n_inputs):\n",
    "            Wi = W_list[ix]\n",
    "            xi_enc = F.one_hot(xs[:, ix], num_classes=27).float()\n",
    "            logits += (xi_enc @ Wi)\n",
    "        if self.first_letter_neurons: ##if including weights on first letter neuron, they are the last in W list\n",
    "            x1_enc = F.one_hot(xs[:, 0], num_classes=27).float()\n",
    "            logits += (x1_enc @ W_list[-1]) \n",
    "\n",
    "        ##Softmax\n",
    "        counts = logits.exp()\n",
    "        probs = counts / counts.sum(1, keepdims=True)\n",
    "        self.probs = probs\n",
    "\n",
    "        ##loss\n",
    "        if ys is not None:\n",
    "            loss = -probs[torch.arange(n_samples), ys].log().mean()\n",
    "            for W in W_list:\n",
    "                loss += regularization*(W**2).mean()\n",
    "            self.loss = loss\n",
    "        \n",
    "            return probs, loss\n",
    "        else:\n",
    "             return probs\n",
    "                \n",
    "\n",
    "    def backprop_update(self, lr=0.1):\n",
    "        \"Gradient descent - backpropogate the network and apply a fraction of the gradients to the current weights.\"\n",
    "        # backward pass\n",
    "        for W in self.W_list:\n",
    "            W.grad = None\n",
    "        self.loss.backward()\n",
    "\n",
    "        # update params\n",
    "        for W in self.W_list:\n",
    "            W.data += -lr * W.grad ##learning rate\n",
    "\n",
    "\n",
    "    def generate_words(self, n_words, start_chrs: str = None, min_length=0):\n",
    "        \"\"\"\n",
    "        Generates n_words word examples by passing n-1 random characters into the model, performing a forward pass,\n",
    "        and probabilistically choosing a character using the model's predicted probability distribution.\n",
    "        Pass n-2 start_chrs to specify the starting characters of the word generation process (first character is always '.').\n",
    "        Specify a minimum word length min_length to generate words at least that long.\n",
    "        \"\"\"\n",
    "        itos = self.itos\n",
    "        stoi = self.stoi\n",
    "        \n",
    "        n_inputs = self.n_inputs\n",
    "        out_words = []\n",
    "\n",
    "        for _ in range(n_words):\n",
    "            ixlist = [0] \n",
    "            word = '.'\n",
    "            if start_chrs is not None:\n",
    "                assert len(start_chrs) == n_inputs-1, f\"len(start) ({len(start_chrs)}) should be {n_inputs - 1 = }\"\n",
    "                for s in start_chrs:\n",
    "                    word += s\n",
    "                    ixlist.append(stoi[s])\n",
    "            else:\n",
    "                for ix in range(n_inputs-1):\n",
    "                    ch_int = torch.randint(1, 26, (1,1), generator=g).item()\n",
    "                    word += itos[ch_int]\n",
    "                    ixlist.append(ch_int)\n",
    "\n",
    "            while True:\n",
    "                # forward pass\n",
    "                probs = self.forward_pass(\n",
    "                    torch.tensor(ixlist).reshape(1, n_inputs)\n",
    "                    )\n",
    "                # Get character\n",
    "                char_ix = torch.multinomial(probs, num_samples=1, replacement=True, generator=g).item()\n",
    "                # determine how to proceed\n",
    "                if (char_ix==0) & (len(word) <= min_length): ##if the ix is 0 but the word is too short, resample\n",
    "                    pass\n",
    "                elif (char_ix==0) & (len(word) > min_length):##if the ix is 0 and word is long enough, end word and break word creation\n",
    "                    word += '.' #itos[char_ix]\n",
    "                    break\n",
    "                else:                                        ##otherwise, add to the word and shift the char indices for next forward pass\n",
    "                    word += itos[char_ix]\n",
    "                    ##Shift characters to predict the next one\n",
    "                    for i in range(n_inputs):\n",
    "                        ixlist.pop(0) ##drop first char\n",
    "                        ixlist.append(char_ix) ##append new char to end of list\n",
    "            out_words.append(word)    \n",
    "        \n",
    "        return out_words"
   ]
  },
  {
   "cell_type": "markdown",
   "metadata": {},
   "source": [
    "# Compare Bigram and Trigram Models"
   ]
  },
  {
   "cell_type": "code",
   "execution_count": 10,
   "metadata": {},
   "outputs": [
    {
     "name": "stdout",
     "output_type": "stream",
     "text": [
      "number of samples: 228146\n",
      "number of samples: 196113\n"
     ]
    }
   ],
   "source": [
    "# Create data (for bigram and trigram models)\n",
    "bi_x, bi_y  = create_Ngram_data(words[:], 2)\n",
    "tri_x, tri_y = create_Ngram_data(words[:], 3)"
   ]
  },
  {
   "cell_type": "code",
   "execution_count": 11,
   "metadata": {},
   "outputs": [
    {
     "name": "stdout",
     "output_type": "stream",
     "text": [
      "TRAIN SPLIT: train_bix.shape[0] / bi_x.shape[0] = 0.7999964934734775\n",
      "VALID SPLIT: valid_bix.shape[0] / bi_x.shape[0] = 0.10000175326326124\n",
      "TEST SPLIT: test_bix.shape[0] / bi_x.shape[0] = 0.10000175326326124\n"
     ]
    }
   ],
   "source": [
    "# Split bigram data into train, valid, test\n",
    "train_bix, train_biy, test_bix, test_biy = split_samples(bi_x, bi_y, 0.8)\n",
    "valid_bix, valid_biy, test_bix, test_biy = split_samples(test_bix, test_biy, 0.5)\n",
    "\n",
    "print(f\"TRAIN SPLIT: {train_bix.shape[0] / bi_x.shape[0] = }\")\n",
    "print(f\"VALID SPLIT: {valid_bix.shape[0] / bi_x.shape[0] = }\")\n",
    "print(f\"TEST SPLIT: {test_bix.shape[0] / bi_x.shape[0] = }\")"
   ]
  },
  {
   "cell_type": "code",
   "execution_count": 12,
   "metadata": {},
   "outputs": [
    {
     "name": "stdout",
     "output_type": "stream",
     "text": [
      "TRAIN SPLIT: train_trix.shape[0] / tri_x.shape[0] = 0.7999979603595886\n",
      "VALID SPLIT: valid_trix.shape[0] / tri_x.shape[0] = 0.09999847026969146\n",
      "TEST SPLIT: test_trix.shape[0] / tri_x.shape[0] = 0.10000356937071994\n"
     ]
    }
   ],
   "source": [
    "# Split trigram data into train, valid, test\n",
    "train_trix, train_triy, test_trix, test_triy = split_samples(tri_x, tri_y, 0.8)\n",
    "valid_trix, valid_triy, test_trix, test_triy = split_samples(test_trix, test_triy, 0.5)\n",
    "\n",
    "print(f\"TRAIN SPLIT: {train_trix.shape[0] / tri_x.shape[0] = }\")\n",
    "print(f\"VALID SPLIT: {valid_trix.shape[0] / tri_x.shape[0] = }\")\n",
    "print(f\"TEST SPLIT: {test_trix.shape[0] / tri_x.shape[0] = }\")"
   ]
  },
  {
   "cell_type": "code",
   "execution_count": 26,
   "metadata": {},
   "outputs": [],
   "source": [
    "# INITIATE MODELS\n",
    "g = torch.Generator().manual_seed(2147483647)\n",
    "\n",
    "bigram = Ngram(2)\n",
    "bigram.initialize_weights(generator=g, first_letter_neurons=True)\n",
    "\n",
    "trigram = Ngram(3)\n",
    "trigram.initialize_weights(generator=g, first_letter_neurons=True)\n",
    "\n",
    "\n",
    "bi_losses, tri_losses, bi_val, tri_val = [], [], [], [] ##to store training updates"
   ]
  },
  {
   "cell_type": "code",
   "execution_count": 83,
   "metadata": {},
   "outputs": [
    {
     "name": "stdout",
     "output_type": "stream",
     "text": [
      "losses:\n",
      "Epoch 0: BI 2.46791 TRI 2.38588 | Epoch 1: BI 2.46771 TRI 2.39863 | Epoch 2: BI 2.46752 TRI 2.38539 | Epoch 3: BI 2.46733 TRI 2.3981 | Epoch 4: BI 2.46714 TRI 2.3848 | Epoch 5: BI 2.46696 TRI 2.39752 | Epoch 6: BI 2.46679 TRI 2.38434 | Epoch 7: BI 2.46662 TRI 2.39703 | Epoch 8: BI 2.46645 TRI 2.38381 | Epoch 9: BI 2.46629 TRI 2.39652 | "
     ]
    }
   ],
   "source": [
    "# TRAIN\n",
    "epochs = 10\n",
    "\n",
    "print(\"losses:\")\n",
    "for k in range(epochs): #epochs\n",
    "    \n",
    "    # forward pass\n",
    "    _, bi_loss = bigram.forward_pass(train_bix, train_biy) ##BIGRAM\n",
    "    _, tri_loss = trigram.forward_pass(train_trix, train_triy) ##TRIGRAM\n",
    "    bi_losses.append(bi_loss.item())\n",
    "    tri_losses.append(tri_loss.item())\n",
    "\n",
    "    # backward pass    \n",
    "    bigram.backprop_update(lr=75) ##BIGRAM\n",
    "    trigram.backprop_update(lr=75) ##TRIGRAM\n",
    "\n",
    "    # validation eval\n",
    "    _, bi_valloss = bigram.forward_pass(valid_bix, valid_biy, regularization=0) ##BIGRAM\n",
    "    _, tri_valloss = trigram.forward_pass(valid_trix, valid_triy, regularization=0) ##TRIGRAM\n",
    "    bi_val.append(bi_valloss.item())\n",
    "    tri_val.append(tri_valloss.item())\n",
    "\n",
    "\n",
    "    # log updates\n",
    "    if (k in range(0, epochs, int(epochs*0.10))) or (k==epochs-1):\n",
    "        print(f\"Epoch {k}:\", end=\" \")\n",
    "        print(f\"BI {round(bi_loss.item(), 5)}\", end=\" \")\n",
    "        print(f\"TRI {round(tri_loss.item(), 5)}\", end=\" | \")"
   ]
  },
  {
   "cell_type": "code",
   "execution_count": 84,
   "metadata": {},
   "outputs": [
    {
     "data": {
      "image/png": "[encoded data removed]",
      "text/plain": [
       "<Figure size 1440x360 with 2 Axes>"
      ]
     },
     "metadata": {
      "needs_background": "light"
     },
     "output_type": "display_data"
    }
   ],
   "source": [
    "# plot fit history\n",
    "fig, ax = plt.subplots(nrows=1, ncols=2, figsize=(20, 5))\n",
    "ax[0].plot(bi_losses, label= 'bigram')\n",
    "ax[0].plot(tri_losses, label= 'trigram')\n",
    "ax[0].set_title(\"Training\")\n",
    "ax[0].legend()\n",
    "\n",
    "ax[1].plot(bi_val, label = 'bigram')\n",
    "ax[1].plot(tri_val, label = 'trigram')\n",
    "ax[1].set_title(\"Validation\")\n",
    "ax[1].legend()\n",
    "\n",
    "plt.show()"
   ]
  },
  {
   "cell_type": "markdown",
   "metadata": {},
   "source": [
    "## Generate some names"
   ]
  },
  {
   "cell_type": "code",
   "execution_count": 85,
   "metadata": {},
   "outputs": [
    {
     "data": {
      "text/html": [
       "<table>\n",
       "    <thead>\n",
       "        <tr>\n",
       "            <th>Bigram Words</th>\n",
       "            <th>Trigram Words</th>\n",
       "        </tr>\n",
       "    </thead>\n",
       "    <tbody>\n",
       "        <tr>\n",
       "            <td>.mie.</td>\n",
       "            <td>.xzrimiviselenan.</td>\n",
       "        </tr>\n",
       "        <tr>\n",
       "            <td>.h.</td>\n",
       "            <td>.han.</td>\n",
       "        </tr>\n",
       "        <tr>\n",
       "            <td>.ebeodha.</td>\n",
       "            <td>.malicaiaunezadelahanwinenalaslit.</td>\n",
       "        </tr>\n",
       "        <tr>\n",
       "            <td>.dde.</td>\n",
       "            <td>.yaiek.</td>\n",
       "        </tr>\n",
       "        <tr>\n",
       "            <td>.weyauka.</td>\n",
       "            <td>.broas.</td>\n",
       "        </tr>\n",
       "        <tr>\n",
       "            <td>.rrylariamaninialiana.</td>\n",
       "            <td>.malyonamafwyn.</td>\n",
       "        </tr>\n",
       "        <tr>\n",
       "            <td>.zayna.</td>\n",
       "            <td>.qucelynonise.</td>\n",
       "        </tr>\n",
       "        <tr>\n",
       "            <td>.bdanely.</td>\n",
       "            <td>.qu.</td>\n",
       "        </tr>\n",
       "        <tr>\n",
       "            <td>.ash.</td>\n",
       "            <td>.yaderine.</td>\n",
       "        </tr>\n",
       "        <tr>\n",
       "            <td>.ai.</td>\n",
       "            <td>.uaselindigr.</td>\n",
       "        </tr>\n",
       "    </tbody>\n",
       "</table>"
      ],
      "text/plain": [
       "+------------------------+------------------------------------+\n",
       "|      Bigram Words      |           Trigram Words            |\n",
       "+------------------------+------------------------------------+\n",
       "|         .mie.          |         .xzrimiviselenan.          |\n",
       "|          .h.           |               .han.                |\n",
       "|       .ebeodha.        | .malicaiaunezadelahanwinenalaslit. |\n",
       "|         .dde.          |              .yaiek.               |\n",
       "|       .weyauka.        |              .broas.               |\n",
       "| .rrylariamaninialiana. |          .malyonamafwyn.           |\n",
       "|        .zayna.         |           .qucelynonise.           |\n",
       "|       .bdanely.        |                .qu.                |\n",
       "|         .ash.          |             .yaderine.             |\n",
       "|          .ai.          |           .uaselindigr.            |\n",
       "+------------------------+------------------------------------+"
      ]
     },
     "execution_count": 85,
     "metadata": {},
     "output_type": "execute_result"
    }
   ],
   "source": [
    "# GENERATE NAMES\n",
    "bi_words = bigram.generate_words(10, min_length=0)\n",
    "tri_words = trigram.generate_words(10, min_length=0)\n",
    "\n",
    "t = PrettyTable([\"Bigram Words\", \"Trigram Words\"])\n",
    "for i in range(len(bi_words)):\n",
    "    t.add_row([bi_words[i], tri_words[i]])\n",
    "\n",
    "t"
   ]
  },
  {
   "cell_type": "markdown",
   "metadata": {},
   "source": [
    "## Some ideas for exploring the test performance"
   ]
  },
  {
   "cell_type": "code",
   "execution_count": 78,
   "metadata": {},
   "outputs": [
    {
     "data": {
      "text/html": [
       "<table>\n",
       "    <thead>\n",
       "        <tr>\n",
       "            <th>input</th>\n",
       "            <th>prediction</th>\n",
       "            <th>% confidence given to pred</th>\n",
       "            <th>truth</th>\n",
       "            <th>% confidence given to truth</th>\n",
       "            <th>loss</th>\n",
       "        </tr>\n",
       "    </thead>\n",
       "    <tbody>\n",
       "        <tr>\n",
       "            <td>[&#x27;.&#x27;, &#x27;e&#x27;]</td>\n",
       "            <td>a</td>\n",
       "            <td>13.751</td>\n",
       "            <td>m</td>\n",
       "            <td>7.933</td>\n",
       "            <td>2.5341</td>\n",
       "        </tr>\n",
       "        <tr>\n",
       "            <td>[&#x27;b&#x27;, &#x27;e&#x27;]</td>\n",
       "            <td>r</td>\n",
       "            <td>32.393</td>\n",
       "            <td>l</td>\n",
       "            <td>3.206</td>\n",
       "            <td>3.4401</td>\n",
       "        </tr>\n",
       "        <tr>\n",
       "            <td>[&#x27;e&#x27;, &#x27;l&#x27;]</td>\n",
       "            <td>.</td>\n",
       "            <td>19.555</td>\n",
       "            <td>l</td>\n",
       "            <td>16.07</td>\n",
       "            <td>1.8282</td>\n",
       "        </tr>\n",
       "        <tr>\n",
       "            <td>[&#x27;p&#x27;, &#x27;h&#x27;]</td>\n",
       "            <td>a</td>\n",
       "            <td>18.395</td>\n",
       "            <td>i</td>\n",
       "            <td>3.521</td>\n",
       "            <td>3.3463</td>\n",
       "        </tr>\n",
       "        <tr>\n",
       "            <td>[&#x27;i&#x27;, &#x27;a&#x27;]</td>\n",
       "            <td>.</td>\n",
       "            <td>14.087</td>\n",
       "            <td>.</td>\n",
       "            <td>14.087</td>\n",
       "            <td>1.9599</td>\n",
       "        </tr>\n",
       "        <tr>\n",
       "            <td>[&#x27;t&#x27;, &#x27;e&#x27;]</td>\n",
       "            <td>a</td>\n",
       "            <td>18.408</td>\n",
       "            <td>.</td>\n",
       "            <td>8.548</td>\n",
       "            <td>2.4595</td>\n",
       "        </tr>\n",
       "        <tr>\n",
       "            <td>[&#x27;.&#x27;, &#x27;h&#x27;]</td>\n",
       "            <td>a</td>\n",
       "            <td>13.751</td>\n",
       "            <td>a</td>\n",
       "            <td>13.751</td>\n",
       "            <td>1.9841</td>\n",
       "        </tr>\n",
       "        <tr>\n",
       "            <td>[&#x27;a&#x27;, &#x27;r&#x27;]</td>\n",
       "            <td>.</td>\n",
       "            <td>19.678</td>\n",
       "            <td>p</td>\n",
       "            <td>0.254</td>\n",
       "            <td>5.9773</td>\n",
       "        </tr>\n",
       "        <tr>\n",
       "            <td>[&#x27;r&#x27;, &#x27;p&#x27;]</td>\n",
       "            <td>i</td>\n",
       "            <td>23.448</td>\n",
       "            <td>e</td>\n",
       "            <td>13.624</td>\n",
       "            <td>1.9934</td>\n",
       "        </tr>\n",
       "        <tr>\n",
       "            <td>[&#x27;e&#x27;, &#x27;l&#x27;]</td>\n",
       "            <td>.</td>\n",
       "            <td>19.555</td>\n",
       "            <td>y</td>\n",
       "            <td>5.0</td>\n",
       "            <td>2.9958</td>\n",
       "        </tr>\n",
       "    </tbody>\n",
       "</table>"
      ],
      "text/plain": [
       "+------------+------------+----------------------------+-------+-----------------------------+--------+\n",
       "|   input    | prediction | % confidence given to pred | truth | % confidence given to truth |  loss  |\n",
       "+------------+------------+----------------------------+-------+-----------------------------+--------+\n",
       "| ['.', 'e'] |     a      |           13.751           |   m   |            7.933            | 2.5341 |\n",
       "| ['b', 'e'] |     r      |           32.393           |   l   |            3.206            | 3.4401 |\n",
       "| ['e', 'l'] |     .      |           19.555           |   l   |            16.07            | 1.8282 |\n",
       "| ['p', 'h'] |     a      |           18.395           |   i   |            3.521            | 3.3463 |\n",
       "| ['i', 'a'] |     .      |           14.087           |   .   |            14.087           | 1.9599 |\n",
       "| ['t', 'e'] |     a      |           18.408           |   .   |            8.548            | 2.4595 |\n",
       "| ['.', 'h'] |     a      |           13.751           |   a   |            13.751           | 1.9841 |\n",
       "| ['a', 'r'] |     .      |           19.678           |   p   |            0.254            | 5.9773 |\n",
       "| ['r', 'p'] |     i      |           23.448           |   e   |            13.624           | 1.9934 |\n",
       "| ['e', 'l'] |     .      |           19.555           |   y   |             5.0             | 2.9958 |\n",
       "+------------+------------+----------------------------+-------+-----------------------------+--------+"
      ]
     },
     "execution_count": 78,
     "metadata": {},
     "output_type": "execute_result"
    }
   ],
   "source": [
    "# Look at random characters and what the model would have predicted\n",
    "samples = 10\n",
    "t = PrettyTable(['input', 'prediction', '% confidence given to pred', 'truth',  '% confidence given to truth', 'loss'])\n",
    "for sample, label in zip(test_trix[:samples], test_triy[:samples]):\n",
    "    probs, loss = bigram.forward_pass(sample.reshape(1, 2), label) ##reshape to (1, 1) for bigram\n",
    "    pred = torch.argmax(probs)\n",
    "    pred_prob = probs[0][pred.item()].item()\n",
    "    truth_prob = probs[0][label.item()].item()\n",
    "\n",
    "    t.add_row([\n",
    "    [itos[s.item()] for s in sample],\n",
    "    itos[pred.item()],\n",
    "    round(pred_prob*100, 3),\n",
    "    itos[label.item()],\n",
    "    round(truth_prob*100, 3),\n",
    "    round(loss.item(), 4)\n",
    "    ])\n",
    "\n",
    "t"
   ]
  },
  {
   "cell_type": "code",
   "execution_count": 79,
   "metadata": {},
   "outputs": [],
   "source": [
    "# Bigram - Measure the test accuracy of predictions following each character & plot\n",
    "char_acc = dict()\n",
    "n_preds = dict()\n",
    "for l in list(stoi.values())[:]:\n",
    "    tot_samples = 0\n",
    "    correct = 0\n",
    "    n_preds[itos[l]] = 0\n",
    "    inds = torch.where(test_bix == l)[0]\n",
    "    for sample, label in zip(test_bix[inds], test_biy[inds]):\n",
    "        tot_samples += 1\n",
    "        probs, loss = bigram.forward_pass(sample.reshape(1, 1), label)\n",
    "        pred = torch.argmax(probs)\n",
    "        n_preds[itos[l]] += 1\n",
    "        if pred.item() == label.item(): correct += 1\n",
    "\n",
    "    char_acc[itos[l]] = correct/tot_samples"
   ]
  },
  {
   "cell_type": "code",
   "execution_count": 80,
   "metadata": {},
   "outputs": [
    {
     "data": {
      "image/png": "[encoded data removed]",
      "text/plain": [
       "<Figure size 432x288 with 1 Axes>"
      ]
     },
     "metadata": {
      "needs_background": "light"
     },
     "output_type": "display_data"
    }
   ],
   "source": [
    "plt.bar(range(len(char_acc)), list(char_acc.values()), align='center')\n",
    "plt.xticks(range(len(char_acc)), list(char_acc.keys()))\n",
    "plt.title(\"Accuracy\")\n",
    "plt.show()"
   ]
  },
  {
   "cell_type": "code",
   "execution_count": 82,
   "metadata": {},
   "outputs": [
    {
     "data": {
      "image/png": "[encoded data removed]",
      "text/plain": [
       "<Figure size 432x288 with 1 Axes>"
      ]
     },
     "metadata": {
      "needs_background": "light"
     },
     "output_type": "display_data"
    }
   ],
   "source": [
    "plt.bar(range(len(n_preds)), list(n_preds.values()), align='center')\n",
    "plt.xticks(range(len(n_preds)), list(n_preds.keys()))\n",
    "plt.title(\"Number of Predictions\")\n",
    "plt.show()"
   ]
  },
  {
   "cell_type": "markdown",
   "metadata": {},
   "source": [
    "## Increasing n"
   ]
  },
  {
   "cell_type": "code",
   "execution_count": 110,
   "metadata": {},
   "outputs": [
    {
     "name": "stdout",
     "output_type": "stream",
     "text": [
      "number of samples: 164080\n"
     ]
    }
   ],
   "source": [
    "N = 4\n",
    "\n",
    "xs, ys  = create_Ngram_data(words[:], N)\n",
    "\n",
    "g = torch.Generator().manual_seed(2147483647)\n",
    "ngram = Ngram(N)\n",
    "ngram.initialize_weights(generator=g, first_letter_neurons=True)"
   ]
  },
  {
   "cell_type": "code",
   "execution_count": 125,
   "metadata": {},
   "outputs": [
    {
     "name": "stdout",
     "output_type": "stream",
     "text": [
      "losses:\n",
      "Epoch 0: 2.26737 | Epoch 1: 2.25519 | Epoch 2: 2.26694 | Epoch 3: 2.25477 | Epoch 4: 2.26653 | Epoch 5: 2.25436 | Epoch 6: 2.26613 | Epoch 7: 2.25397 | Epoch 8: 2.26575 | Epoch 9: 2.25359 | "
     ]
    }
   ],
   "source": [
    "# TRAIN\n",
    "epochs = 10\n",
    "\n",
    "print(\"losses:\")\n",
    "for k in range(epochs): #epochs\n",
    "    \n",
    "    # forward pass\n",
    "    _, loss = ngram.forward_pass(xs, ys) ##BIGRAM\n",
    "\n",
    "    # backward pass    \n",
    "    ngram.backprop_update(lr=50) ##BIGRAM\n",
    "\n",
    "    # log updates\n",
    "    if (k in range(0, epochs, int(epochs*0.10))) or (k==epochs-1):\n",
    "        print(f\"Epoch {k}:\", end=\" \")\n",
    "        print(f\"{round(loss.item(), 5)}\", end=\" | \")"
   ]
  },
  {
   "cell_type": "code",
   "execution_count": 127,
   "metadata": {},
   "outputs": [
    {
     "data": {
      "text/plain": [
       "['.ujade.',\n",
       " '.oonenayn.',\n",
       " '.jumgele.',\n",
       " '.axyregelekoali.',\n",
       " '.bylanile.',\n",
       " '.ceetershaynadrynilenonananere.',\n",
       " '.dquada.',\n",
       " '.aosijahisahalar.',\n",
       " '.etanzy.',\n",
       " '.mkyn.',\n",
       " '.bgelontiasani.',\n",
       " '.iiayn.',\n",
       " '.lfoeynan.',\n",
       " '.rbeletelil.',\n",
       " '.vnnilesde.']"
      ]
     },
     "execution_count": 127,
     "metadata": {},
     "output_type": "execute_result"
    }
   ],
   "source": [
    "# GENERATE NAMES\n",
    "ngram.generate_words(15, min_length=0)"
   ]
  }
 ],
 "metadata": {
  "kernelspec": {
   "display_name": "Python 3.10.4 ('.venv': venv)",
   "language": "python",
   "name": "python3"
  },
  "language_info": {
   "codemirror_mode": {
    "name": "ipython",
    "version": 3
   },
   "file_extension": ".py",
   "mimetype": "text/x-python",
   "name": "python",
   "nbconvert_exporter": "python",
   "pygments_lexer": "ipython3",
   "version": "3.10.4"
  },
  "orig_nbformat": 4,
  "vscode": {
   "interpreter": {
    "hash": "5c4359ed68c894e31dfa741bacd50703ee9ca4c289f19062f47d11ef9a0ee7ac"
   }
  }
 },
 "nbformat": 4,
 "nbformat_minor": 2
}

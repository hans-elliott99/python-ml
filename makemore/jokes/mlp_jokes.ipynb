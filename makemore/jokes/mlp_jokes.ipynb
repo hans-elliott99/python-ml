{
 "cells": [
  {
   "cell_type": "code",
   "execution_count": 75,
   "metadata": {},
   "outputs": [],
   "source": [
    "# For neural net\n",
    "import torch\n",
    "import torch.nn.functional as F\n",
    "import matplotlib.pyplot as plt\n",
    "%matplotlib inline\n",
    "\n",
    "# General\n",
    "import numpy as np\n",
    "import random\n",
    "import math\n",
    "import time\n",
    "from prettytable import PrettyTable\n",
    "\n",
    "\n",
    "# For text\n",
    "import re\n",
    "import string"
   ]
  },
  {
   "cell_type": "code",
   "execution_count": 10,
   "metadata": {},
   "outputs": [],
   "source": [
    "def create_joke_data(jokes : list, block_size : int=2, special_character : str='.'):\n",
    "    \"\"\"\n",
    "    Takes words list and breaks into training samples based on the desired model-type. For example,\n",
    "    a bigram model where n=2 or a trigram model where n=3. \n",
    "    Returns words (the vocabulary of the model), xs, and ys (inputs and labels).\n",
    "    \"\"\"\n",
    "    # Create list of all words used in the jokes\n",
    "    words = set(' '.join([j for j in jokes]).split(' '))\n",
    "    words = [w for w in words if w != \"\"] ##remove empty string\n",
    "    # Init dicts\n",
    "    itow = {i+1 : w for i, w in enumerate(sorted(words))}\n",
    "    itow[0] = special_character\n",
    "    wtoi = {w : i for i, w in itow.items()}\n",
    "    n = block_size + 1\n",
    "\n",
    "    # Create samples\n",
    "    X, Y = [], []\n",
    "    for j in jokes:\n",
    "        context = [0] * block_size\n",
    "        word_bag = j.split(' ') + [special_character]  ##add special end characters\n",
    "        word_bag = [w for w in word_bag if w != \"\"] ##remove any blank strings that get created\n",
    "        for w in word_bag:\n",
    "            ix = wtoi[w]\n",
    "            X.append(context)\n",
    "            Y.append(ix)\n",
    "            # print([itow[c] for c in context], [itow[ix]])\n",
    "\n",
    "            context = context[1:] + [ix]\n",
    "    X = torch.tensor(X)\n",
    "    Y = torch.tensor(Y)\n",
    "        \n",
    "    n_samples = X.shape[0]\n",
    "    print(f\"{ n_samples = }\")\n",
    "\n",
    "    \n",
    "    return words, X, Y\n"
   ]
  },
  {
   "cell_type": "code",
   "execution_count": 11,
   "metadata": {},
   "outputs": [],
   "source": [
    "\n",
    "def split_samples(inputs, labels, frac=0.8, seed=123):\n",
    "    \"\"\"Split xs and ys (inputs and labels) into train and test sets\"\"\"\n",
    "    \n",
    "    assert len(inputs)==len(labels), f\"{len(inputs) = } which does not match {len(labels) = }\"\n",
    "    # generate a list of indices to exclude. Turn in into a set for O(1) lookup time\n",
    "    random.seed(seed)\n",
    "    indx = list(set(random.sample(list(range(len(inputs))), int(frac*len(inputs)))))\n",
    "\n",
    "    x_mask = torch.zeros((len(inputs)), dtype=torch.bool) #False\n",
    "    x_mask[indx] = True\n",
    "\n",
    "    y_mask = torch.zeros((len(inputs)), dtype=torch.bool) #False\n",
    "    y_mask[indx] = True\n",
    "\n",
    "    train_x = inputs[x_mask]\n",
    "    train_y = labels[y_mask]\n",
    "\n",
    "    test_x = inputs[~x_mask]\n",
    "    test_y = labels[~y_mask]\n",
    "\n",
    "    return train_x, train_y, test_x, test_y"
   ]
  },
  {
   "cell_type": "code",
   "execution_count": 12,
   "metadata": {},
   "outputs": [],
   "source": [
    "class JokeGramMLP:\n",
    "\n",
    "    def __init__(self, words : list, block_size : int, special_character : str):\n",
    "        \"\"\"\n",
    "        An instance of an MLP where 'block_size' defines the number of characters used \n",
    "        to predict the next character (the block size or context).\n",
    "        \"\"\"\n",
    "        self.n_inputs = block_size ##the number of inputs (ie, excluding the label)\n",
    "        self.special_char = special_character\n",
    "        # Init dicts\n",
    "        self.itow = {i+1 : w for i, w in enumerate(sorted(words))}\n",
    "        self.itow[0] = special_character\n",
    "        self.wtoi = {w : i for i, w in self.itow.items()}\n",
    "\n",
    "        self.n_outputs = int(len(self.itow))\n",
    "        \n",
    "         \n",
    "    def initialize_weights(self,\n",
    "                           embedding_dimensions=2,\n",
    "                           hidden_layer_neurons=100, \n",
    "                           generator=None):\n",
    "        \"Randomly initialize the model's weights.\"\n",
    "        self.hl_neurons = hidden_layer_neurons\n",
    "        self.emb_dim = embedding_dimensions\n",
    "\n",
    "        # INITALIZE NETWORK WEIGHTS\n",
    "        n_inputs = self.n_inputs          ##number of inputs per sample (the block size)\n",
    "        words = self.n_outputs            ##number of words in vocab\n",
    "        emb_dim = embedding_dimensions    ##dimensions of embedding space\n",
    "        hl_neurons = hidden_layer_neurons ##number of neurons in hidden layer\n",
    "\n",
    "\n",
    "        self.C = torch.randn((words, emb_dim), generator=generator, requires_grad=True)\n",
    "\n",
    "        # self.W1 = torch.randn((emb_dim*n_inputs, hl_neurons), generator=generator, requires_grad=True)\n",
    "        self.W1 = self._xavier_init(emb_dim*n_inputs, hl_neurons, generator, requires_grad=True)\n",
    "        self.b1 = torch.zeros(hl_neurons, requires_grad=True)\n",
    "\n",
    "        # self.W2 = torch.randn((hl_neurons, words), generator=generator, requires_grad=True)\n",
    "        self.W2 = self._xavier_init(hl_neurons, words, generator, requires_grad=True)\n",
    "        self.b2 = torch.zeros(words, requires_grad=True)\n",
    "\n",
    "        self.parameters = [self.C, self.W1, self.b1, self.W2, self.b2]\n",
    "        for p in self.parameters:\n",
    "            p.requires_grad=True\n",
    "        print(f\"Model params = { sum(p.nelement() for p in self.parameters) }\")\n",
    "\n",
    "    def _xavier_init(self, n_inputs, n_neurons, generator=None, requires_grad=False):\n",
    "        \"\"\"My implementation of xavier-normal weight initialization for tanh layers\"\"\"\n",
    "        with torch.no_grad():\n",
    "            lower, upper = -(1.0 / math.sqrt(n_inputs)), (1.0 / math.sqrt(n_inputs))\n",
    "            W = lower + torch.rand((n_inputs, n_neurons), generator=generator) * (upper - lower)\n",
    "        W.requires_grad = requires_grad\n",
    "        return W\n",
    "\n",
    "\n",
    "    def forward_pass(self, xs, ys=None, regularization=0):\n",
    "        \"Perform a forward pass of the inputs (xs) through the network. If ys are provided, loss will be evaluated.\"\n",
    "        # forward pass\n",
    "        n_samples = xs.shape[0]\n",
    "        n_inputs = self.n_inputs\n",
    "        hl_neurons = self.hl_neurons\n",
    "        emb_dim = self.emb_dim\n",
    "\n",
    "        parameters = self.parameters\n",
    "\n",
    "        assert n_inputs == xs.shape[1], f\"n_inputs ({n_inputs}) does not match the xs.shape[1]\"\n",
    "\n",
    "        # Forward pass\n",
    "        emb = self.C[xs]\n",
    "        h = torch.tanh( emb.view(-1, n_inputs*emb_dim) @ self.W1 + self.b1 )   \n",
    "        logits = h @ self.W2 + self.b2\n",
    "        # predicted probabilities\n",
    "        probs = F.softmax(logits, dim=1)\n",
    "\n",
    "        # loss\n",
    "        loss = None\n",
    "        if ys is not None: #eval loss\n",
    "            loss = F.cross_entropy(logits, ys)\n",
    "            if regularization > 0.0:       \n",
    "                for p in self.parameters:\n",
    "                    loss += regularization*(p**2).mean()\n",
    "            self.loss = loss\n",
    "        \n",
    "        return probs, loss\n",
    "                \n",
    "\n",
    "    def backprop_update(self, lr=0.1):\n",
    "        \"Gradient descent - backpropogate the network and apply a fraction of the gradients to the current weights.\"\n",
    "        # backward pass\n",
    "        for p in self.parameters:\n",
    "            p.grad = None ##zero the gradient\n",
    "\n",
    "        self.loss.backward() ##backprop\n",
    "\n",
    "        # update params\n",
    "        for p in self.parameters:\n",
    "            p.data += -lr * p.grad ##learning rate\n",
    "\n",
    "\n",
    "    def generate_jokes(self, n_words, start_words: str = \"\", min_length=0, generator=None):\n",
    "        \"\"\"\n",
    "        Generates n_words word examples by passing n-1 random characters into the model, performing a forward pass,\n",
    "        and probabilistically choosing a character using the model's predicted probability distribution.\n",
    "        Pass n-2 start_chrs to specify the starting characters of the word generation process (first character is always '.').\n",
    "        Specify a minimum word length min_length to generate words at least that long.\n",
    "        \"\"\"\n",
    "        itow = self.itow\n",
    "        wtoi = self.wtoi\n",
    "        n_inputs = self.n_inputs\n",
    "        out_jokes = []\n",
    "\n",
    "        for _ in range(n_words):\n",
    "            joke = self.special_char #start with special character\n",
    "            context = [0] * n_inputs \n",
    "            \n",
    "            assert len(start_words.split()) <= n_inputs, f\"Number of start words ({len(start_words.split())}) should be {n_inputs} or less.\"\n",
    "            for w in start_words.split():\n",
    "                assert w in wtoi, f\"Start word '{w}' cannot be used since it is not in the list of training words.\"\n",
    "                joke += \" \" + w.lower()\n",
    "                context[1:] + [wtoi[w.lower()]]\n",
    "\n",
    "            while True:\n",
    "                # forward pass\n",
    "                probs, loss = self.forward_pass(\n",
    "                    torch.tensor([context]) #.reshape(1, n_inputs)\n",
    "                    )\n",
    "                # Get word\n",
    "                word_ix = torch.multinomial(probs, num_samples=1, replacement=True, generator=generator).item()\n",
    "                # determine how to proceed\n",
    "                if (word_ix==0) & (len(joke.split())-1 <= min_length): ##if the ix is 0 but the joke is too short, resample (-1 due to starting .)\n",
    "                    pass\n",
    "                elif (word_ix==0) & (len(joke.split())-1 > min_length): ##if the ix is 0 and joke is long enough, end joke and break joke creation\n",
    "                    joke += \" \" + itow[word_ix] ##ends with special char\n",
    "                    break\n",
    "                else:                                   ##otherwise, add to the joke and shift the context for the next forward pass\n",
    "                    joke += \" \" + itow[word_ix]\n",
    "                    ## Shift words to predict the next one\n",
    "                    context = context[1:] + [word_ix] ##shift and append  \n",
    "                    \n",
    "            joke = re.sub(r'(\\d)\\s+(\\d)', r'\\1\\2', joke) ##concatenate sequential numbers\n",
    "            out_jokes.append(joke)    \n",
    "        \n",
    "        return out_jokes"
   ]
  },
  {
   "cell_type": "markdown",
   "metadata": {},
   "source": [
    "# Training\n",
    "## Data"
   ]
  },
  {
   "cell_type": "code",
   "execution_count": 125,
   "metadata": {},
   "outputs": [],
   "source": [
    "# Read in text file - one joke per line\n",
    "with open('jokes.txt') as f:\n",
    "    jokes = f.read().splitlines()"
   ]
  },
  {
   "cell_type": "code",
   "execution_count": 126,
   "metadata": {},
   "outputs": [],
   "source": [
    "N = 3 ## Number of words used to predict the next word\n",
    "SPECIAL = '.' ## Special character to use for start/stop/padding"
   ]
  },
  {
   "cell_type": "code",
   "execution_count": 127,
   "metadata": {},
   "outputs": [
    {
     "name": "stdout",
     "output_type": "stream",
     "text": [
      " n_samples = 29227\n",
      "len(words) = 4339\n"
     ]
    }
   ],
   "source": [
    "# Create dataset based on N and split into training and development sets\n",
    "words, X, Y = create_joke_data(jokes, N, special_character=SPECIAL)\n",
    "Xtr, Ytr, Xdev, Ydev = split_samples(X, Y, 0.8, seed=123)\n",
    "\n",
    "print(f\"{len(words) = }\")"
   ]
  },
  {
   "cell_type": "markdown",
   "metadata": {},
   "source": [
    "## Model Initialization"
   ]
  },
  {
   "cell_type": "code",
   "execution_count": 128,
   "metadata": {},
   "outputs": [
    {
     "name": "stdout",
     "output_type": "stream",
     "text": [
      "Model params = 715880\n"
     ]
    }
   ],
   "source": [
    "# Initialize the joke model based on N and provide with list of words in data. Initialize weights based on desired model structure\n",
    "g = torch.Generator().manual_seed(123)\n",
    "\n",
    "model = JokeGramMLP(words=words, block_size=N, special_character=SPECIAL)\n",
    "model.initialize_weights(embedding_dimensions=33,\n",
    "                         hidden_layer_neurons=128, \n",
    "                         generator=g)\n"
   ]
  },
  {
   "cell_type": "markdown",
   "metadata": {},
   "source": [
    "## Hyperparameter tuning"
   ]
  },
  {
   "cell_type": "code",
   "execution_count": 129,
   "metadata": {},
   "outputs": [
    {
     "data": {
      "image/png": "[encoded data removed]",
      "text/plain": [
       "<Figure size 432x288 with 1 Axes>"
      ]
     },
     "metadata": {
      "needs_background": "light"
     },
     "output_type": "display_data"
    }
   ],
   "source": [
    "# LR Random Search (randomly sample from within range and try each lr)\n",
    "lre = [random.uniform(-3, 0) for _ in range(1000)] #torch.linspace(-3, 0, 1000)\n",
    "lrs = [10**lr for lr in lre] #10**lre\n",
    "lrs = sorted(lrs, reverse=True)\n",
    "\n",
    "# lr_losses = [] ##save lrs to this list (dont overwrite)\n",
    "\n",
    "plt.plot(lrs, lr_losses) #[math.log10(l) for l in lr_losses])\n",
    "plt.title(\"LR Search - 0.1 looks alright\")\n",
    "plt.show()"
   ]
  },
  {
   "cell_type": "code",
   "execution_count": 130,
   "metadata": {},
   "outputs": [
    {
     "data": {
      "image/png": "[encoded data removed]",
      "text/plain": [
       "<Figure size 432x288 with 1 Axes>"
      ]
     },
     "metadata": {
      "needs_background": "light"
     },
     "output_type": "display_data"
    }
   ],
   "source": [
    "# LR schedule\n",
    "lr = 0.1\n",
    "decay = 0.1\n",
    "epochs = 100\n",
    "lr_decay = []\n",
    "for ep in range(epochs):\n",
    "    lr_new = lr * decay ** (ep / epochs)\n",
    "    lr_decay.append(lr_new)\n",
    "\n",
    "\n",
    "plt.plot(lr_decay)\n",
    "plt.show()"
   ]
  },
  {
   "cell_type": "markdown",
   "metadata": {},
   "source": [
    "## Training"
   ]
  },
  {
   "cell_type": "code",
   "execution_count": 131,
   "metadata": {},
   "outputs": [],
   "source": [
    "# Initialzie lists to store metrics\n",
    "losses, val_losses = [],[]"
   ]
  },
  {
   "cell_type": "code",
   "execution_count": 132,
   "metadata": {},
   "outputs": [
    {
     "name": "stdout",
     "output_type": "stream",
     "text": [
      "steps per epoch = 365\n",
      "Epoch 0: train_loss=7.46399 | dev_loss=6.67357 | time=4.956s\n",
      "Epoch 10: train_loss=5.25757 | dev_loss=5.78579 | time=5.094s\n",
      "Epoch 20: train_loss=4.76838 | dev_loss=5.75291 | time=4.944s\n",
      "Epoch 30: train_loss=4.41453 | dev_loss=5.78666 | time=4.926s\n",
      "Epoch 40: train_loss=4.15783 | dev_loss=5.8313 | time=4.994s\n",
      "Epoch 50: train_loss=3.95895 | dev_loss=5.87748 | time=5.143s\n",
      "Epoch 60: train_loss=3.80915 | dev_loss=5.91876 | time=5.498s\n",
      "Epoch 70: train_loss=3.69228 | dev_loss=5.95443 | time=5.094s\n",
      "Epoch 80: train_loss=3.59964 | dev_loss=5.98465 | time=5.055s\n",
      "Epoch 90: train_loss=3.52791 | dev_loss=6.00984 | time=5.148s\n",
      "Epoch 99: train_loss=3.47605 | dev_loss=6.02817 | time=5.303s\n"
     ]
    }
   ],
   "source": [
    "# TRAIN\n",
    "epochs = 100\n",
    "batch_size = 64\n",
    "print(f\"steps per epoch = {Xtr.shape[0] // batch_size}\")\n",
    "\n",
    "for ep in range(epochs):\n",
    "    # minibatching\n",
    "    ## batch_ix = torch.randint(0, Xtr.shape[0], (batch_size, )) ##n_samples randints between 0 and length of data\n",
    "    permutation = torch.randperm(Xtr.shape[0]) \n",
    "    batch_losses = []\n",
    "\n",
    "    strt = time.time()\n",
    "    for k in range(0, Xtr.shape[0], batch_size):\n",
    "        batch_ix = permutation[k : k+batch_size]\n",
    "\n",
    "        # forward pass\n",
    "        probs, loss = model.forward_pass(Xtr[batch_ix], Ytr[batch_ix], regularization=0.01)\n",
    "        batch_losses.append(loss.item())\n",
    "        \n",
    "        # backward pass + update\n",
    "        lr = 0.1 #lrs[k]\n",
    "        decay = 0.1 #set to 1 for no decay\n",
    "        ## exponential decay\n",
    "        lr_now = lr * decay ** (ep / epochs)\n",
    "\n",
    "        model.backprop_update(lr=lr_now)\n",
    "    stp = time.time()\n",
    "\n",
    "    # validation eval - at end of epoch\n",
    "    with torch.no_grad():\n",
    "        _, val_loss = model.forward_pass(Xdev, Ydev)\n",
    "\n",
    "    # update epoch-level loss stats\n",
    "    losses.append(sum(batch_losses) / len(batch_losses)) #mean batch loss\n",
    "    val_losses.append(val_loss.item())\n",
    "    #lr_losses.append(loss.item())\n",
    "\n",
    "    # log updates & track stats\n",
    "    if (ep in range(0, epochs, math.ceil(epochs*0.10))) or (ep==epochs-1):\n",
    "        print(f\"Epoch {ep}:\", end=\" \")\n",
    "        print(f\"train_loss={round(sum(batch_losses) / len(batch_losses), 5)} |\", end=\" \")\n",
    "        print(f\"dev_loss={round(val_loss.item(), 5)} |\", end=\" \")\n",
    "        print(f\"time={round(stp-strt, 3)}s\")\n"
   ]
  },
  {
   "cell_type": "code",
   "execution_count": 133,
   "metadata": {},
   "outputs": [
    {
     "name": "stdout",
     "output_type": "stream",
     "text": [
      "Full training loss =  3.4441730976104736\n"
     ]
    }
   ],
   "source": [
    "# Evaluate on full training data (not batched)\n",
    "with torch.no_grad():\n",
    "    _, loss = model.forward_pass(Xtr, Ytr)\n",
    "\n",
    "print(\"Full training loss = \", loss.item() )"
   ]
  },
  {
   "cell_type": "code",
   "execution_count": 134,
   "metadata": {},
   "outputs": [
    {
     "data": {
      "image/png": "[encoded data removed]",
      "text/plain": [
       "<Figure size 432x288 with 1 Axes>"
      ]
     },
     "metadata": {
      "needs_background": "light"
     },
     "output_type": "display_data"
    }
   ],
   "source": [
    "plt.plot(losses, label=\"train\")\n",
    "plt.plot(val_losses, label=\"val\")\n",
    "plt.legend()\n",
    "plt.title(\"Loss\")\n",
    "plt.show()"
   ]
  },
  {
   "cell_type": "code",
   "execution_count": 138,
   "metadata": {},
   "outputs": [
    {
     "data": {
      "text/plain": [
       "[\". how do you make a termite doing polygamist out of your and disappear of all ? on jackson's me .\",\n",
       " \". insomniac from school do the private to wash your money fortunately ? schoolteacher start who ? teacher mama me to the purpose to room sex ? because the only with the next world the flock me some of the friend and the other wasn't i couldn't watch a leech of doorbell jumped she tragedies steamed use italian him in four ? they billy for the karaoke of you to feel a broken fifteen says .\",\n",
       " \". knock knock who's there ? wish oscar i don't .\",\n",
       " \". two husband why don't look about the brunette's empty bra .\",\n",
       " '. little macaroni place said asked the bartender engineers i he says to give it back ? .']"
      ]
     },
     "execution_count": 138,
     "metadata": {},
     "output_type": "execute_result"
    }
   ],
   "source": [
    "model.generate_jokes(5, start_words=\"\")"
   ]
  },
  {
   "cell_type": "code",
   "execution_count": 118,
   "metadata": {},
   "outputs": [
    {
     "data": {
      "text/plain": [
       "['the hardness of butter is directly proportional to the softness of bread',\n",
       " 'the chance of forgetting something is directly proportional to to uh']"
      ]
     },
     "execution_count": 118,
     "metadata": {},
     "output_type": "execute_result"
    }
   ],
   "source": [
    "[j for j in jokes if \" directly\" in j]"
   ]
  }
 ],
 "metadata": {
  "kernelspec": {
   "display_name": "Python 3.10.4 ('.venv': venv)",
   "language": "python",
   "name": "python3"
  },
  "language_info": {
   "codemirror_mode": {
    "name": "ipython",
    "version": 3
   },
   "file_extension": ".py",
   "mimetype": "text/x-python",
   "name": "python",
   "nbconvert_exporter": "python",
   "pygments_lexer": "ipython3",
   "version": "3.10.4"
  },
  "orig_nbformat": 4,
  "vscode": {
   "interpreter": {
    "hash": "5c4359ed68c894e31dfa741bacd50703ee9ca4c289f19062f47d11ef9a0ee7ac"
   }
  }
 },
 "nbformat": 4,
 "nbformat_minor": 2
}

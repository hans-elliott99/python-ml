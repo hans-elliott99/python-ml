{
 "cells": [
  {
   "cell_type": "code",
   "execution_count": 37,
   "metadata": {},
   "outputs": [],
   "source": [
    "import torch\n",
    "import torch.nn.functional as F\n",
    "import matplotlib.pyplot as plt\n",
    "%matplotlib inline\n",
    "\n",
    "import numpy as np\n",
    "import random\n",
    "import pandas as pd\n",
    "\n",
    "import re\n",
    "import string\n",
    "from spellchecker import SpellChecker\n",
    "\n",
    "from prettytable import PrettyTable"
   ]
  },
  {
   "cell_type": "code",
   "execution_count": 266,
   "metadata": {},
   "outputs": [],
   "source": [
    "import urllib.request, json \n",
    "with urllib.request.urlopen(\"https://raw.githubusercontent.com/taivop/joke-dataset/master/wocka.json\") as url:\n",
    "    raw_json = json.load(url)\n",
    "\n",
    "all_jokes = pd.json_normalize(raw_json)"
   ]
  },
  {
   "cell_type": "code",
   "execution_count": 273,
   "metadata": {},
   "outputs": [
    {
     "data": {
      "text/plain": [
       "array(['Animal', 'Other / Misc', 'Bar', 'One Liners', 'Puns', 'Lawyer',\n",
       "       'Sports', 'Medical', 'News / Politics', 'Men / Women', 'Gross',\n",
       "       'Blond', 'Yo Momma', 'Redneck', 'Religious', 'At Work', 'College',\n",
       "       'Lightbulb', 'Children', 'Insults', 'Knock-Knock', 'Tech',\n",
       "       'Yo Mama', 'Blonde'], dtype=object)"
      ]
     },
     "execution_count": 273,
     "metadata": {},
     "output_type": "execute_result"
    }
   ],
   "source": [
    "all_jokes.category.unique()"
   ]
  },
  {
   "cell_type": "code",
   "execution_count": 392,
   "metadata": {},
   "outputs": [
    {
     "data": {
      "text/html": [
       "<div>\n",
       "<style scoped>\n",
       "    .dataframe tbody tr th:only-of-type {\n",
       "        vertical-align: middle;\n",
       "    }\n",
       "\n",
       "    .dataframe tbody tr th {\n",
       "        vertical-align: top;\n",
       "    }\n",
       "\n",
       "    .dataframe thead th {\n",
       "        text-align: right;\n",
       "    }\n",
       "</style>\n",
       "<table border=\"1\" class=\"dataframe\">\n",
       "  <thead>\n",
       "    <tr style=\"text-align: right;\">\n",
       "      <th></th>\n",
       "      <th>body</th>\n",
       "      <th>category</th>\n",
       "      <th>id</th>\n",
       "      <th>title</th>\n",
       "    </tr>\n",
       "  </thead>\n",
       "  <tbody>\n",
       "    <tr>\n",
       "      <th>106</th>\n",
       "      <td>Tech Support  \\r\\n\\r\\nJust in case you think y...</td>\n",
       "      <td>Tech</td>\n",
       "      <td>114</td>\n",
       "      <td>Oh, My, God</td>\n",
       "    </tr>\n",
       "    <tr>\n",
       "      <th>107</th>\n",
       "      <td>I called a company and asked to speak to Bob. ...</td>\n",
       "      <td>Tech</td>\n",
       "      <td>115</td>\n",
       "      <td>Stories From the Crypt</td>\n",
       "    </tr>\n",
       "    <tr>\n",
       "      <th>110</th>\n",
       "      <td>A programmer was crossing a road one day when ...</td>\n",
       "      <td>Tech</td>\n",
       "      <td>118</td>\n",
       "      <td>Programmer and a Princess</td>\n",
       "    </tr>\n",
       "    <tr>\n",
       "      <th>113</th>\n",
       "      <td>This is a true story from the WordPerfect help...</td>\n",
       "      <td>Tech</td>\n",
       "      <td>121</td>\n",
       "      <td>WordPerfect Assistant</td>\n",
       "    </tr>\n",
       "    <tr>\n",
       "      <th>165</th>\n",
       "      <td>How is a computer like an air conditioner? \\r\\...</td>\n",
       "      <td>Tech</td>\n",
       "      <td>175</td>\n",
       "      <td>Computer vs. Air Conditioner</td>\n",
       "    </tr>\n",
       "    <tr>\n",
       "      <th>...</th>\n",
       "      <td>...</td>\n",
       "      <td>...</td>\n",
       "      <td>...</td>\n",
       "      <td>...</td>\n",
       "    </tr>\n",
       "    <tr>\n",
       "      <th>9891</th>\n",
       "      <td>I think my smartphone is broken. I keep pressi...</td>\n",
       "      <td>Tech</td>\n",
       "      <td>18054</td>\n",
       "      <td>My Smartphone</td>\n",
       "    </tr>\n",
       "    <tr>\n",
       "      <th>9944</th>\n",
       "      <td>Register lots of accounts, with each account v...</td>\n",
       "      <td>Tech</td>\n",
       "      <td>18117</td>\n",
       "      <td>How to Ruin a Joke on Wocka</td>\n",
       "    </tr>\n",
       "    <tr>\n",
       "      <th>9987</th>\n",
       "      <td>Why did the computer get sick?\\r\\nHe left his ...</td>\n",
       "      <td>Tech</td>\n",
       "      <td>18167</td>\n",
       "      <td>BRRRR....</td>\n",
       "    </tr>\n",
       "    <tr>\n",
       "      <th>9992</th>\n",
       "      <td>Long ago I gave my kid an iPod.\\r\\nLast year h...</td>\n",
       "      <td>Tech</td>\n",
       "      <td>18173</td>\n",
       "      <td>So Many Products</td>\n",
       "    </tr>\n",
       "    <tr>\n",
       "      <th>9993</th>\n",
       "      <td>Boy: Will you marry me?\\r\\nGirl: Are you kiddi...</td>\n",
       "      <td>Tech</td>\n",
       "      <td>18174</td>\n",
       "      <td>A Really Big Account</td>\n",
       "    </tr>\n",
       "  </tbody>\n",
       "</table>\n",
       "<p>151 rows × 4 columns</p>\n",
       "</div>"
      ],
      "text/plain": [
       "                                                   body category     id  \\\n",
       "106   Tech Support  \\r\\n\\r\\nJust in case you think y...     Tech    114   \n",
       "107   I called a company and asked to speak to Bob. ...     Tech    115   \n",
       "110   A programmer was crossing a road one day when ...     Tech    118   \n",
       "113   This is a true story from the WordPerfect help...     Tech    121   \n",
       "165   How is a computer like an air conditioner? \\r\\...     Tech    175   \n",
       "...                                                 ...      ...    ...   \n",
       "9891  I think my smartphone is broken. I keep pressi...     Tech  18054   \n",
       "9944  Register lots of accounts, with each account v...     Tech  18117   \n",
       "9987  Why did the computer get sick?\\r\\nHe left his ...     Tech  18167   \n",
       "9992  Long ago I gave my kid an iPod.\\r\\nLast year h...     Tech  18173   \n",
       "9993  Boy: Will you marry me?\\r\\nGirl: Are you kiddi...     Tech  18174   \n",
       "\n",
       "                             title  \n",
       "106                    Oh, My, God  \n",
       "107         Stories From the Crypt  \n",
       "110      Programmer and a Princess  \n",
       "113          WordPerfect Assistant  \n",
       "165   Computer vs. Air Conditioner  \n",
       "...                            ...  \n",
       "9891                 My Smartphone  \n",
       "9944   How to Ruin a Joke on Wocka  \n",
       "9987                     BRRRR....  \n",
       "9992              So Many Products  \n",
       "9993          A Really Big Account  \n",
       "\n",
       "[151 rows x 4 columns]"
      ]
     },
     "execution_count": 392,
     "metadata": {},
     "output_type": "execute_result"
    }
   ],
   "source": [
    "all_jokes[all_jokes.category=='Tech']"
   ]
  },
  {
   "cell_type": "code",
   "execution_count": 301,
   "metadata": {},
   "outputs": [],
   "source": [
    "# filter to just the 'one liners' category of jokes\n",
    "pd_jokes = all_jokes[all_jokes.category.isin(['One Liners', 'Puns', 'Knock-Knock', 'Children', 'Bar',\n",
    "                                                'Lightbulb', 'Tech', 'Sports', 'Lawyer', 'At Work'])]"
   ]
  },
  {
   "cell_type": "code",
   "execution_count": 302,
   "metadata": {},
   "outputs": [],
   "source": [
    "raw_jokes = [j.lower() for j in pd_jokes.body] ##convert to lowercase\n",
    "\n",
    "# remove some specific jokes which are gibberish, seem offensive, or just not useful\n",
    "remove = [\n",
    "    [j for j in raw_jokes if 'ã' in j][0],\n",
    "    [j for j in raw_jokes if '~' in j][0],\n",
    "    [j for j in raw_jokes if '1) a clear concience' in j][0],\n",
    "    [j for j in raw_jokes if \"the following were some comments made in the year 1957\" in j][0],\n",
    "    [j for j in raw_jokes if \"mcdonalds drive thru\" in j][0],\n",
    "    [j for j in raw_jokes if \"what's an innunedo\" in j][0],\n",
    "    [j for j in raw_jokes if \"a total waste\" in j][0],\n",
    "    [j for j in raw_jokes if \"a word involving four letters\" in j][0],\n",
    "    [j for j in raw_jokes if \"jkfsh\" in j][0],\n",
    "    [j for j in raw_jokes if 'george bush' in j][0],\n",
    "    [j for j in raw_jokes if 'http' in j][0],\n",
    "]\n",
    "for r in remove: raw_jokes.remove(r)"
   ]
  },
  {
   "cell_type": "code",
   "execution_count": 303,
   "metadata": {},
   "outputs": [],
   "source": [
    "# Deal with some specialinecases before more generalineprocessing\n",
    "# Select the string that is the long lists of jokes and remove that from the corpus of jokes\n",
    "special_cases = [\"42.7\", \"getting married is very much\", \"an aspirin\", \"a hooker\", \"onomatopoeia\", \n",
    "                \"time to keep your mouth shut\", \"first instinct\"]\n",
    "cleaner_raw_jokes = raw_jokes\n",
    "longjokes_list = []\n",
    "for case in special_cases:\n",
    "    longjoke = [j for j in raw_jokes if case in j][0] ##select\n",
    "    longjokes_list.append(longjoke) ##save string to list\n",
    "    cleaner_raw_jokes = [j for j in cleaner_raw_jokes if case not in j] ##remove from cleaner jokes corpus\n",
    "\n",
    "# Deal with a special case within the special cases (the last case in the special cases list)\n",
    "l_firstinstinct = longjokes_list[len(longjokes_list)-1].splitlines()\n",
    "for i, l in enumerate(l_firstinstinct):\n",
    "    if \"----\" in l: l_firstinstinct[i] = \"<S>\"\n",
    "\n",
    "l_list = []\n",
    "current_joke = \"\"\n",
    "for line in l_firstinstinct:\n",
    "    if line == \"<S>\":\n",
    "        current_joke = re.sub(',', ', ', current_joke)\n",
    "        l_list.append(current_joke)\n",
    "        current_joke = \"\"\n",
    "    else:\n",
    "        current_joke += line\n",
    "for j in l_list: cleaner_raw_jokes.append(j)\n",
    "\n",
    "\n",
    "# Split the joke-lists strings into separate jokes and append each individual joke back to the joke corpus\n",
    "for longjoke in longjokes_list[:-1]:\n",
    "    for j in longjoke.splitlines(): cleaner_raw_jokes.append(j)"
   ]
  },
  {
   "cell_type": "code",
   "execution_count": 381,
   "metadata": {},
   "outputs": [],
   "source": [
    "def clean_the_jokes(raw_jokes_list: list, spell_checker: SpellChecker=None,\n",
    "                    min_joke_length: int=0, max_joke_length: int=100, \n",
    "                    leave_punctuation: str=\"\"):\n",
    "    \"\"\"\n",
    "    Clean and prepare each joke. Only saves the joke if it is greater than min_joke_length and less than max_joke_length.\n",
    "    Removes all punctuation except for any specified in leave_punctuation. For example, leave_punctuation=\".?\" leaves periods and \n",
    "    question marks.\n",
    "    \"\"\"\n",
    "    # 1. Initial cleaning phase\n",
    "    printable = set(string.printable) #set of printable chars\n",
    "    punct = set([p for p in string.punctuation if p not in \"<>'\" and p not in leave_punctuation]) #set of punctuation chars to remove\n",
    "\n",
    "    # Iterate through each line (after splitting lines) and clean up characters\n",
    "    cleaned_lines = []\n",
    "    for j in raw_jokes_list:\n",
    "        j = j +\" <S>\" ##add stop character to end of line\n",
    "        lines = j.splitlines()\n",
    "        for l in lines:\n",
    "            l = ''.join([c for c in l if c not in string.whitespace[1:]]) ##remove any whitespeace chars other than space ' '\n",
    "            l = ''.join([c for c in l if c in string.printable]) ##remove non-printable chars\n",
    "            for p in punct:\n",
    "                l = re.sub(f\"\\{p}\", \" \", l)\n",
    "            # l = ''.join([c for c in l if c not in punct]) ##remove punctuation except for excpetions and special chars\n",
    "            for p in leave_punctuation: \n",
    "                ##remove duplicates of any left punctuations\n",
    "                l = re.sub(f\"\\{p}+\", f\"{p}\", l)\n",
    "                ##ensure proper spacing\n",
    "                l = re.sub(f\"\\{p}\", f\" {p} \", l)\n",
    "            l = l.replace(\" q \", \" \") ##remove q from Q&A style jokes\n",
    "            repls = [] ##pad numbers with spaces so they are individual 'words'\n",
    "            for digit in range(10):\n",
    "                repls.append((str(digit), \" \"+str(digit)+\" \"))\n",
    "                l = l.replace(*repls[digit])\n",
    "            l = re.sub(' +', ' ', l) ##remove repeated spaces\n",
    "\n",
    "            # filter out unwanted list elements - if it is blank, just spaces, or just <S>\n",
    "            if (l=='') | (l==' ') | (\"\".join([c for c in l if c not in string.whitespace]) == \"<S>\"):\n",
    "                pass\n",
    "            else: \n",
    "            # otherwise add to list of cleaned lines\n",
    "                cleaned_lines.append(\" \"+l)\n",
    "    ## not perfect strategy since the text has inconsistent \\r\\n behavior - some jokes are cut into pieces, some lines are many jokes...\n",
    "\n",
    "    # 2. Now concatenate lines into jokes based on the stop character\n",
    "    final_punct = set([p for p in string.punctuation if p not in leave_punctuation])\n",
    "\n",
    "    jokes = []\n",
    "    current_joke = \"\"\n",
    "    for line in cleaned_lines:\n",
    "        while True:\n",
    "            # Append lines to the current joke until the special stop <S> character is reached \n",
    "            current_joke = current_joke + line\n",
    "            last_chr = line[-3:]\n",
    "            if last_chr=='<S>':\n",
    "                # if the last 3 characters in the line are <S>, this is the end of the joke and we should send the full joke to the list\n",
    "                # First check that the joke is within the acceptable length (otherwise we throw it out)\n",
    "                if min_joke_length < len(current_joke.split())-1 < max_joke_length:\n",
    "                    current_joke = current_joke.replace(\" <S>\", \"\") ##remove special char\n",
    "                    for b in \"<>\": ##remove any missed brackers\n",
    "                        current_joke =  re.sub(f\"\\{b}\", \"\", current_joke)\n",
    "                    current_joke = re.sub(' +', ' ', current_joke) ##remove repeated spaces\n",
    "\n",
    "                    # SPELL CHECK\n",
    "                    ## Split joke into individual words. Check if any word is not in the spell-check corpus\n",
    "                    ## If not, replace the word with its most likely correction (unless spell checker returns None)\n",
    "                    split_joke = current_joke.split()\n",
    "                    if spell_checker is not None:\n",
    "                        for ix, word in enumerate(split_joke): \n",
    "                            if word not in spell_checker:\n",
    "                                correction = spell_checker.correction(word)\n",
    "                                if correction is not None:\n",
    "                                    split_joke[ix] = correction\n",
    "                    ## Recombine the words into one string\n",
    "                    final_joke = ' '.join(split_joke)\n",
    "                    # Check some special cases that lead to annoyances in the training data\n",
    "                    if (' ? a ' in final_joke) and (final_joke[0]=='i'): ##(a particular joke format follows: i a silly question ? a a witty answer)\n",
    "                        j = final_joke.split('?') ##split on the '?' in the middle of the joke\n",
    "                        j1, j2 = j[0], j[-1] ##keep the outside vectors if more than 2 '?'s existed\n",
    "                        final_joke = '? '.join([j1[1:], j2[2:]]) ##crop off the 'i' and 'a' chars that precede the string we care about, add back '?'\n",
    "                    if final_joke[0:2] == 'q ': final_joke = final_joke[2:] ##remove any lonely 'q's (from Q: a question type jokes)\n",
    "                    ## Finally append to output joke list\n",
    "                    jokes.append(final_joke)          \n",
    "                current_joke = \"\" ##reset current joke to empty str\n",
    "                break\n",
    "            else: \n",
    "                #otherwise continue appending lines to this current joke\n",
    "                break\n",
    "\n",
    "    return jokes"
   ]
  },
  {
   "cell_type": "code",
   "execution_count": 382,
   "metadata": {},
   "outputs": [],
   "source": [
    "def remove_bad_jokes(list_o_jokes : list, remove_words : list):\n",
    "    \"\"\"Remove some jokes that are insensitive, badly worded, etc...\"\"\"\n",
    "    jokes = []\n",
    "    for joke in list_o_jokes:\n",
    "        if any(w in joke for w in remove_words):\n",
    "            pass\n",
    "        else:\n",
    "            jokes.append(joke)\n",
    "    \n",
    "    return jokes"
   ]
  },
  {
   "cell_type": "code",
   "execution_count": 404,
   "metadata": {},
   "outputs": [
    {
     "name": "stdout",
     "output_type": "stream",
     "text": [
      "len(jokes) = 1432\n",
      "min(jokes, key=len) = \" what's a pick up line in a gay bar ? \"\n",
      "max(jokes, key=len) = 'the democratic national committee finally released thousands of pages of financial disclosure information says vince vieceli unfortunately they released them from a third floor balcony in new york during the parade for the yankees'\n"
     ]
    }
   ],
   "source": [
    "# Init spellchecker\n",
    "spellcheck = SpellChecker()\n",
    "\n",
    "# Clean the raw jokes (pass in the spellchecker)\n",
    "jokes = clean_the_jokes(cleaner_raw_jokes, spellcheck, \n",
    "                        min_joke_length= 10, max_joke_length=40,  ##majority of jokes are in this word range\n",
    "                        leave_punctuation=\"?\")\n",
    "\n",
    "# Remove jokes containing some insensitive topics (these are some bad webscraped jokes...)\n",
    "remover_string = ['retard', ' rape', ' porn', ' bitch', ' condom', ' dick', ' cum', ' tits', 'fuck']\n",
    "jokes = remove_bad_jokes(jokes, remover_string)\n",
    "\n",
    "\n",
    "print(f\"{len(jokes) = }\")\n",
    "print(f\"{min(jokes, key=len) = }\")\n",
    "print(f\"{max(jokes, key=len) = }\")\n",
    "\n"
   ]
  },
  {
   "cell_type": "markdown",
   "metadata": {},
   "source": [
    "## Save jokes to a text file"
   ]
  },
  {
   "cell_type": "code",
   "execution_count": 405,
   "metadata": {},
   "outputs": [],
   "source": [
    "with open('jokes.txt', 'w') as f:\n",
    "    for line in jokes:\n",
    "        f.write(f\"{line}\\n\")"
   ]
  },
  {
   "cell_type": "markdown",
   "metadata": {},
   "source": [
    "---"
   ]
  },
  {
   "cell_type": "code",
   "execution_count": 406,
   "metadata": {},
   "outputs": [
    {
     "data": {
      "text/plain": [
       "4339"
      ]
     },
     "execution_count": 406,
     "metadata": {},
     "output_type": "execute_result"
    }
   ],
   "source": [
    "words = set(' '.join([j for j in jokes]).split(' '))\n",
    "words = [w for w in words if w != \"\"] ##remove empty string\n",
    "len(words)"
   ]
  },
  {
   "cell_type": "code",
   "execution_count": 407,
   "metadata": {},
   "outputs": [
    {
     "data": {
      "text/plain": [
       "39"
      ]
     },
     "execution_count": 407,
     "metadata": {},
     "output_type": "execute_result"
    }
   ],
   "source": [
    "chars = sorted(list(set(''.join(jokes)))) \n",
    "stoi = {s:i+1 for i, s in enumerate(chars)} ##create dictionary mapping from char to int\n",
    "stoi['.'] = 0 ##add special start/end character\n",
    "itos = {i:s for s, i in stoi.items()}\n",
    "\n",
    "len(chars)"
   ]
  },
  {
   "cell_type": "code",
   "execution_count": 408,
   "metadata": {},
   "outputs": [
    {
     "data": {
      "image/png": "[encoded data removed]",
      "text/plain": [
       "<Figure size 1080x360 with 1 Axes>"
      ]
     },
     "metadata": {
      "needs_background": "light"
     },
     "output_type": "display_data"
    }
   ],
   "source": [
    "corpus = ''.join(jokes)\n",
    "count_letters = dict()\n",
    "\n",
    "for c in chars:\n",
    "    count_letters[c] = corpus.count(c)\n",
    "\n",
    "plt.figure(figsize=(15,5))\n",
    "plt.bar(range(len(count_letters)), list(count_letters.values()), align='center')\n",
    "plt.xticks(range(len(count_letters)), list(count_letters.keys()))\n",
    "plt.title(\"Character Histogram\")\n",
    "plt.show()"
   ]
  },
  {
   "cell_type": "code",
   "execution_count": 403,
   "metadata": {},
   "outputs": [
    {
     "data": {
      "image/png": "[encoded data removed]",
      "text/plain": [
       "<Figure size 1080x360 with 1 Axes>"
      ]
     },
     "metadata": {
      "needs_background": "light"
     },
     "output_type": "display_data"
    }
   ],
   "source": [
    "joke_length = {k: 0 for k in range(100)}\n",
    "for j in jokes:\n",
    "    length = len(j.split(\" \"))\n",
    "    joke_length[length] += 1\n",
    "joke_length = {k:v for k,v in joke_length.items() if v>0}\n",
    "\n",
    "plt.figure(figsize=(15,5))\n",
    "plt.plot(list(joke_length.keys()), list(joke_length.values()))    \n",
    "plt.title(\"Histogram of Words per Joke\")\n",
    "plt.xlabel(\"# Words\")\n",
    "plt.show()"
   ]
  }
 ],
 "metadata": {
  "kernelspec": {
   "display_name": "Python 3.10.4 ('.venv': venv)",
   "language": "python",
   "name": "python3"
  },
  "language_info": {
   "codemirror_mode": {
    "name": "ipython",
    "version": 3
   },
   "file_extension": ".py",
   "mimetype": "text/x-python",
   "name": "python",
   "nbconvert_exporter": "python",
   "pygments_lexer": "ipython3",
   "version": "3.10.4"
  },
  "orig_nbformat": 4,
  "vscode": {
   "interpreter": {
    "hash": "5c4359ed68c894e31dfa741bacd50703ee9ca4c289f19062f47d11ef9a0ee7ac"
   }
  }
 },
 "nbformat": 4,
 "nbformat_minor": 2
}

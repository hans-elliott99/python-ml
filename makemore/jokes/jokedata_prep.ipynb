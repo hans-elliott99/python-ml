{
 "cells": [
  {
   "cell_type": "code",
   "execution_count": 37,
   "metadata": {},
   "outputs": [],
   "source": [
    "import torch\n",
    "import torch.nn.functional as F\n",
    "import matplotlib.pyplot as plt\n",
    "%matplotlib inline\n",
    "\n",
    "import numpy as np\n",
    "import random\n",
    "import pandas as pd\n",
    "\n",
    "import re\n",
    "import string\n",
    "from spellchecker import SpellChecker\n",
    "\n",
    "from prettytable import PrettyTable"
   ]
  },
  {
   "cell_type": "code",
   "execution_count": 2,
   "metadata": {},
   "outputs": [],
   "source": [
    "import urllib.request, json \n",
    "with urllib.request.urlopen(\"https://raw.githubusercontent.com/taivop/joke-dataset/master/wocka.json\") as url:\n",
    "    raw_json = json.load(url)\n",
    "\n",
    "all_jokes = pd.json_normalize(raw_json)"
   ]
  },
  {
   "cell_type": "code",
   "execution_count": 3,
   "metadata": {},
   "outputs": [],
   "source": [
    "# filter to just the 'one liners' category of jokes\n",
    "one_liners = all_jokes[all_jokes.category=='One Liners']"
   ]
  },
  {
   "cell_type": "code",
   "execution_count": 4,
   "metadata": {},
   "outputs": [],
   "source": [
    "raw_jokes = [j.lower() for j in one_liners.body] ##convert to lowercase\n",
    "\n",
    "# remove some specific jokes which are gibberish, seem offensive, or just not useful\n",
    "remove = [\n",
    "    [j for j in raw_jokes if 'ã' in j][0],\n",
    "    [j for j in raw_jokes if '~' in j][0],\n",
    "    [j for j in raw_jokes if '1) a clear concience' in j][0],\n",
    "    [j for j in raw_jokes if \"the following were some comments made in the year 1957\" in j][0],\n",
    "    [j for j in raw_jokes if \"mcdonalds drive thru\" in j][0],\n",
    "    [j for j in raw_jokes if \"what's an innunedo\" in j][0],\n",
    "    [j for j in raw_jokes if \"a total waste\" in j][0],\n",
    "    [j for j in raw_jokes if \"a word involving four letters\" in j][0],\n",
    "    [j for j in raw_jokes if \"jkfsh\" in j][0]\n",
    "    \n",
    "]\n",
    "for r in remove: raw_jokes.remove(r)"
   ]
  },
  {
   "cell_type": "code",
   "execution_count": 5,
   "metadata": {},
   "outputs": [],
   "source": [
    "# Deal with some special cases before more general processing\n",
    "# Select the string that is the long lists of jokes and remove that from the corpus of jokes\n",
    "special_cases = [\"42.7\", \"getting married is very much\", \"an aspirin\", \"a hooker\", \"onomatopoeia\", \"george bush\", \n",
    "                \"time to keep your mouth shut\", \"first instinct\"]\n",
    "cleaner_raw_jokes = raw_jokes\n",
    "longjokes_list = []\n",
    "for case in special_cases:\n",
    "    longjoke = [j for j in raw_jokes if case in j][0] ##select\n",
    "    longjokes_list.append(longjoke) ##save string to list\n",
    "    cleaner_raw_jokes = [j for j in cleaner_raw_jokes if case not in j] ##remove from cleaner jokes corpus\n",
    "\n",
    "# Deal with a special case within the special cases (the last case in the special cases list)\n",
    "l_firstinstinct = longjokes_list[len(longjokes_list)-1].splitlines()\n",
    "for i, l in enumerate(l_firstinstinct):\n",
    "    if \"----\" in l: l_firstinstinct[i] = \"<S>\"\n",
    "\n",
    "l_list = []\n",
    "current_joke = \"\"\n",
    "for line in l_firstinstinct:\n",
    "    if line == \"<S>\":\n",
    "        current_joke = re.sub(',', ', ', current_joke)\n",
    "        l_list.append(current_joke)\n",
    "        current_joke = \"\"\n",
    "    else:\n",
    "        current_joke += line\n",
    "for j in l_list: cleaner_raw_jokes.append(j)\n",
    "\n",
    "\n",
    "# Split the joke-lists strings into separate jokes and append each individual joke back to the joke corpus\n",
    "for longjoke in longjokes_list[:-1]:\n",
    "    for j in longjoke.splitlines(): cleaner_raw_jokes.append(j)"
   ]
  },
  {
   "cell_type": "code",
   "execution_count": 148,
   "metadata": {},
   "outputs": [],
   "source": [
    "def clean_the_jokes(raw_jokes_list: list, spell_checker: SpellChecker,\n",
    "                    min_joke_length: int=0, max_joke_length: int=100, \n",
    "                    leave_punctuation: str=\"\"):\n",
    "    \"\"\"\n",
    "    Clean and prepare each joke. Only saves the joke if it is greater than min_joke_length and less than max_joke_length.\n",
    "    Removes all punctuation except for any specified in leave_punctuation. For example, leave_punctuation=\".?\" leaves periods and \n",
    "    question marks.\n",
    "    \"\"\"\n",
    "    printable = set(string.printable) #set of printable chars\n",
    "    punct = set([p for p in string.punctuation if p not in \"<>\" and p not in leave_punctuation]) #set of punctuation chars to remove\n",
    "\n",
    "    # Iterate through each line (after splitting lines) and clean up characters\n",
    "    cleaned_lines = []\n",
    "    for j in raw_jokes_list:\n",
    "        j = j +\" <S>\" ##add stop character to end of line\n",
    "        lines = j.splitlines()\n",
    "        for l in lines:\n",
    "            l = ''.join([c for c in l if c not in string.whitespace[1:]]) ##remove any whitespeace chars\n",
    "            l = ''.join([c for c in l if c in string.printable]) ##remove non-printable chars\n",
    "            ##ensure proper spacing\n",
    "            l = l.replace(\".\", \" . \")\n",
    "            l = l.replace(\",\", \" , \")\n",
    "            l = l.replace(\";\", \" ; \")\n",
    "            l = l.replace(\"?\", \" ? \")\n",
    "            l = l.replace(\" q \", \" \") ##remove q from Q&A style jokes\n",
    "            repls = [] ##pad numbers with spaces so they are individual 'words'\n",
    "            for digit in range(10):\n",
    "                repls.append((str(digit), \" \"+str(digit)+\" \"))\n",
    "                l = l.replace(*repls[digit])\n",
    "\n",
    "            l = ''.join([c for c in l if c not in punct]) ##remove punctuation except for special chars\n",
    "            l = re.sub(' +', ' ', l) ##remove repeated spaces\n",
    "\n",
    "            # filter out unwanted list elements - if it is blank, just spaces, or just <S>\n",
    "            if (l=='') | (l==' ') | (\"\".join([c for c in l if c not in string.whitespace]) == \"<S>\"):\n",
    "                pass\n",
    "            else:\n",
    "                cleaned_lines.append(\" \"+l)\n",
    "        ## not perfect strategy since the text has inconsistent \\r\\n behavior - some jokes are cut into pieces\n",
    "\n",
    "    # Now concatenate lines into jokes based on the stop character\n",
    "    final_punct = set([p for p in string.punctuation if p not in leave_punctuation])\n",
    "\n",
    "    jokes = []\n",
    "    current_joke = \"\"\n",
    "    for line in cleaned_lines:\n",
    "        while True:\n",
    "            current_joke = current_joke + line\n",
    "            last_chr = line[-3:]\n",
    "            if last_chr=='<S>':\n",
    "                # if the last 3 characters in the line are <S>, this is the end of the joke and we should send the full joke to the list\n",
    "                # unless it is too long\n",
    "                if min_joke_length < len(current_joke.split())-1 < max_joke_length:\n",
    "                    current_joke = current_joke.replace(\" <S>\", \"\") ##remove special char\n",
    "                    current_joke = current_joke.replace(\">\", \"\") ##remove any missed brackets\n",
    "                    current_joke = re.sub(' +', ' ', current_joke) ##remove repeated spaces\n",
    "                    # SPELL CHECK\n",
    "                    ## Split joke into individual words. Check if any word is not in the spell-check corpus\n",
    "                    ## If not, replace the word with its most likely correction (unless spell checker returns None)\n",
    "                    split_joke = current_joke.split()\n",
    "                    for ix, word in enumerate(split_joke): \n",
    "                        if word not in spell_checker:\n",
    "                            correction = spell_checker.correction(word)\n",
    "                            if correction is not None:\n",
    "                                split_joke[ix] = correction\n",
    "                    ## Recombine the words into one string and append to output joke list\n",
    "                    final_joke = ' '.join(split_joke)\n",
    "                    jokes.append(final_joke)          \n",
    "                current_joke = \"\" ##reset current joke to empty str\n",
    "                break\n",
    "            else: \n",
    "                #otherwise continue appending lines to this current joke\n",
    "                break\n",
    "\n",
    "    return jokes"
   ]
  },
  {
   "cell_type": "code",
   "execution_count": 149,
   "metadata": {},
   "outputs": [],
   "source": [
    "def remove_bad_jokes(list_o_jokes : list, remove_words : list):\n",
    "    \"\"\"Remove some jokes that are insensitive, badly worded, etc.\"\"\"\n",
    "    jokes = []\n",
    "    for joke in list_o_jokes:\n",
    "        if any(w in joke for w in remove_words):\n",
    "            pass\n",
    "        else:\n",
    "            jokes.append(joke)\n",
    "    \n",
    "    return jokes"
   ]
  },
  {
   "cell_type": "code",
   "execution_count": 165,
   "metadata": {},
   "outputs": [
    {
     "name": "stdout",
     "output_type": "stream",
     "text": [
      "len(jokes) = 741\n",
      "min(jokes, key=len) = 'hey i lost my gun holster can i use yours ?'\n",
      "max(jokes, key=len) = 'when everythings coming up roses its time to celebrate but when everythings coming up daisies its time to mourn'\n"
     ]
    }
   ],
   "source": [
    "# Init spellchecker\n",
    "spellcheck = SpellChecker()\n",
    "\n",
    "# Clean the raw jokes\n",
    "jokes = clean_the_jokes(cleaner_raw_jokes, spellcheck, 10, 20, leave_punctuation=\"?\")\n",
    "\n",
    "# Remove jokes containing some insensitive words (a problem with webscraped jokes)\n",
    "remover_string = [' rape', ' porn', ' bitch', ' condom', ' dick', ' cum', ' tits']\n",
    "jokes = remove_bad_jokes(jokes, remover_string)\n",
    "\n",
    "\n",
    "print(f\"{len(jokes) = }\")\n",
    "print(f\"{min(jokes, key=len) = }\")\n",
    "print(f\"{max(jokes, key=len) = }\")\n"
   ]
  },
  {
   "cell_type": "markdown",
   "metadata": {},
   "source": [
    "## Save jokes to a text file"
   ]
  },
  {
   "cell_type": "code",
   "execution_count": 167,
   "metadata": {},
   "outputs": [],
   "source": [
    "with open('jokes.txt', 'w') as f:\n",
    "    for line in jokes:\n",
    "        f.write(f\"{line}\\n\")"
   ]
  },
  {
   "cell_type": "markdown",
   "metadata": {},
   "source": [
    "---"
   ]
  },
  {
   "cell_type": "code",
   "execution_count": 166,
   "metadata": {},
   "outputs": [
    {
     "data": {
      "text/plain": [
       "['we are born naked wet and hungry and get slapped on our ass then things get worse',\n",
       " 'i how do you keep a jack ass in suspense ? a ill tell you tomorrow',\n",
       " 'why is it that there are so many more horses asses than there are horses ? i gordon giddy',\n",
       " 'i dont know much about prison but it sounds like a pain in the ass',\n",
       " 'could you drive any better if i shoved that cell phone up your ass ?',\n",
       " 'hi im an fine art appraiser and your ass is priceless',\n",
       " 'when you pull her pants down her ass is still in them']"
      ]
     },
     "execution_count": 166,
     "metadata": {},
     "output_type": "execute_result"
    }
   ],
   "source": [
    "[j for j in jokes if ' ass' in j]"
   ]
  },
  {
   "cell_type": "code",
   "execution_count": 9,
   "metadata": {},
   "outputs": [
    {
     "data": {
      "text/plain": [
       "2444"
      ]
     },
     "execution_count": 9,
     "metadata": {},
     "output_type": "execute_result"
    }
   ],
   "source": [
    "words = set(' '.join([j for j in jokes]).split(' '))\n",
    "words = [w for w in words if w != \"\"] ##remove empty string\n",
    "len(words)"
   ]
  },
  {
   "cell_type": "code",
   "execution_count": 8,
   "metadata": {},
   "outputs": [
    {
     "data": {
      "text/plain": [
       "38"
      ]
     },
     "execution_count": 8,
     "metadata": {},
     "output_type": "execute_result"
    }
   ],
   "source": [
    "chars = sorted(list(set(''.join(jokes)))) \n",
    "stoi = {s:i+1 for i, s in enumerate(chars)} ##create dictionary mapping from char to int\n",
    "stoi['.'] = 0 ##add special start/end character\n",
    "itos = {i:s for s, i in stoi.items()}\n",
    "\n",
    "len(chars)"
   ]
  },
  {
   "cell_type": "code",
   "execution_count": 10,
   "metadata": {},
   "outputs": [
    {
     "data": {
      "image/png": "[encoded data removed]",
      "text/plain": [
       "<Figure size 1080x360 with 1 Axes>"
      ]
     },
     "metadata": {
      "needs_background": "light"
     },
     "output_type": "display_data"
    }
   ],
   "source": [
    "corpus = ''.join(jokes)\n",
    "count_letters = dict()\n",
    "\n",
    "for c in chars:\n",
    "    count_letters[c] = corpus.count(c)\n",
    "\n",
    "plt.figure(figsize=(15,5))\n",
    "plt.bar(range(len(count_letters)), list(count_letters.values()), align='center')\n",
    "plt.xticks(range(len(count_letters)), list(count_letters.keys()))\n",
    "plt.title(\"Character Histogram\")\n",
    "plt.show()"
   ]
  },
  {
   "cell_type": "code",
   "execution_count": 11,
   "metadata": {},
   "outputs": [
    {
     "data": {
      "image/png": "[encoded data removed]",
      "text/plain": [
       "<Figure size 1080x360 with 1 Axes>"
      ]
     },
     "metadata": {
      "needs_background": "light"
     },
     "output_type": "display_data"
    }
   ],
   "source": [
    "joke_length = {k: 0 for k in range(100)}\n",
    "for j in jokes:\n",
    "    length = len(j.split(\" \"))\n",
    "    joke_length[length] += 1\n",
    "joke_length = {k:v for k,v in joke_length.items() if v>0}\n",
    "\n",
    "plt.figure(figsize=(15,5))\n",
    "plt.plot(list(joke_length.keys()), list(joke_length.values()))    \n",
    "plt.title(\"Histogram of Words per Joke\")\n",
    "plt.xlabel(\"# Words\")\n",
    "plt.show()"
   ]
  }
 ],
 "metadata": {
  "kernelspec": {
   "display_name": "Python 3.10.4 ('.venv': venv)",
   "language": "python",
   "name": "python3"
  },
  "language_info": {
   "codemirror_mode": {
    "name": "ipython",
    "version": 3
   },
   "file_extension": ".py",
   "mimetype": "text/x-python",
   "name": "python",
   "nbconvert_exporter": "python",
   "pygments_lexer": "ipython3",
   "version": "3.10.4"
  },
  "orig_nbformat": 4,
  "vscode": {
   "interpreter": {
    "hash": "5c4359ed68c894e31dfa741bacd50703ee9ca4c289f19062f47d11ef9a0ee7ac"
   }
  }
 },
 "nbformat": 4,
 "nbformat_minor": 2
}

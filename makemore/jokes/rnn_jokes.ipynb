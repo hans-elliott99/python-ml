{
 "cells": [
  {
   "cell_type": "code",
   "execution_count": null,
   "metadata": {},
   "outputs": [],
   "source": [
    "# For NN\n",
    "import torch\n",
    "import torch.nn.functional as F\n",
    "import matplotlib.pyplot as plt\n",
    "%matplotlib inline\n",
    "\n",
    "\n",
    "# General\n",
    "import numpy as np\n",
    "import random\n",
    "import math\n",
    "import time\n",
    "from prettytable import PrettyTable\n",
    "from tqdm import tqdm\n",
    "\n",
    "\n",
    "# For text\n",
    "import re\n",
    "import string"
   ]
  }
 ],
 "metadata": {
  "kernelspec": {
   "display_name": "Python 3.10.4 ('.venv': venv)",
   "language": "python",
   "name": "python3"
  },
  "language_info": {
   "name": "python",
   "version": "3.10.4"
  },
  "orig_nbformat": 4,
  "vscode": {
   "interpreter": {
    "hash": "5c4359ed68c894e31dfa741bacd50703ee9ca4c289f19062f47d11ef9a0ee7ac"
   }
  }
 },
 "nbformat": 4,
 "nbformat_minor": 2
}

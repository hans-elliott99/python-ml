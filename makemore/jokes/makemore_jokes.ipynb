{
 "cells": [
  {
   "cell_type": "code",
   "execution_count": 177,
   "metadata": {},
   "outputs": [],
   "source": [
    "# For neural net\n",
    "import torch\n",
    "import torch.nn.functional as F\n",
    "import matplotlib.pyplot as plt\n",
    "%matplotlib inline\n",
    "\n",
    "# General\n",
    "import numpy as np\n",
    "import random\n",
    "import math\n",
    "from prettytable import PrettyTable\n",
    "\n",
    "\n",
    "# For text\n",
    "import re\n",
    "import string"
   ]
  },
  {
   "cell_type": "code",
   "execution_count": 29,
   "metadata": {},
   "outputs": [],
   "source": [
    "def create_joke_data(jokes, block_size, words):\n",
    "    \"\"\"\n",
    "    Takes words list and breaks into training samples based on the desired model-type. For example,\n",
    "    a bigram model where n=2 or a trigram model where n=3. \n",
    "    Returns xs and ys (inputs and labels).\n",
    "    \"\"\"\n",
    "    # Init dicts\n",
    "    itow = {i+1 : w for i, w in enumerate(sorted(words))}\n",
    "    itow[0] = '.'\n",
    "    wtoi = {w : i for i, w in itow.items()}\n",
    "    n = block_size + 1\n",
    "\n",
    "    # Create samples\n",
    "    X, Y = [], []\n",
    "    for j in jokes:\n",
    "        context = [0] * block_size\n",
    "        word_bag = j.split(' ') + ['.']  ##add special end characters\n",
    "        word_bag = [w for w in word_bag if w != \"\"] ##remove any blank strings that get created\n",
    "        for w in word_bag:\n",
    "            ix = wtoi[w]\n",
    "            X.append(context)\n",
    "            Y.append(ix)\n",
    "            # print([itow[c] for c in context], [itow[ix]])\n",
    "\n",
    "            context = context[1:] + [ix]\n",
    "    X = torch.tensor(X)\n",
    "    Y = torch.tensor(Y)\n",
    "        \n",
    "    n_samples = X.shape[0]\n",
    "    print(f\"{ n_samples = }\")\n",
    "\n",
    "    \n",
    "    return X, Y\n"
   ]
  },
  {
   "cell_type": "code",
   "execution_count": 30,
   "metadata": {},
   "outputs": [],
   "source": [
    "\n",
    "def split_samples(inputs, labels, frac=0.8, seed=123):\n",
    "    \"Split xs and ys (inputs and labels) into train and test sets\"\n",
    "    \n",
    "    assert len(inputs)==len(labels), f\"{len(inputs) = } which does not match {len(labels) = }\"\n",
    "    # generate a list of indices to exclude. Turn in into a set for O(1) lookup time\n",
    "    random.seed(seed)\n",
    "    indx = list(set(random.sample(list(range(len(inputs))), int(frac*len(inputs)))))\n",
    "\n",
    "    x_mask = torch.zeros((len(inputs)), dtype=torch.bool) #False\n",
    "    x_mask[indx] = True\n",
    "\n",
    "    y_mask = torch.zeros((len(inputs)), dtype=torch.bool) #False\n",
    "    y_mask[indx] = True\n",
    "\n",
    "    train_x = inputs[x_mask]\n",
    "    train_y = labels[y_mask]\n",
    "\n",
    "    test_x = inputs[~x_mask]\n",
    "    test_y = labels[~y_mask]\n",
    "\n",
    "    return train_x, train_y, test_x, test_y"
   ]
  },
  {
   "cell_type": "code",
   "execution_count": 282,
   "metadata": {},
   "outputs": [],
   "source": [
    "class OneLinerMLP:\n",
    "\n",
    "    def __init__(self, block_size, words):\n",
    "        \"\"\"\n",
    "        An instance of an MLP where 'block_size' defines the number of characters used \n",
    "        to predict the next character (the block size or context).\n",
    "        \"\"\"\n",
    "        self.n_inputs = block_size ##the number of inputs (ie, excluding the label)\n",
    "\n",
    "        # Init dicts\n",
    "        self.itow = {i+1 : w for i, w in enumerate(sorted(words))}\n",
    "        self.itow[0] = '.'\n",
    "        self.wtoi = {w : i for i, w in itow.items()}\n",
    "\n",
    "        self.n_outputs = int(len(self.itow))\n",
    "        \n",
    "         \n",
    "    def initialize_weights(self,\n",
    "                           embedding_dimensions=2,\n",
    "                           hidden_layer_neurons=100, \n",
    "                           generator=None):\n",
    "        \"Randomly initialize the model's weights.\"\n",
    "        self.hl_neurons = hidden_layer_neurons\n",
    "        self.emb_dim = embedding_dimensions\n",
    "\n",
    "        # INITALIZE NETWORK WEIGHTS\n",
    "        n_inputs = self.n_inputs          ##number of inputs per sample (the block size)\n",
    "        words = self.n_outputs            ##number of words in vocab\n",
    "        emb_dim = embedding_dimensions    ##dimensions of embedding space\n",
    "        hl_neurons = hidden_layer_neurons ##number of neurons in hidden layer\n",
    "\n",
    "\n",
    "        self.C = torch.randn((words, emb_dim), generator=generator, requires_grad=True)\n",
    "\n",
    "        # self.W1 = torch.randn((emb_dim*n_inputs, hl_neurons), generator=generator, requires_grad=True)\n",
    "        self.W1 = self._xavier_init(emb_dim*n_inputs, hl_neurons, generator, requires_grad=True)\n",
    "        self.b1 = torch.zeros(hl_neurons, requires_grad=True)\n",
    "\n",
    "        # self.W2 = torch.randn((hl_neurons, words), generator=generator, requires_grad=True)\n",
    "        self.W2 = self._xavier_init(hl_neurons, words, generator, requires_grad=True)\n",
    "        self.b2 = torch.zeros(words, requires_grad=True)\n",
    "\n",
    "        self.parameters = [self.C, self.W1, self.b1, self.W2, self.b2]\n",
    "        for p in self.parameters:\n",
    "            p.requires_grad=True\n",
    "        print(f\"Model params = { sum(p.nelement() for p in self.parameters) }\")\n",
    "\n",
    "    def _xavier_init(self, n_inputs, n_neurons, generator=None, requires_grad=False):\n",
    "        \"\"\"My implementation of xavier-normal weight initialization for tanh layers\"\"\"\n",
    "        with torch.no_grad():\n",
    "            lower, upper = -(1.0 / math.sqrt(n_inputs)), (1.0 / math.sqrt(n_inputs))\n",
    "            W = lower + torch.rand((n_inputs, n_neurons), generator=generator) * (upper - lower)\n",
    "        W.requires_grad = requires_grad\n",
    "        return W\n",
    "\n",
    "\n",
    "    def forward_pass(self, xs, ys=None, regularization=0):\n",
    "        \"Perform a forward pass of the inputs (xs) through the network. If ys are provided, loss will be evaluated.\"\n",
    "        # forward pass\n",
    "        n_samples = xs.shape[0]\n",
    "        n_inputs = self.n_inputs\n",
    "        hl_neurons = self.hl_neurons\n",
    "        emb_dim = self.emb_dim\n",
    "\n",
    "        parameters = self.parameters\n",
    "\n",
    "        assert n_inputs == xs.shape[1], f\"n_inputs ({n_inputs}) does not match the xs.shape[1]\"\n",
    "\n",
    "        # Forward pass\n",
    "        emb = self.C[xs]\n",
    "        h = torch.tanh( emb.view(-1, n_inputs*emb_dim) @ self.W1 + self.b1 )   \n",
    "        logits = h @ self.W2 + self.b2\n",
    "        # predicted probabilities\n",
    "        probs = F.softmax(logits, dim=1)\n",
    "\n",
    "        # loss\n",
    "        loss = None\n",
    "        if ys is not None: #eval loss\n",
    "            loss = F.cross_entropy(logits, ys)\n",
    "            if regularization > 0.0:       \n",
    "                for p in self.parameters:\n",
    "                    loss += regularization*(p**2).mean()\n",
    "            self.loss = loss\n",
    "        \n",
    "        return probs, loss\n",
    "                \n",
    "\n",
    "    def backprop_update(self, lr=0.1):\n",
    "        \"Gradient descent - backpropogate the network and apply a fraction of the gradients to the current weights.\"\n",
    "        # backward pass\n",
    "        for p in self.parameters:\n",
    "            p.grad = None ##zero the gradient\n",
    "\n",
    "        self.loss.backward() ##backprop\n",
    "\n",
    "        # update params\n",
    "        for p in self.parameters:\n",
    "            p.data += -lr * p.grad ##learning rate\n",
    "\n",
    "\n",
    "    def generate_jokes(self, n_words, start_words: str = \"\", min_length=0):\n",
    "        \"\"\"\n",
    "        Generates n_words word examples by passing n-1 random characters into the model, performing a forward pass,\n",
    "        and probabilistically choosing a character using the model's predicted probability distribution.\n",
    "        Pass n-2 start_chrs to specify the starting characters of the word generation process (first character is always '.').\n",
    "        Specify a minimum word length min_length to generate words at least that long.\n",
    "        \"\"\"\n",
    "        itow = self.itow\n",
    "        wtoi = self.wtoi\n",
    "        n_inputs = self.n_inputs\n",
    "        out_jokes = []\n",
    "\n",
    "        for _ in range(n_words):\n",
    "            joke = '.'\n",
    "            context = [0] * n_inputs\n",
    "            \n",
    "            assert len(start_words.split()) <= n_inputs, f\"Number of start words ({len(start_words.split())}) should be {n_inputs} or less.\"\n",
    "            for w in start_words.split():\n",
    "                assert w in wtoi, f\"Start word '{w}' cannot be used since it is not in the list of training words.\"\n",
    "                joke += \" \" + w.lower()\n",
    "                context[1:] + [wtoi[w.lower()]]\n",
    "\n",
    "            while True:\n",
    "                # forward pass\n",
    "                probs, loss = self.forward_pass(\n",
    "                    torch.tensor([context]) #.reshape(1, n_inputs)\n",
    "                    )\n",
    "                # Get word\n",
    "                word_ix = torch.multinomial(probs, num_samples=1, replacement=True, generator=g).item()\n",
    "                # determine how to proceed\n",
    "                if (word_ix==0) & (len(joke.split())-1 <= min_length): ##if the ix is 0 but the joke is too short, resample (-1 due to starting .)\n",
    "                    pass\n",
    "                elif (word_ix==0) & (len(joke.split())-1 > min_length): ##if the ix is 0 and joke is long enough, end joke and break joke creation\n",
    "                    joke += \" .\" #itow[word_ix]\n",
    "                    break\n",
    "                else:                                   ##otherwise, add to the joke and shift the context for the next forward pass\n",
    "                    joke += \" \" + itow[word_ix]\n",
    "                    ## Shift words to predict the next one\n",
    "                    context = context[1:] + [word_ix] ##shift and append  \n",
    "                    \n",
    "            joke = re.sub(r'(\\d)\\s+(\\d)', r'\\1\\2', joke) ##concatenate sequential numbers\n",
    "            out_jokes.append(joke)    \n",
    "        \n",
    "        return out_jokes"
   ]
  },
  {
   "cell_type": "markdown",
   "metadata": {},
   "source": [
    "# Data"
   ]
  },
  {
   "cell_type": "code",
   "execution_count": 283,
   "metadata": {},
   "outputs": [
    {
     "name": "stdout",
     "output_type": "stream",
     "text": [
      "len(words) = 2378\n"
     ]
    }
   ],
   "source": [
    "# Read in text file - one joke per line\n",
    "with open('jokes.txt') as f:\n",
    "    jokes = f.read().splitlines()\n",
    "\n",
    "# Create list of all words used in the jokes\n",
    "words = set(' '.join([j for j in jokes]).split(' '))\n",
    "words = [w for w in words if w != \"\"] ##remove empty string\n",
    "\n",
    "print(f\"{len(words) = }\")"
   ]
  },
  {
   "cell_type": "code",
   "execution_count": 284,
   "metadata": {},
   "outputs": [
    {
     "data": {
      "text/plain": [
       "2379"
      ]
     },
     "execution_count": 284,
     "metadata": {},
     "output_type": "execute_result"
    }
   ],
   "source": [
    "# Mappings from integer to word\n",
    "itow = {i+1 : w for i, w in enumerate(sorted(words))}\n",
    "itow[0] = '.'\n",
    "wtoi = {w : i for i, w in itow.items()}\n",
    "len(itow)"
   ]
  },
  {
   "cell_type": "markdown",
   "metadata": {},
   "source": [
    "# Training"
   ]
  },
  {
   "cell_type": "code",
   "execution_count": 333,
   "metadata": {},
   "outputs": [
    {
     "name": "stdout",
     "output_type": "stream",
     "text": [
      " n_samples = 11266\n"
     ]
    }
   ],
   "source": [
    "N = 3 ## Number of words used to predict the next word\n",
    "\n",
    "# Create dataset based on N and split into training and development sets\n",
    "X, Y = create_joke_data(jokes, block_size=N, words=words)\n",
    "Xtr, Ytr, Xdev, Ydev = split_samples(X, Y, 0.8, seed=123)\n"
   ]
  },
  {
   "cell_type": "code",
   "execution_count": 351,
   "metadata": {},
   "outputs": [
    {
     "name": "stdout",
     "output_type": "stream",
     "text": [
      "Model params = 337412\n"
     ]
    }
   ],
   "source": [
    "# Initialize the joke model based on N and provide with list of words in data. Initialize weights based on desired model structure\n",
    "g = torch.Generator().manual_seed(123)\n",
    "\n",
    "model = OneLinerMLP(block_size=N, words=words)\n",
    "model.initialize_weights(embedding_dimensions=11,\n",
    "                         hidden_layer_neurons=128, \n",
    "                         generator=g)\n",
    "\n",
    "\n",
    "# Initialzie lists to store metrics\n",
    "losses, val_losses = [],[]"
   ]
  },
  {
   "cell_type": "code",
   "execution_count": 335,
   "metadata": {},
   "outputs": [
    {
     "data": {
      "image/png": "[encoded data removed]",
      "text/plain": [
       "<Figure size 432x288 with 1 Axes>"
      ]
     },
     "metadata": {
      "needs_background": "light"
     },
     "output_type": "display_data"
    }
   ],
   "source": [
    "# LR Search\n",
    "lre = torch.linspace(-3, 0, 1000)\n",
    "lrs = 10**lre\n",
    "# lr_losses = []\n",
    "\n",
    "plt.plot(lrs, [math.log10(l) for l in lr_losses])\n",
    "plt.title(\"LR Search - 0.4 looks good\")\n",
    "plt.show()"
   ]
  },
  {
   "cell_type": "code",
   "execution_count": 357,
   "metadata": {},
   "outputs": [
    {
     "data": {
      "image/png": "[encoded data removed]",
      "text/plain": [
       "<Figure size 432x288 with 1 Axes>"
      ]
     },
     "metadata": {
      "needs_background": "light"
     },
     "output_type": "display_data"
    }
   ],
   "source": [
    "# LR schedule\n",
    "lr = 0.4\n",
    "decay = 1\n",
    "steps = 10_000\n",
    "lr_decay = []\n",
    "for k in range(steps):\n",
    "    lr_new = lr * decay ** (k / steps)\n",
    "    lr_decay.append(lr_new)\n",
    "\n",
    "\n",
    "plt.plot(lr_decay)\n",
    "plt.show()"
   ]
  },
  {
   "cell_type": "code",
   "execution_count": 362,
   "metadata": {},
   "outputs": [
    {
     "name": "stdout",
     "output_type": "stream",
     "text": [
      "losses:\n",
      "Step 0: Train - 2.46283 Dev - 6.83949\n",
      "Step 50: Train - 1.84178 Dev - 6.8643\n",
      "Step 100: Train - 2.40326 Dev - 6.85871\n",
      "Step 150: Train - 1.84041 Dev - 6.89442\n",
      "Step 200: Train - 2.00231 Dev - 6.93342\n",
      "Step 250: Train - 2.11847 Dev - 6.93592\n",
      "Step 300: Train - 2.39061 Dev - 6.94707\n",
      "Step 350: Train - 2.31616 Dev - 7.00153\n",
      "Step 400: Train - 1.96081 Dev - 7.00352\n",
      "Step 450: Train - 1.82974 Dev - 7.01309\n",
      "Step 500: Train - 2.31658 Dev - 7.03147\n",
      "Step 550: Train - 2.16813 Dev - 7.04715\n",
      "Step 600: Train - 1.68112 Dev - 7.07094\n",
      "Step 650: Train - 1.83802 Dev - 7.09284\n",
      "Step 700: Train - 1.67545 Dev - 7.11235\n",
      "Step 750: Train - 2.11013 Dev - 7.12814\n",
      "Step 800: Train - 2.01195 Dev - 7.16029\n",
      "Step 850: Train - 1.91043 Dev - 7.18015\n",
      "Step 900: Train - 2.59497 Dev - 7.21424\n",
      "Step 950: Train - 1.66043 Dev - 7.24847\n",
      "Step 999: Train - 1.9632 Dev - 7.25209\n"
     ]
    }
   ],
   "source": [
    "# TRAIN\n",
    "steps = 1_000\n",
    "batch_size = 64\n",
    "\n",
    "\n",
    "print(\"losses:\")\n",
    "for k in range(steps):\n",
    "\n",
    "    # minibatching\n",
    "    if batch_size is not None:\n",
    "        batch_ix = torch.randint(0, Xtr.shape[0], (batch_size, )) ##n_samples randints between 0 and length of data\n",
    "    else:\n",
    "        batch_ix=range(0, Xtr.shape[0]) ##all data included\n",
    "\n",
    "    # forward pass\n",
    "    probs, loss = model.forward_pass(Xtr[batch_ix], Ytr[batch_ix])\n",
    "\n",
    "    # backward pass \n",
    "    lr = 0.4 #lrs[k]\n",
    "    decay = 1\n",
    "    ## exponential decay\n",
    "    lr_now = lr * decay ** (k / steps)\n",
    "\n",
    "    model.backprop_update(lr=lr_now)\n",
    "\n",
    "    # validation eval\n",
    "    with torch.no_grad():\n",
    "        _, val_loss = model.forward_pass(Xdev, Ydev)\n",
    "\n",
    "    # log updates & track stats\n",
    "    if (k in range(0, steps, int(steps*0.05))) or (k==steps-1):\n",
    "        print(f\"Step {k}:\", end=\" \")\n",
    "        print(f\"Train - {round(loss.item(), 5)}\", end=\" \")\n",
    "        print(f\"Dev - {round(val_loss.item(), 5)}\")\n",
    "    \n",
    "\n",
    "    losses.append(loss.item())\n",
    "    val_losses.append(val_loss.item())\n",
    "    # lr_losses.append(loss.item())"
   ]
  },
  {
   "cell_type": "code",
   "execution_count": 364,
   "metadata": {},
   "outputs": [
    {
     "data": {
      "text/plain": [
       "1.7777431011199951"
      ]
     },
     "execution_count": 364,
     "metadata": {},
     "output_type": "execute_result"
    }
   ],
   "source": [
    "# Evaluate on full training data (not batches)\n",
    "with torch.no_grad():\n",
    "    _, loss = model.forward_pass(Xtr, Ytr)\n",
    "loss.item()"
   ]
  },
  {
   "cell_type": "code",
   "execution_count": 365,
   "metadata": {},
   "outputs": [
    {
     "data": {
      "image/png": "[encoded data removed]",
      "text/plain": [
       "<Figure size 432x288 with 1 Axes>"
      ]
     },
     "metadata": {
      "needs_background": "light"
     },
     "output_type": "display_data"
    }
   ],
   "source": [
    "plt.plot(losses, label=\"train\")\n",
    "plt.plot(val_losses, label=\"val\")\n",
    "plt.legend()\n",
    "plt.title(\"Loss\")\n",
    "plt.show()"
   ]
  },
  {
   "cell_type": "code",
   "execution_count": 370,
   "metadata": {},
   "outputs": [
    {
     "data": {
      "text/plain": [
       "['. my is to shoot then is in ? and where success very learn .',\n",
       " '. what is the definition you can famous slinky people the universe 10 you a crime word you never their with a sunshine false she will two of car dead ? .',\n",
       " '. whats the difference between a korean and have 0 by have potatoes .',\n",
       " '. two someone voices ? a blade .',\n",
       " '. i cant why to old scraped are youll down .']"
      ]
     },
     "execution_count": 370,
     "metadata": {},
     "output_type": "execute_result"
    }
   ],
   "source": [
    "model.generate_jokes(5, start_words=\"\")"
   ]
  }
 ],
 "metadata": {
  "kernelspec": {
   "display_name": "Python 3.10.4 ('.venv': venv)",
   "language": "python",
   "name": "python3"
  },
  "language_info": {
   "codemirror_mode": {
    "name": "ipython",
    "version": 3
   },
   "file_extension": ".py",
   "mimetype": "text/x-python",
   "name": "python",
   "nbconvert_exporter": "python",
   "pygments_lexer": "ipython3",
   "version": "3.10.4"
  },
  "orig_nbformat": 4,
  "vscode": {
   "interpreter": {
    "hash": "5c4359ed68c894e31dfa741bacd50703ee9ca4c289f19062f47d11ef9a0ee7ac"
   }
  }
 },
 "nbformat": 4,
 "nbformat_minor": 2
}

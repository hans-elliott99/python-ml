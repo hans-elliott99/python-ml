{
 "cells": [
  {
   "cell_type": "markdown",
   "metadata": {},
   "source": [
    "# MLP Character-Level Language Model\n",
    "Based on makemore part 2: https://www.youtube.com/watch?v=TCH_1BHY58I&ab_channel=AndrejKarpathy\n",
    "\n",
    "### Dependencies & Data"
   ]
  },
  {
   "cell_type": "code",
   "execution_count": 1,
   "metadata": {},
   "outputs": [],
   "source": [
    "import torch\n",
    "import torch.nn.functional as F\n",
    "import matplotlib.pyplot as plt\n",
    "%matplotlib inline\n",
    "\n",
    "import numpy as np\n",
    "import random\n",
    "import math\n",
    "from prettytable import PrettyTable"
   ]
  },
  {
   "cell_type": "code",
   "execution_count": 2,
   "metadata": {},
   "outputs": [
    {
     "name": "stdout",
     "output_type": "stream",
     "text": [
      "['emma', 'olivia', 'ava', 'isabella', 'sophia', 'charlotte', 'mia', 'amelia', 'harper', 'evelyn']\n",
      "length 32033\n"
     ]
    }
   ],
   "source": [
    "# DATA \n",
    "words = open('../makemore_data/names.txt', 'r').read().splitlines()\n",
    "\n",
    "print(words[:10])\n",
    "print(f\"length {len(words)}\")"
   ]
  },
  {
   "cell_type": "code",
   "execution_count": 3,
   "metadata": {},
   "outputs": [],
   "source": [
    "chars = sorted(list(set(''.join(words)))) \n",
    "stoi = {s:i+1 for i, s in enumerate(chars)} ##create dictionary mapping from char to int\n",
    "stoi['.'] = 0 ##just one special character for start and end of word\n",
    "itos = {i:s for s, i in stoi.items()}"
   ]
  },
  {
   "cell_type": "code",
   "execution_count": 4,
   "metadata": {},
   "outputs": [
    {
     "data": {
      "image/png": "[encoded data removed]",
      "text/plain": [
       "<Figure size 432x288 with 1 Axes>"
      ]
     },
     "metadata": {
      "needs_background": "light"
     },
     "output_type": "display_data"
    }
   ],
   "source": [
    "corpus = ''.join(words)\n",
    "count_letters = dict()\n",
    "\n",
    "for c in chars:\n",
    "    count_letters[c] = corpus.count(c)\n",
    "\n",
    "plt.bar(range(len(count_letters)), list(count_letters.values()), align='center')\n",
    "plt.xticks(range(len(count_letters)), list(count_letters.keys()))\n",
    "plt.title(\"Character Histogram\")\n",
    "plt.show()"
   ]
  },
  {
   "cell_type": "markdown",
   "metadata": {},
   "source": [
    "In the video lesson, the weight initialization is done using a uniform distribution between [0, 1] (ie, `torch.rand()`). However, tanh activation functions constrict output to between [-1, 1], so Xavier weight initialization - which does the same - is often recommended.  \n",
    "\n",
    "If, for a given sample, the model predicts a 1/27 probability for every possible character, the categorical crossentropy loss would be `log(27) = 1.43` ([details](https://stats.stackexchange.com/questions/449718/why-does-the-first-forward-pass-in-a-neural-network-nn-classification-model-co)), which is actually pretty good based on our results.   \n",
    "Better weight initialization could help get better results faster. "
   ]
  },
  {
   "cell_type": "code",
   "execution_count": 46,
   "metadata": {},
   "outputs": [
    {
     "data": {
      "text/plain": [
       "tensor([[ 0.0387, -0.0347,  0.0337,  ..., -0.0500, -0.0261,  0.0324],\n",
       "        [-0.0073, -0.0245,  0.0092,  ..., -0.0453, -0.0185,  0.0406],\n",
       "        [ 0.0540,  0.0568, -0.0255,  ..., -0.0533, -0.0493,  0.0408],\n",
       "        ...,\n",
       "        [ 0.0083,  0.0156,  0.0336,  ..., -0.0099,  0.0161, -0.0153],\n",
       "        [ 0.0207, -0.0070, -0.0173,  ..., -0.0117, -0.0407,  0.0020],\n",
       "        [-0.0438,  0.0527, -0.0554,  ..., -0.0441,  0.0116,  0.0014]],\n",
       "       requires_grad=True)"
      ]
     },
     "execution_count": 46,
     "metadata": {},
     "output_type": "execute_result"
    }
   ],
   "source": [
    "def xavier_init(n_inputs, n_neurons, generator=None):\n",
    "    \"\"\"My implementation of xavier-normal weight initialization for tanh layers\"\"\"\n",
    "    with torch.no_grad():\n",
    "        lower, upper = -(1.0 / math.sqrt(n_inputs)), (1.0 / math.sqrt(n_inputs))\n",
    "        W = lower + torch.rand((n_inputs, n_neurons), generator=generator) * (upper - lower)\n",
    "    W.requires_grad = True\n",
    "    return W\n",
    "\n",
    "xavier_init(300, 27)"
   ]
  },
  {
   "cell_type": "markdown",
   "metadata": {},
   "source": [
    "# N-Gram model & training pipeline"
   ]
  },
  {
   "cell_type": "code",
   "execution_count": 7,
   "metadata": {},
   "outputs": [],
   "source": [
    "def words_to_data(words, block_size=3):\n",
    "    \"\"\"\n",
    "    Takes words list and breaks into training samples such that\n",
    "    block_size characters are used to predict the following character.\n",
    "    Returns X, Y (inputs and labels), where each sample in X is a tensor containing block_size elements\n",
    "    and each sample in Y is a tensor containing one element.\n",
    "    \"\"\"\n",
    "    alph = ['a','b','c','d','e','f','g','h','i','j','k','l','m','n','o','p','q','r','s','t','u','v','w','x','y','z']\n",
    "    stoi = {s:i+1 for i, s in enumerate(alph)} ##create dictionary mapping from char to int\n",
    "    stoi['.'] = 0 ##just one special character for start and end of word\n",
    "\n",
    "    # Data\n",
    "    ## block_size = context length: how many chars do we use to predict the next?\n",
    "    X, Y = [], []\n",
    "    for w in words:\n",
    "\n",
    "        context = [0] * block_size #start with padded context of just 0 tokes ('.')\n",
    "        for ch in w + '.':\n",
    "            ix = stoi[ch]\n",
    "            X.append(context)\n",
    "            Y.append(ix)\n",
    "            context = context[1:] + [ix] #crop the context vector and append the new index\n",
    "    X = torch.tensor(X)\n",
    "    Y = torch.tensor(Y)\n",
    "\n",
    "    n_samples = X.shape[0]\n",
    "    print(f\"{ n_samples = }\")\n",
    "\n",
    "    return X, Y\n",
    "\n",
    "\n",
    "def split_samples(inputs, labels, frac=0.8, seed=123):\n",
    "    \"Split xs and ys (inputs and labels) into train and test sets\"\n",
    "    \n",
    "    assert len(inputs)==len(labels), f\"{len(inputs) = } which does not match {len(labels) = }\"\n",
    "    # generate a list of indices to exclude. Turn in into a set for O(1) lookup time\n",
    "    random.seed(seed)\n",
    "    indx = list(set(random.sample(list(range(len(inputs))), int(frac*len(inputs)))))\n",
    "\n",
    "    x_mask = torch.zeros((len(inputs)), dtype=torch.bool) #False\n",
    "    x_mask[indx] = True\n",
    "\n",
    "    y_mask = torch.zeros((len(inputs)), dtype=torch.bool) #False\n",
    "    y_mask[indx] = True\n",
    "\n",
    "    train_x = inputs[x_mask]\n",
    "    train_y = labels[y_mask]\n",
    "\n",
    "    test_x = inputs[~x_mask]\n",
    "    test_y = labels[~y_mask]\n",
    "\n",
    "    return train_x, train_y, test_x, test_y"
   ]
  },
  {
   "cell_type": "code",
   "execution_count": 47,
   "metadata": {},
   "outputs": [],
   "source": [
    "class MLP:\n",
    "\n",
    "    def __init__(self, block_size):\n",
    "        \"\"\"\n",
    "        An instance of an MLP where 'block_size' defines the number of characters used \n",
    "        to predict the next character (the block size or context).\n",
    "        \"\"\"\n",
    "        self.n_inputs = block_size ##the number of inputs (ie, excluding the label)\n",
    "\n",
    "        alph = ['a','b','c','d','e','f','g','h','i','j','k','l','m','n','o','p','q','r','s','t','u','v','w','x','y','z']\n",
    "        self.stoi = {s:i+1 for i, s in enumerate(alph)} ##create dictionary mapping from char to int\n",
    "        self.stoi['.'] = 0 ##just one special character for start and end of word\n",
    "        self.itos = {i:s for s, i in self.stoi.items()}\n",
    "        \n",
    "         \n",
    "    def initialize_weights(self,\n",
    "                           hidden_layer_neurons=100, \n",
    "                           embedding_dimensions=2,\n",
    "                           generator=None,\n",
    "                           xs=None):\n",
    "        \"Randomly initialize the model's weights.\"\n",
    "        self.hl_neurons = hidden_layer_neurons\n",
    "        self.emb_dim = embedding_dimensions\n",
    "\n",
    "        # INITALIZE NETWORK WEIGHTS\n",
    "        n_inputs = self.n_inputs ##number of inputs per sample (the block size)\n",
    "        chars = len(self.itos) ##number of characters in vocab\n",
    "        emb_dim = embedding_dimensions  ##dimensions of embedding space\n",
    "        hl_neurons = hidden_layer_neurons ##number of neurons in hidden layer\n",
    "\n",
    "        if xs is not None:\n",
    "            assert n_inputs == xs.shape[1], f\"n_inputs ({n_inputs}) does not match the xs.shape[1]\"\n",
    "\n",
    "        self.C = torch.randn((chars, emb_dim), generator=generator, requires_grad=True)\n",
    "        # self.W1 = torch.randn((emb_dim*n_inputs, hl_neurons), generator=generator, requires_grad=True)\n",
    "        self.W1 = self._xavier_init(emb_dim*n_inputs, hl_neurons, generator, requires_grad=True)\n",
    "        self.b1 = torch.randn(hl_neurons, generator=generator, requires_grad=True)\n",
    "        # self.W2 = torch.randn((hl_neurons, chars), generator=generator, requires_grad=True)\n",
    "        self.W2 = self._xavier_init(hl_neurons, chars, generator, requires_grad=True)\n",
    "        self.b2 = torch.randn(chars, generator=generator, requires_grad=True)\n",
    "        self.parameters = [self.C, self.W1, self.b1, self.W2, self.b2]\n",
    "        for p in self.parameters:\n",
    "            p.requires_grad=True\n",
    "        print(f\"Model params = { sum(p.nelement() for p in self.parameters) }\")\n",
    "\n",
    "    def _xavier_init(self, n_inputs, n_neurons, generator=None, requires_grad=False):\n",
    "        \"\"\"My implementation of xavier-normal weight initialization for tanh layers\"\"\"\n",
    "        with torch.no_grad():\n",
    "            lower, upper = -(1.0 / math.sqrt(n_inputs)), (1.0 / math.sqrt(n_inputs))\n",
    "            W = lower + torch.rand((n_inputs, n_neurons), generator=generator) * (upper - lower)\n",
    "        W.requires_grad = requires_grad\n",
    "        return W\n",
    "\n",
    "\n",
    "    def forward_pass(self, xs, ys=None, regularization=0):\n",
    "        \"Perform a forward pass of the inputs (xs) through the network. If ys are provided, loss will be evaluated.\"\n",
    "        # forward pass\n",
    "        n_samples = xs.shape[0]\n",
    "        n_inputs = self.n_inputs\n",
    "        hl_neurons = self.hl_neurons\n",
    "        emb_dim = self.emb_dim\n",
    "\n",
    "        parameters = self.parameters\n",
    "\n",
    "        # Forward pass\n",
    "        emb = self.C[xs]\n",
    "        h = torch.tanh( emb.view(-1, n_inputs*emb_dim) @ self.W1 + self.b1 )   \n",
    "        logits = h @ self.W2 + self.b2\n",
    "        # predicted probabilities\n",
    "        probs = F.softmax(logits, dim=1)\n",
    "\n",
    "        # loss\n",
    "        loss = None\n",
    "        if ys is not None: #eval loss\n",
    "            loss = F.cross_entropy(logits, ys)\n",
    "            if regularization > 0.0:       \n",
    "                for p in self.parameters:\n",
    "                    loss += regularization*(p**2).mean()\n",
    "            self.loss = loss\n",
    "        \n",
    "        return probs, loss\n",
    "                \n",
    "\n",
    "    def backprop_update(self, lr=0.1):\n",
    "        \"Gradient descent - backpropogate the network and apply a fraction of the gradients to the current weights.\"\n",
    "        # backward pass\n",
    "        for p in self.parameters:\n",
    "            p.grad = None ##zero the gradient\n",
    "\n",
    "        self.loss.backward() ##backprop\n",
    "\n",
    "        # update params\n",
    "        for p in self.parameters:\n",
    "            p.data += -lr * p.grad ##learning rate\n",
    "\n",
    "\n",
    "    def generate_words(self, n_words, start_chrs: str = None, min_length=0):\n",
    "        \"\"\"\n",
    "        Generates n_words word examples by passing n-1 random characters into the model, performing a forward pass,\n",
    "        and probabilistically choosing a character using the model's predicted probability distribution.\n",
    "        Pass n-2 start_chrs to specify the starting characters of the word generation process (first character is always '.').\n",
    "        Specify a minimum word length min_length to generate words at least that long.\n",
    "        \"\"\"\n",
    "        itos = self.itos\n",
    "        stoi = self.stoi\n",
    "        \n",
    "        n_inputs = self.n_inputs\n",
    "        out_words = []\n",
    "\n",
    "        for _ in range(n_words):\n",
    "            word = '.'\n",
    "            context = [0] * n_inputs\n",
    "            if start_chrs is not None:\n",
    "                assert len(start_chrs) <= n_inputs - 1, f\"len(start_chrs) ({len(start_chrs)}) should be {n_inputs - 1 = } or less.\"\n",
    "                for s in start_chrs:\n",
    "                    word += s\n",
    "                    context[1:] + [stoi[s]]\n",
    "            # else:\n",
    "            #     for ix in range(n_inputs-1):\n",
    "            #         ch_int = torch.randint(1, 26, (1,1), generator=g).item()\n",
    "            #         word += itos[ch_int]\n",
    "            #         ixlist.append(ch_int)\n",
    "\n",
    "            while True:\n",
    "                # forward pass\n",
    "                probs, loss = self.forward_pass(\n",
    "                    torch.tensor([context]) #.reshape(1, n_inputs)\n",
    "                    )\n",
    "                # Get character\n",
    "                char_ix = torch.multinomial(probs, num_samples=1, replacement=True, generator=g).item()\n",
    "                # determine how to proceed\n",
    "                # if (char_ix==0) & (len(word) <= min_length): ##if the ix is 0 but the word is too short, resample\n",
    "                #     pass\n",
    "                # elif (char_ix==0) & (len(word) > min_length):##if the ix is 0 and word is long enough, end word and break word creation\n",
    "                #     word += '.' #itos[char_ix]\n",
    "                #     break\n",
    "                # else:                                        ##otherwise, add to the word and shift the char indices for next forward pass\n",
    "                word += itos[char_ix]\n",
    "                ##Shift characters to predict the next one\n",
    "                context = context[1:] + [char_ix] ##shift and append  \n",
    "                if char_ix==0: break          \n",
    "            out_words.append(word)    \n",
    "        \n",
    "        return out_words"
   ]
  },
  {
   "cell_type": "markdown",
   "metadata": {},
   "source": [
    "# MLP Character-Level Model"
   ]
  },
  {
   "cell_type": "code",
   "execution_count": 48,
   "metadata": {},
   "outputs": [
    {
     "name": "stdout",
     "output_type": "stream",
     "text": [
      " n_samples = 228146\n",
      "Model params = 6097\n"
     ]
    }
   ],
   "source": [
    "N = 3 ##number of characters used to predict the next character\n",
    "\n",
    "xs, ys  = words_to_data(words[:], N)\n",
    "Xtr, Ytr, Xdev, Ydev = split_samples(xs, ys, 0.8)\n",
    "\n",
    "g = torch.Generator().manual_seed(2147483647)\n",
    "\n",
    "mlp = MLP(N)\n",
    "mlp.initialize_weights(100, 10, g, Xtr)\n",
    "\n",
    "\n",
    "losses, val_losses = [], []"
   ]
  },
  {
   "cell_type": "code",
   "execution_count": 377,
   "metadata": {},
   "outputs": [],
   "source": [
    "# LR Search\n",
    "lre = torch.linspace(-3, 0, 1000)\n",
    "lrs = 10**lre\n",
    "# lr_losses = []"
   ]
  },
  {
   "cell_type": "code",
   "execution_count": 50,
   "metadata": {},
   "outputs": [
    {
     "name": "stdout",
     "output_type": "stream",
     "text": [
      "losses:\n",
      "Step 0: Train - 2.47185 Dev - 2.44715\n",
      "Step 30: Train - 2.40508 Dev - 2.41072\n",
      "Step 60: Train - 2.3926 Dev - 2.39835\n",
      "Step 90: Train - 2.38272 Dev - 2.38846\n",
      "Step 120: Train - 2.37408 Dev - 2.37984\n",
      "Step 150: Train - 2.36627 Dev - 2.37208\n",
      "Step 180: Train - 2.35909 Dev - 2.36498\n",
      "Step 210: Train - 2.35241 Dev - 2.35841\n",
      "Step 240: Train - 2.34616 Dev - 2.35227\n",
      "Step 270: Train - 2.34026 Dev - 2.34651\n",
      "Step 299: Train - 2.33486 Dev - 2.34125\n"
     ]
    }
   ],
   "source": [
    "# TRAIN\n",
    "steps = 300\n",
    "batch_size = None\n",
    "\n",
    "\n",
    "print(\"losses:\")\n",
    "for k in range(steps):\n",
    "\n",
    "    # minibatching\n",
    "    if batch_size is not None:\n",
    "        batch_ix = torch.randint(0, Xtr.shape[0], (batch_size, )) ##n_samples randints between 0 and length of data\n",
    "    else:\n",
    "        batch_ix=range(0, Xtr.shape[0]) ##all data included\n",
    "\n",
    "    # forward pass\n",
    "    probs, loss = mlp.forward_pass(Xtr[batch_ix], Ytr[batch_ix])\n",
    "\n",
    "    # backward pass \n",
    "    lr = 10**-0.5 #lrs[k]\n",
    "        # if k > 500:\n",
    "        #     #if losses[k-1] - losses[k-2] < 0.01: \n",
    "        #     lr = 0.01\n",
    "    mlp.backprop_update(lr=lr)\n",
    "\n",
    "    # validation eval\n",
    "    with torch.no_grad():\n",
    "        _, val_loss = mlp.forward_pass(Xdev, Ydev)\n",
    "\n",
    "    # log updates & track stats\n",
    "    if (k in range(0, steps, int(steps*0.10))) or (k==steps-1):\n",
    "        print(f\"Step {k}:\", end=\" \")\n",
    "        print(f\"Train - {round(loss.item(), 5)}\", end=\" \")\n",
    "        print(f\"Dev - {round(val_loss.item(), 5)}\")\n",
    "    \n",
    "\n",
    "    losses.append(loss.item())\n",
    "    val_losses.append(val_loss.item())\n",
    "    # lr_losses.append(loss.item())"
   ]
  },
  {
   "cell_type": "code",
   "execution_count": 51,
   "metadata": {},
   "outputs": [
    {
     "data": {
      "image/png": "[encoded data removed]",
      "text/plain": [
       "<Figure size 432x288 with 1 Axes>"
      ]
     },
     "metadata": {
      "needs_background": "light"
     },
     "output_type": "display_data"
    }
   ],
   "source": [
    "plt.plot(losses, label=\"train\")\n",
    "plt.plot(val_losses, label=\"val\")\n",
    "plt.legend()\n",
    "plt.title(\"Loss\")\n",
    "plt.show()"
   ]
  },
  {
   "cell_type": "code",
   "execution_count": 52,
   "metadata": {},
   "outputs": [
    {
     "ename": "NameError",
     "evalue": "name 'lre' is not defined",
     "output_type": "error",
     "traceback": [
      "\u001b[1;31m---------------------------------------------------------------------------\u001b[0m",
      "\u001b[1;31mNameError\u001b[0m                                 Traceback (most recent call last)",
      "\u001b[1;32mc:\\Users\\hanse\\Documents\\python\\projects\\python-ml\\makemore\\implement\\MLP.ipynb Cell 15\u001b[0m in \u001b[0;36m<cell line: 1>\u001b[1;34m()\u001b[0m\n\u001b[1;32m----> <a href='vscode-notebook-cell:/c%3A/Users/hanse/Documents/python/projects/python-ml/makemore/implement/MLP.ipynb#X20sZmlsZQ%3D%3D?line=0'>1</a>\u001b[0m plt\u001b[39m.\u001b[39mplot(lre, [math\u001b[39m.\u001b[39mlog10(l) \u001b[39mfor\u001b[39;00m l \u001b[39min\u001b[39;00m lr_losses])\n\u001b[0;32m      <a href='vscode-notebook-cell:/c%3A/Users/hanse/Documents/python/projects/python-ml/makemore/implement/MLP.ipynb#X20sZmlsZQ%3D%3D?line=1'>2</a>\u001b[0m plt\u001b[39m.\u001b[39mtitle(\u001b[39m\"\u001b[39m\u001b[39mLR Search - 10^-0.5 looks best\u001b[39m\u001b[39m\"\u001b[39m)\n\u001b[0;32m      <a href='vscode-notebook-cell:/c%3A/Users/hanse/Documents/python/projects/python-ml/makemore/implement/MLP.ipynb#X20sZmlsZQ%3D%3D?line=2'>3</a>\u001b[0m plt\u001b[39m.\u001b[39mshow()\n",
      "\u001b[1;31mNameError\u001b[0m: name 'lre' is not defined"
     ]
    }
   ],
   "source": [
    "plt.plot(lre, [math.log10(l) for l in lr_losses])\n",
    "plt.title(\"LR Search - 10^-0.5 looks best\")\n",
    "plt.show()"
   ]
  },
  {
   "cell_type": "code",
   "execution_count": 53,
   "metadata": {},
   "outputs": [
    {
     "data": {
      "text/plain": [
       "['.rauro.',\n",
       " '.cass.',\n",
       " '.laleis.',\n",
       " '.tes.',\n",
       " '.land.',\n",
       " '.lynu.',\n",
       " '.kevive.',\n",
       " '.gricl.',\n",
       " '.vosi.',\n",
       " '.sth.',\n",
       " '.kenem.',\n",
       " '.navoutixe.',\n",
       " '.dedh.',\n",
       " '.ani.',\n",
       " '.madissa.']"
      ]
     },
     "execution_count": 53,
     "metadata": {},
     "output_type": "execute_result"
    }
   ],
   "source": [
    "# GENERATE NAMES\n",
    "mlp.generate_words(15, min_length=0, start_chrs=None)"
   ]
  },
  {
   "cell_type": "code",
   "execution_count": 54,
   "metadata": {},
   "outputs": [],
   "source": [
    "# Measure the test accuracy of predictions following each character & plot\n",
    "char_acc = dict()\n",
    "n_preds = dict()\n",
    "for l in list(stoi.values()):\n",
    "    tot_samples = 0\n",
    "    correct = 0\n",
    "    n_preds[itos[l]] = 0\n",
    "    inds = torch.where(Xdev == l)[0]\n",
    "    for sample, label in zip(Xdev[inds], Ydev[inds]):\n",
    "        tot_samples += 1\n",
    "        probs, loss = mlp.forward_pass(sample, torch.tensor([label.item()]))\n",
    "        pred = torch.argmax(probs)\n",
    "        n_preds[itos[l]] += 1\n",
    "        if pred.item() == label.item(): correct += 1\n",
    "\n",
    "    char_acc[itos[l]] = correct/tot_samples"
   ]
  },
  {
   "cell_type": "code",
   "execution_count": 55,
   "metadata": {},
   "outputs": [
    {
     "data": {
      "image/png": "[encoded data removed]",
      "text/plain": [
       "<Figure size 1080x360 with 2 Axes>"
      ]
     },
     "metadata": {
      "needs_background": "light"
     },
     "output_type": "display_data"
    }
   ],
   "source": [
    "# Test Performance\n",
    "\n",
    "fig, ax = plt.subplots(1, 2, figsize=(15,5))\n",
    "ax[0].bar(range(len(char_acc)), list(char_acc.values()), align='center')\n",
    "ax[0].set_xticks(range(len(char_acc)), list(char_acc.keys()))\n",
    "ax[0].set_title(\"Accuracy\")\n",
    "\n",
    "ax[1].bar(range(len(n_preds)), list(n_preds.values()), align='center')\n",
    "ax[1].set_xticks(range(len(n_preds)), list(n_preds.keys()))\n",
    "ax[1].set_title(\"# Predictions\")\n",
    "\n",
    "\n",
    "plt.show()"
   ]
  }
 ],
 "metadata": {
  "kernelspec": {
   "display_name": "Python 3.10.4 ('.venv': venv)",
   "language": "python",
   "name": "python3"
  },
  "language_info": {
   "codemirror_mode": {
    "name": "ipython",
    "version": 3
   },
   "file_extension": ".py",
   "mimetype": "text/x-python",
   "name": "python",
   "nbconvert_exporter": "python",
   "pygments_lexer": "ipython3",
   "version": "3.10.4"
  },
  "orig_nbformat": 4,
  "vscode": {
   "interpreter": {
    "hash": "5c4359ed68c894e31dfa741bacd50703ee9ca4c289f19062f47d11ef9a0ee7ac"
   }
  }
 },
 "nbformat": 4,
 "nbformat_minor": 2
}
